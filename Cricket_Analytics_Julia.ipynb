{
  "cells": [
    {
      "cell_type": "code",
      "execution_count": null,
      "id": "d20a8273",
      "metadata": {
        "tags": [],
        "id": "d20a8273"
      },
      "outputs": [],
      "source": [
        "using DataFrames, XLSX, Statistics"
      ]
    },
    {
      "cell_type": "code",
      "execution_count": null,
      "id": "fb6658ad",
      "metadata": {
        "tags": [],
        "id": "fb6658ad",
        "outputId": "87d4e2c6-27e9-4faa-fb8a-7debd8ce0515"
      },
      "outputs": [
        {
          "data": {
            "text/html": [
              "<div><div style = \"float: left;\"><span>48×3 DataFrame</span></div><div style = \"float: right;\"><span style = \"font-style: italic;\">23 rows omitted</span></div><div style = \"clear: both;\"></div></div><div class = \"data-frame\" style = \"overflow-x: scroll;\"><table class = \"data-frame\" style = \"margin-bottom: 6px;\"><thead><tr class = \"header\"><th class = \"rowNumber\" style = \"font-weight: bold; text-align: right;\">Row</th><th style = \"text-align: left;\">Player_Name</th><th style = \"text-align: left;\">Player_Nation</th><th style = \"text-align: left;\">ICC_Batting_Points</th></tr><tr class = \"subheader headerLastRow\"><th class = \"rowNumber\" style = \"font-weight: bold; text-align: right;\"></th><th title = \"Any\" style = \"text-align: left;\">Any</th><th title = \"Any\" style = \"text-align: left;\">Any</th><th title = \"Any\" style = \"text-align: left;\">Any</th></tr></thead><tbody><tr><td class = \"rowNumber\" style = \"font-weight: bold; text-align: right;\">1</td><td style = \"text-align: left;\">Babar Azam</td><td style = \"text-align: left;\">PAK</td><td style = \"text-align: left;\">857</td></tr><tr><td class = \"rowNumber\" style = \"font-weight: bold; text-align: right;\">2</td><td style = \"text-align: left;\">Shubman Gill</td><td style = \"text-align: left;\">IND</td><td style = \"text-align: left;\">839</td></tr><tr><td class = \"rowNumber\" style = \"font-weight: bold; text-align: right;\">3</td><td style = \"text-align: left;\">Rassie van der Dussen</td><td style = \"text-align: left;\">SA</td><td style = \"text-align: left;\">743</td></tr><tr><td class = \"rowNumber\" style = \"font-weight: bold; text-align: right;\">4</td><td style = \"text-align: left;\">Harry Tector</td><td style = \"text-align: left;\">IRE</td><td style = \"text-align: left;\">735</td></tr><tr><td class = \"rowNumber\" style = \"font-weight: bold; text-align: right;\">5</td><td style = \"text-align: left;\">David Warner</td><td style = \"text-align: left;\">AUS</td><td style = \"text-align: left;\">729</td></tr><tr><td class = \"rowNumber\" style = \"font-weight: bold; text-align: right;\">6</td><td style = \"text-align: left;\">Imam-ul-Haq</td><td style = \"text-align: left;\">PAK</td><td style = \"text-align: left;\">728</td></tr><tr><td class = \"rowNumber\" style = \"font-weight: bold; text-align: right;\">7</td><td style = \"text-align: left;\">Quinton de Kock</td><td style = \"text-align: left;\">SA</td><td style = \"text-align: left;\">714</td></tr><tr><td class = \"rowNumber\" style = \"font-weight: bold; text-align: right;\">8</td><td style = \"text-align: left;\">Heinrich Klaasen</td><td style = \"text-align: left;\">SA</td><td style = \"text-align: left;\">698</td></tr><tr><td class = \"rowNumber\" style = \"font-weight: bold; text-align: right;\">9</td><td style = \"text-align: left;\">Virat Kohli</td><td style = \"text-align: left;\">IND</td><td style = \"text-align: left;\">696</td></tr><tr><td class = \"rowNumber\" style = \"font-weight: bold; text-align: right;\">10</td><td style = \"text-align: left;\">Rohit Sharma</td><td style = \"text-align: left;\">IND</td><td style = \"text-align: left;\">695</td></tr><tr><td class = \"rowNumber\" style = \"font-weight: bold; text-align: right;\">11</td><td style = \"text-align: left;\">Fakhar Zaman</td><td style = \"text-align: left;\">PAK</td><td style = \"text-align: left;\">692</td></tr><tr><td class = \"rowNumber\" style = \"font-weight: bold; text-align: right;\">12</td><td style = \"text-align: left;\">Steve Smith</td><td style = \"text-align: left;\">AUS</td><td style = \"text-align: left;\">669</td></tr><tr><td class = \"rowNumber\" style = \"font-weight: bold; text-align: right;\">13</td><td style = \"text-align: left;\">Temba Bavuma</td><td style = \"text-align: left;\">SA</td><td style = \"text-align: left;\">668</td></tr><tr><td style = \"text-align: right;\">&vellip;</td><td style = \"text-align: right;\">&vellip;</td><td style = \"text-align: right;\">&vellip;</td><td style = \"text-align: right;\">&vellip;</td></tr><tr><td class = \"rowNumber\" style = \"font-weight: bold; text-align: right;\">37</td><td style = \"text-align: left;\">Scott Edwards</td><td style = \"text-align: left;\">NED</td><td style = \"text-align: left;\">577</td></tr><tr><td class = \"rowNumber\" style = \"font-weight: bold; text-align: right;\">38</td><td style = \"text-align: left;\">Ben Stokes</td><td style = \"text-align: left;\">ENG</td><td style = \"text-align: left;\">576</td></tr><tr><td class = \"rowNumber\" style = \"font-weight: bold; text-align: right;\">39</td><td style = \"text-align: left;\">Rahmat Shah</td><td style = \"text-align: left;\">AFG</td><td style = \"text-align: left;\">574</td></tr><tr><td class = \"rowNumber\" style = \"font-weight: bold; text-align: right;\">40</td><td style = \"text-align: left;\">Tamim Iqbal</td><td style = \"text-align: left;\">BAN</td><td style = \"text-align: left;\">572</td></tr><tr><td class = \"rowNumber\" style = \"font-weight: bold; text-align: right;\">41</td><td style = \"text-align: left;\">Kyle Coetzer</td><td style = \"text-align: left;\">SCO</td><td style = \"text-align: left;\">566</td></tr><tr><td class = \"rowNumber\" style = \"font-weight: bold; text-align: right;\">42</td><td style = \"text-align: left;\">Glenn Maxwell</td><td style = \"text-align: left;\">AUS</td><td style = \"text-align: left;\">563</td></tr><tr><td class = \"rowNumber\" style = \"font-weight: bold; text-align: right;\">43</td><td style = \"text-align: left;\">Daryl Mitchell</td><td style = \"text-align: left;\">NZ</td><td style = \"text-align: left;\">560</td></tr><tr><td class = \"rowNumber\" style = \"font-weight: bold; text-align: right;\">44</td><td style = \"text-align: left;\">Mohammad Rizwan</td><td style = \"text-align: left;\">PAK</td><td style = \"text-align: left;\">548</td></tr><tr><td class = \"rowNumber\" style = \"font-weight: bold; text-align: right;\">45</td><td style = \"text-align: left;\">Kusal Mendis</td><td style = \"text-align: left;\">SL</td><td style = \"text-align: left;\">545</td></tr><tr><td class = \"rowNumber\" style = \"font-weight: bold; text-align: right;\">46</td><td style = \"text-align: left;\">Litton Das</td><td style = \"text-align: left;\">BAN</td><td style = \"text-align: left;\">534</td></tr><tr><td class = \"rowNumber\" style = \"font-weight: bold; text-align: right;\">47</td><td style = \"text-align: left;\">Mitchell Marsh</td><td style = \"text-align: left;\">AUS</td><td style = \"text-align: left;\">534</td></tr><tr><td class = \"rowNumber\" style = \"font-weight: bold; text-align: right;\">48</td><td style = \"text-align: left;\">Hardik Pandya</td><td style = \"text-align: left;\">IND</td><td style = \"text-align: left;\">481</td></tr></tbody></table></div>"
            ],
            "text/latex": [
              "\\begin{tabular}{r|ccc}\n",
              "\t& Player\\_Name & Player\\_Nation & ICC\\_Batting\\_Points\\\\\n",
              "\t\\hline\n",
              "\t& Any & Any & Any\\\\\n",
              "\t\\hline\n",
              "\t1 & Babar Azam & PAK & 857 \\\\\n",
              "\t2 & Shubman Gill & IND & 839 \\\\\n",
              "\t3 & Rassie van der Dussen & SA & 743 \\\\\n",
              "\t4 & Harry Tector & IRE & 735 \\\\\n",
              "\t5 & David Warner & AUS & 729 \\\\\n",
              "\t6 & Imam-ul-Haq & PAK & 728 \\\\\n",
              "\t7 & Quinton de Kock & SA & 714 \\\\\n",
              "\t8 & Heinrich Klaasen & SA & 698 \\\\\n",
              "\t9 & Virat Kohli & IND & 696 \\\\\n",
              "\t10 & Rohit Sharma & IND & 695 \\\\\n",
              "\t11 & Fakhar Zaman & PAK & 692 \\\\\n",
              "\t12 & Steve Smith & AUS & 669 \\\\\n",
              "\t13 & Temba Bavuma & SA & 668 \\\\\n",
              "\t14 & Dawid Malan & ENG & 662 \\\\\n",
              "\t15 & David Miller & SA & 656 \\\\\n",
              "\t16 & Jos Buttler & ENG & 654 \\\\\n",
              "\t17 & Ibrahim Zadran & AFG & 644 \\\\\n",
              "\t18 & Jason Roy & ENG & 642 \\\\\n",
              "\t19 & Sikandar Raza & ZIM & 636 \\\\\n",
              "\t20 & Mushfiqur Rahim & BAN & 622 \\\\\n",
              "\t21 & Jonny Bairstow & ENG & 620 \\\\\n",
              "\t22 & Brendan Taylor & ZIM & 15 \\\\\n",
              "\t23 & Shreyas Iyer & IND & 611 \\\\\n",
              "\t24 & Travis Head & AUS & 611 \\\\\n",
              "\t25 & Ishan Kishan & IND & 609 \\\\\n",
              "\t26 & Pathum Nissanka & SL & 608 \\\\\n",
              "\t27 & Kane Williamson & NZ & 608 \\\\\n",
              "\t28 & Marnus Labuschagne & AUS & 602 \\\\\n",
              "\t29 & Shai Hope & WI & 602 \\\\\n",
              "\t30 & Aiden Markram & SA & 601 \\\\\n",
              "\t$\\dots$ & $\\dots$ & $\\dots$ & $\\dots$ \\\\\n",
              "\\end{tabular}\n"
            ],
            "text/plain": [
              "\u001b[1m48×3 DataFrame\u001b[0m\n",
              "\u001b[1m Row \u001b[0m│\u001b[1m Player_Name           \u001b[0m\u001b[1m Player_Nation \u001b[0m\u001b[1m ICC_Batting_Points \u001b[0m\n",
              "     │\u001b[90m Any                   \u001b[0m\u001b[90m Any           \u001b[0m\u001b[90m Any                \u001b[0m\n",
              "─────┼──────────────────────────────────────────────────────────\n",
              "   1 │ Babar Azam             PAK            857\n",
              "   2 │ Shubman Gill           IND            839\n",
              "   3 │ Rassie van der Dussen  SA             743\n",
              "   4 │ Harry Tector           IRE            735\n",
              "   5 │ David Warner           AUS            729\n",
              "   6 │ Imam-ul-Haq            PAK            728\n",
              "   7 │ Quinton de Kock        SA             714\n",
              "   8 │ Heinrich Klaasen       SA             698\n",
              "   9 │ Virat Kohli            IND            696\n",
              "  10 │ Rohit Sharma           IND            695\n",
              "  11 │ Fakhar Zaman           PAK            692\n",
              "  ⋮  │           ⋮                  ⋮                ⋮\n",
              "  39 │ Rahmat Shah            AFG            574\n",
              "  40 │ Tamim Iqbal            BAN            572\n",
              "  41 │ Kyle Coetzer           SCO            566\n",
              "  42 │ Glenn Maxwell          AUS            563\n",
              "  43 │ Daryl Mitchell         NZ             560\n",
              "  44 │ Mohammad Rizwan        PAK            548\n",
              "  45 │ Kusal Mendis           SL             545\n",
              "  46 │ Litton Das             BAN            534\n",
              "  47 │ Mitchell Marsh         AUS            534\n",
              "  48 │ Hardik Pandya          IND            481\n",
              "\u001b[36m                                                 27 rows omitted\u001b[0m"
            ]
          },
          "execution_count": 2,
          "metadata": {},
          "output_type": "execute_result"
        }
      ],
      "source": [
        "# Read the dataset of cricket players and their ICC batting points from \"batsmen_new.xlsx\"\n",
        "xlsx_file = \"batsmen_new.xlsx\"\n",
        "df = DataFrame(XLSX.readtable(xlsx_file, \"Sheet1\"))"
      ]
    },
    {
      "cell_type": "code",
      "execution_count": null,
      "id": "28b50d89",
      "metadata": {
        "tags": [],
        "id": "28b50d89",
        "outputId": "37dde3f7-153c-4282-a2cc-ad3346929f10"
      },
      "outputs": [
        {
          "data": {
            "text/html": [
              "<div><div style = \"float: left;\"><span>48×3 DataFrame</span></div><div style = \"float: right;\"><span style = \"font-style: italic;\">23 rows omitted</span></div><div style = \"clear: both;\"></div></div><div class = \"data-frame\" style = \"overflow-x: scroll;\"><table class = \"data-frame\" style = \"margin-bottom: 6px;\"><thead><tr class = \"header\"><th class = \"rowNumber\" style = \"font-weight: bold; text-align: right;\">Row</th><th style = \"text-align: left;\">Player_Name</th><th style = \"text-align: left;\">Player_Nation</th><th style = \"text-align: left;\">ICC_Batting_Points</th></tr><tr class = \"subheader headerLastRow\"><th class = \"rowNumber\" style = \"font-weight: bold; text-align: right;\"></th><th title = \"Any\" style = \"text-align: left;\">Any</th><th title = \"Any\" style = \"text-align: left;\">Any</th><th title = \"Any\" style = \"text-align: left;\">Any</th></tr></thead><tbody><tr><td class = \"rowNumber\" style = \"font-weight: bold; text-align: right;\">1</td><td style = \"text-align: left;\">Babar Azam</td><td style = \"text-align: left;\">PAK</td><td style = \"text-align: left;\">857</td></tr><tr><td class = \"rowNumber\" style = \"font-weight: bold; text-align: right;\">2</td><td style = \"text-align: left;\">Shubman Gill</td><td style = \"text-align: left;\">IND</td><td style = \"text-align: left;\">839</td></tr><tr><td class = \"rowNumber\" style = \"font-weight: bold; text-align: right;\">3</td><td style = \"text-align: left;\">Rassie van der Dussen</td><td style = \"text-align: left;\">SA</td><td style = \"text-align: left;\">743</td></tr><tr><td class = \"rowNumber\" style = \"font-weight: bold; text-align: right;\">4</td><td style = \"text-align: left;\">Harry Tector</td><td style = \"text-align: left;\">IRE</td><td style = \"text-align: left;\">735</td></tr><tr><td class = \"rowNumber\" style = \"font-weight: bold; text-align: right;\">5</td><td style = \"text-align: left;\">David Warner</td><td style = \"text-align: left;\">AUS</td><td style = \"text-align: left;\">729</td></tr><tr><td class = \"rowNumber\" style = \"font-weight: bold; text-align: right;\">6</td><td style = \"text-align: left;\">Imam-ul-Haq</td><td style = \"text-align: left;\">PAK</td><td style = \"text-align: left;\">728</td></tr><tr><td class = \"rowNumber\" style = \"font-weight: bold; text-align: right;\">7</td><td style = \"text-align: left;\">Quinton de Kock</td><td style = \"text-align: left;\">SA</td><td style = \"text-align: left;\">714</td></tr><tr><td class = \"rowNumber\" style = \"font-weight: bold; text-align: right;\">8</td><td style = \"text-align: left;\">Heinrich Klaasen</td><td style = \"text-align: left;\">SA</td><td style = \"text-align: left;\">698</td></tr><tr><td class = \"rowNumber\" style = \"font-weight: bold; text-align: right;\">9</td><td style = \"text-align: left;\">Virat Kohli</td><td style = \"text-align: left;\">IND</td><td style = \"text-align: left;\">696</td></tr><tr><td class = \"rowNumber\" style = \"font-weight: bold; text-align: right;\">10</td><td style = \"text-align: left;\">Rohit Sharma</td><td style = \"text-align: left;\">IND</td><td style = \"text-align: left;\">695</td></tr><tr><td class = \"rowNumber\" style = \"font-weight: bold; text-align: right;\">11</td><td style = \"text-align: left;\">Fakhar Zaman</td><td style = \"text-align: left;\">PAK</td><td style = \"text-align: left;\">692</td></tr><tr><td class = \"rowNumber\" style = \"font-weight: bold; text-align: right;\">12</td><td style = \"text-align: left;\">Steve Smith</td><td style = \"text-align: left;\">AUS</td><td style = \"text-align: left;\">669</td></tr><tr><td class = \"rowNumber\" style = \"font-weight: bold; text-align: right;\">13</td><td style = \"text-align: left;\">Temba Bavuma</td><td style = \"text-align: left;\">SA</td><td style = \"text-align: left;\">668</td></tr><tr><td style = \"text-align: right;\">&vellip;</td><td style = \"text-align: right;\">&vellip;</td><td style = \"text-align: right;\">&vellip;</td><td style = \"text-align: right;\">&vellip;</td></tr><tr><td class = \"rowNumber\" style = \"font-weight: bold; text-align: right;\">37</td><td style = \"text-align: left;\">Scott Edwards</td><td style = \"text-align: left;\">NED</td><td style = \"text-align: left;\">577</td></tr><tr><td class = \"rowNumber\" style = \"font-weight: bold; text-align: right;\">38</td><td style = \"text-align: left;\">Ben Stokes</td><td style = \"text-align: left;\">ENG</td><td style = \"text-align: left;\">576</td></tr><tr><td class = \"rowNumber\" style = \"font-weight: bold; text-align: right;\">39</td><td style = \"text-align: left;\">Rahmat Shah</td><td style = \"text-align: left;\">AFG</td><td style = \"text-align: left;\">574</td></tr><tr><td class = \"rowNumber\" style = \"font-weight: bold; text-align: right;\">40</td><td style = \"text-align: left;\">Tamim Iqbal</td><td style = \"text-align: left;\">BAN</td><td style = \"text-align: left;\">572</td></tr><tr><td class = \"rowNumber\" style = \"font-weight: bold; text-align: right;\">41</td><td style = \"text-align: left;\">Kyle Coetzer</td><td style = \"text-align: left;\">SCO</td><td style = \"text-align: left;\">566</td></tr><tr><td class = \"rowNumber\" style = \"font-weight: bold; text-align: right;\">42</td><td style = \"text-align: left;\">Glenn Maxwell</td><td style = \"text-align: left;\">AUS</td><td style = \"text-align: left;\">563</td></tr><tr><td class = \"rowNumber\" style = \"font-weight: bold; text-align: right;\">43</td><td style = \"text-align: left;\">Daryl Mitchell</td><td style = \"text-align: left;\">NZ</td><td style = \"text-align: left;\">560</td></tr><tr><td class = \"rowNumber\" style = \"font-weight: bold; text-align: right;\">44</td><td style = \"text-align: left;\">Mohammad Rizwan</td><td style = \"text-align: left;\">PAK</td><td style = \"text-align: left;\">548</td></tr><tr><td class = \"rowNumber\" style = \"font-weight: bold; text-align: right;\">45</td><td style = \"text-align: left;\">Kusal Mendis</td><td style = \"text-align: left;\">SL</td><td style = \"text-align: left;\">545</td></tr><tr><td class = \"rowNumber\" style = \"font-weight: bold; text-align: right;\">46</td><td style = \"text-align: left;\">Litton Das</td><td style = \"text-align: left;\">BAN</td><td style = \"text-align: left;\">534</td></tr><tr><td class = \"rowNumber\" style = \"font-weight: bold; text-align: right;\">47</td><td style = \"text-align: left;\">Mitchell Marsh</td><td style = \"text-align: left;\">AUS</td><td style = \"text-align: left;\">534</td></tr><tr><td class = \"rowNumber\" style = \"font-weight: bold; text-align: right;\">48</td><td style = \"text-align: left;\">Hardik Pandya</td><td style = \"text-align: left;\">IND</td><td style = \"text-align: left;\">481</td></tr></tbody></table></div>"
            ],
            "text/latex": [
              "\\begin{tabular}{r|ccc}\n",
              "\t& Player\\_Name & Player\\_Nation & ICC\\_Batting\\_Points\\\\\n",
              "\t\\hline\n",
              "\t& Any & Any & Any\\\\\n",
              "\t\\hline\n",
              "\t1 & Babar Azam & PAK & 857 \\\\\n",
              "\t2 & Shubman Gill & IND & 839 \\\\\n",
              "\t3 & Rassie van der Dussen & SA & 743 \\\\\n",
              "\t4 & Harry Tector & IRE & 735 \\\\\n",
              "\t5 & David Warner & AUS & 729 \\\\\n",
              "\t6 & Imam-ul-Haq & PAK & 728 \\\\\n",
              "\t7 & Quinton de Kock & SA & 714 \\\\\n",
              "\t8 & Heinrich Klaasen & SA & 698 \\\\\n",
              "\t9 & Virat Kohli & IND & 696 \\\\\n",
              "\t10 & Rohit Sharma & IND & 695 \\\\\n",
              "\t11 & Fakhar Zaman & PAK & 692 \\\\\n",
              "\t12 & Steve Smith & AUS & 669 \\\\\n",
              "\t13 & Temba Bavuma & SA & 668 \\\\\n",
              "\t14 & Dawid Malan & ENG & 662 \\\\\n",
              "\t15 & David Miller & SA & 656 \\\\\n",
              "\t16 & Jos Buttler & ENG & 654 \\\\\n",
              "\t17 & Ibrahim Zadran & AFG & 644 \\\\\n",
              "\t18 & Jason Roy & ENG & 642 \\\\\n",
              "\t19 & Sikandar Raza & ZIM & 636 \\\\\n",
              "\t20 & Mushfiqur Rahim & BAN & 622 \\\\\n",
              "\t21 & Jonny Bairstow & ENG & 620 \\\\\n",
              "\t22 & Brendan Taylor & ZIM & 15 \\\\\n",
              "\t23 & Shreyas Iyer & IND & 611 \\\\\n",
              "\t24 & Travis Head & AUS & 611 \\\\\n",
              "\t25 & Ishan Kishan & IND & 609 \\\\\n",
              "\t26 & Pathum Nissanka & SL & 608 \\\\\n",
              "\t27 & Kane Williamson & NZ & 608 \\\\\n",
              "\t28 & Marnus Labuschagne & AUS & 602 \\\\\n",
              "\t29 & Shai Hope & WI & 602 \\\\\n",
              "\t30 & Aiden Markram & SA & 601 \\\\\n",
              "\t$\\dots$ & $\\dots$ & $\\dots$ & $\\dots$ \\\\\n",
              "\\end{tabular}\n"
            ],
            "text/plain": [
              "\u001b[1m48×3 DataFrame\u001b[0m\n",
              "\u001b[1m Row \u001b[0m│\u001b[1m Player_Name           \u001b[0m\u001b[1m Player_Nation \u001b[0m\u001b[1m ICC_Batting_Points \u001b[0m\n",
              "     │\u001b[90m Any                   \u001b[0m\u001b[90m Any           \u001b[0m\u001b[90m Any                \u001b[0m\n",
              "─────┼──────────────────────────────────────────────────────────\n",
              "   1 │ Babar Azam             PAK            857\n",
              "   2 │ Shubman Gill           IND            839\n",
              "   3 │ Rassie van der Dussen  SA             743\n",
              "   4 │ Harry Tector           IRE            735\n",
              "   5 │ David Warner           AUS            729\n",
              "   6 │ Imam-ul-Haq            PAK            728\n",
              "   7 │ Quinton de Kock        SA             714\n",
              "   8 │ Heinrich Klaasen       SA             698\n",
              "   9 │ Virat Kohli            IND            696\n",
              "  10 │ Rohit Sharma           IND            695\n",
              "  11 │ Fakhar Zaman           PAK            692\n",
              "  ⋮  │           ⋮                  ⋮                ⋮\n",
              "  39 │ Rahmat Shah            AFG            574\n",
              "  40 │ Tamim Iqbal            BAN            572\n",
              "  41 │ Kyle Coetzer           SCO            566\n",
              "  42 │ Glenn Maxwell          AUS            563\n",
              "  43 │ Daryl Mitchell         NZ             560\n",
              "  44 │ Mohammad Rizwan        PAK            548\n",
              "  45 │ Kusal Mendis           SL             545\n",
              "  46 │ Litton Das             BAN            534\n",
              "  47 │ Mitchell Marsh         AUS            534\n",
              "  48 │ Hardik Pandya          IND            481\n",
              "\u001b[36m                                                 27 rows omitted\u001b[0m"
            ]
          },
          "execution_count": 3,
          "metadata": {},
          "output_type": "execute_result"
        }
      ],
      "source": [
        "# Drop all the rows with NaN scores\n",
        "df = dropmissing(df)"
      ]
    },
    {
      "cell_type": "code",
      "execution_count": null,
      "id": "5028a9f6",
      "metadata": {
        "tags": [],
        "id": "5028a9f6",
        "outputId": "8f0b981e-ed75-4df1-a67c-51320118b8dd"
      },
      "outputs": [
        {
          "data": {
            "text/html": [
              "<div><div style = \"float: left;\"><span>48×3 DataFrame</span></div><div style = \"float: right;\"><span style = \"font-style: italic;\">23 rows omitted</span></div><div style = \"clear: both;\"></div></div><div class = \"data-frame\" style = \"overflow-x: scroll;\"><table class = \"data-frame\" style = \"margin-bottom: 6px;\"><thead><tr class = \"header\"><th class = \"rowNumber\" style = \"font-weight: bold; text-align: right;\">Row</th><th style = \"text-align: left;\">Player_Name</th><th style = \"text-align: left;\">Player_Nation</th><th style = \"text-align: left;\">ICC_Batting_Points</th></tr><tr class = \"subheader headerLastRow\"><th class = \"rowNumber\" style = \"font-weight: bold; text-align: right;\"></th><th title = \"Any\" style = \"text-align: left;\">Any</th><th title = \"Any\" style = \"text-align: left;\">Any</th><th title = \"Any\" style = \"text-align: left;\">Any</th></tr></thead><tbody><tr><td class = \"rowNumber\" style = \"font-weight: bold; text-align: right;\">1</td><td style = \"text-align: left;\">Babar Azam</td><td style = \"text-align: left;\">PAK</td><td style = \"text-align: left;\">857</td></tr><tr><td class = \"rowNumber\" style = \"font-weight: bold; text-align: right;\">2</td><td style = \"text-align: left;\">Shubman Gill</td><td style = \"text-align: left;\">IND</td><td style = \"text-align: left;\">839</td></tr><tr><td class = \"rowNumber\" style = \"font-weight: bold; text-align: right;\">3</td><td style = \"text-align: left;\">Rassie van der Dussen</td><td style = \"text-align: left;\">SA</td><td style = \"text-align: left;\">743</td></tr><tr><td class = \"rowNumber\" style = \"font-weight: bold; text-align: right;\">4</td><td style = \"text-align: left;\">Harry Tector</td><td style = \"text-align: left;\">IRE</td><td style = \"text-align: left;\">735</td></tr><tr><td class = \"rowNumber\" style = \"font-weight: bold; text-align: right;\">5</td><td style = \"text-align: left;\">David Warner</td><td style = \"text-align: left;\">AUS</td><td style = \"text-align: left;\">729</td></tr><tr><td class = \"rowNumber\" style = \"font-weight: bold; text-align: right;\">6</td><td style = \"text-align: left;\">Imam-ul-Haq</td><td style = \"text-align: left;\">PAK</td><td style = \"text-align: left;\">728</td></tr><tr><td class = \"rowNumber\" style = \"font-weight: bold; text-align: right;\">7</td><td style = \"text-align: left;\">Quinton de Kock</td><td style = \"text-align: left;\">SA</td><td style = \"text-align: left;\">714</td></tr><tr><td class = \"rowNumber\" style = \"font-weight: bold; text-align: right;\">8</td><td style = \"text-align: left;\">Heinrich Klaasen</td><td style = \"text-align: left;\">SA</td><td style = \"text-align: left;\">698</td></tr><tr><td class = \"rowNumber\" style = \"font-weight: bold; text-align: right;\">9</td><td style = \"text-align: left;\">Virat Kohli</td><td style = \"text-align: left;\">IND</td><td style = \"text-align: left;\">696</td></tr><tr><td class = \"rowNumber\" style = \"font-weight: bold; text-align: right;\">10</td><td style = \"text-align: left;\">Rohit Sharma</td><td style = \"text-align: left;\">IND</td><td style = \"text-align: left;\">695</td></tr><tr><td class = \"rowNumber\" style = \"font-weight: bold; text-align: right;\">11</td><td style = \"text-align: left;\">Fakhar Zaman</td><td style = \"text-align: left;\">PAK</td><td style = \"text-align: left;\">692</td></tr><tr><td class = \"rowNumber\" style = \"font-weight: bold; text-align: right;\">12</td><td style = \"text-align: left;\">Steve Smith</td><td style = \"text-align: left;\">AUS</td><td style = \"text-align: left;\">669</td></tr><tr><td class = \"rowNumber\" style = \"font-weight: bold; text-align: right;\">13</td><td style = \"text-align: left;\">Temba Bavuma</td><td style = \"text-align: left;\">SA</td><td style = \"text-align: left;\">668</td></tr><tr><td style = \"text-align: right;\">&vellip;</td><td style = \"text-align: right;\">&vellip;</td><td style = \"text-align: right;\">&vellip;</td><td style = \"text-align: right;\">&vellip;</td></tr><tr><td class = \"rowNumber\" style = \"font-weight: bold; text-align: right;\">37</td><td style = \"text-align: left;\">Ben Stokes</td><td style = \"text-align: left;\">ENG</td><td style = \"text-align: left;\">576</td></tr><tr><td class = \"rowNumber\" style = \"font-weight: bold; text-align: right;\">38</td><td style = \"text-align: left;\">Rahmat Shah</td><td style = \"text-align: left;\">AFG</td><td style = \"text-align: left;\">574</td></tr><tr><td class = \"rowNumber\" style = \"font-weight: bold; text-align: right;\">39</td><td style = \"text-align: left;\">Tamim Iqbal</td><td style = \"text-align: left;\">BAN</td><td style = \"text-align: left;\">572</td></tr><tr><td class = \"rowNumber\" style = \"font-weight: bold; text-align: right;\">40</td><td style = \"text-align: left;\">Kyle Coetzer</td><td style = \"text-align: left;\">SCO</td><td style = \"text-align: left;\">566</td></tr><tr><td class = \"rowNumber\" style = \"font-weight: bold; text-align: right;\">41</td><td style = \"text-align: left;\">Glenn Maxwell</td><td style = \"text-align: left;\">AUS</td><td style = \"text-align: left;\">563</td></tr><tr><td class = \"rowNumber\" style = \"font-weight: bold; text-align: right;\">42</td><td style = \"text-align: left;\">Daryl Mitchell</td><td style = \"text-align: left;\">NZ</td><td style = \"text-align: left;\">560</td></tr><tr><td class = \"rowNumber\" style = \"font-weight: bold; text-align: right;\">43</td><td style = \"text-align: left;\">Mohammad Rizwan</td><td style = \"text-align: left;\">PAK</td><td style = \"text-align: left;\">548</td></tr><tr><td class = \"rowNumber\" style = \"font-weight: bold; text-align: right;\">44</td><td style = \"text-align: left;\">Kusal Mendis</td><td style = \"text-align: left;\">SL</td><td style = \"text-align: left;\">545</td></tr><tr><td class = \"rowNumber\" style = \"font-weight: bold; text-align: right;\">45</td><td style = \"text-align: left;\">Litton Das</td><td style = \"text-align: left;\">BAN</td><td style = \"text-align: left;\">534</td></tr><tr><td class = \"rowNumber\" style = \"font-weight: bold; text-align: right;\">46</td><td style = \"text-align: left;\">Mitchell Marsh</td><td style = \"text-align: left;\">AUS</td><td style = \"text-align: left;\">534</td></tr><tr><td class = \"rowNumber\" style = \"font-weight: bold; text-align: right;\">47</td><td style = \"text-align: left;\">Hardik Pandya</td><td style = \"text-align: left;\">IND</td><td style = \"text-align: left;\">481</td></tr><tr><td class = \"rowNumber\" style = \"font-weight: bold; text-align: right;\">48</td><td style = \"text-align: left;\">Brendan Taylor</td><td style = \"text-align: left;\">ZIM</td><td style = \"text-align: left;\">15</td></tr></tbody></table></div>"
            ],
            "text/latex": [
              "\\begin{tabular}{r|ccc}\n",
              "\t& Player\\_Name & Player\\_Nation & ICC\\_Batting\\_Points\\\\\n",
              "\t\\hline\n",
              "\t& Any & Any & Any\\\\\n",
              "\t\\hline\n",
              "\t1 & Babar Azam & PAK & 857 \\\\\n",
              "\t2 & Shubman Gill & IND & 839 \\\\\n",
              "\t3 & Rassie van der Dussen & SA & 743 \\\\\n",
              "\t4 & Harry Tector & IRE & 735 \\\\\n",
              "\t5 & David Warner & AUS & 729 \\\\\n",
              "\t6 & Imam-ul-Haq & PAK & 728 \\\\\n",
              "\t7 & Quinton de Kock & SA & 714 \\\\\n",
              "\t8 & Heinrich Klaasen & SA & 698 \\\\\n",
              "\t9 & Virat Kohli & IND & 696 \\\\\n",
              "\t10 & Rohit Sharma & IND & 695 \\\\\n",
              "\t11 & Fakhar Zaman & PAK & 692 \\\\\n",
              "\t12 & Steve Smith & AUS & 669 \\\\\n",
              "\t13 & Temba Bavuma & SA & 668 \\\\\n",
              "\t14 & Dawid Malan & ENG & 662 \\\\\n",
              "\t15 & David Miller & SA & 656 \\\\\n",
              "\t16 & Jos Buttler & ENG & 654 \\\\\n",
              "\t17 & Ibrahim Zadran & AFG & 644 \\\\\n",
              "\t18 & Jason Roy & ENG & 642 \\\\\n",
              "\t19 & Sikandar Raza & ZIM & 636 \\\\\n",
              "\t20 & Mushfiqur Rahim & BAN & 622 \\\\\n",
              "\t21 & Jonny Bairstow & ENG & 620 \\\\\n",
              "\t22 & Shreyas Iyer & IND & 611 \\\\\n",
              "\t23 & Travis Head & AUS & 611 \\\\\n",
              "\t24 & Ishan Kishan & IND & 609 \\\\\n",
              "\t25 & Pathum Nissanka & SL & 608 \\\\\n",
              "\t26 & Kane Williamson & NZ & 608 \\\\\n",
              "\t27 & Marnus Labuschagne & AUS & 602 \\\\\n",
              "\t28 & Shai Hope & WI & 602 \\\\\n",
              "\t29 & Aiden Markram & SA & 601 \\\\\n",
              "\t30 & Lokesh Rahul & IND & 596 \\\\\n",
              "\t$\\dots$ & $\\dots$ & $\\dots$ & $\\dots$ \\\\\n",
              "\\end{tabular}\n"
            ],
            "text/plain": [
              "\u001b[1m48×3 DataFrame\u001b[0m\n",
              "\u001b[1m Row \u001b[0m│\u001b[1m Player_Name           \u001b[0m\u001b[1m Player_Nation \u001b[0m\u001b[1m ICC_Batting_Points \u001b[0m\n",
              "     │\u001b[90m Any                   \u001b[0m\u001b[90m Any           \u001b[0m\u001b[90m Any                \u001b[0m\n",
              "─────┼──────────────────────────────────────────────────────────\n",
              "   1 │ Babar Azam             PAK            857\n",
              "   2 │ Shubman Gill           IND            839\n",
              "   3 │ Rassie van der Dussen  SA             743\n",
              "   4 │ Harry Tector           IRE            735\n",
              "   5 │ David Warner           AUS            729\n",
              "   6 │ Imam-ul-Haq            PAK            728\n",
              "   7 │ Quinton de Kock        SA             714\n",
              "   8 │ Heinrich Klaasen       SA             698\n",
              "   9 │ Virat Kohli            IND            696\n",
              "  10 │ Rohit Sharma           IND            695\n",
              "  11 │ Fakhar Zaman           PAK            692\n",
              "  ⋮  │           ⋮                  ⋮                ⋮\n",
              "  39 │ Tamim Iqbal            BAN            572\n",
              "  40 │ Kyle Coetzer           SCO            566\n",
              "  41 │ Glenn Maxwell          AUS            563\n",
              "  42 │ Daryl Mitchell         NZ             560\n",
              "  43 │ Mohammad Rizwan        PAK            548\n",
              "  44 │ Kusal Mendis           SL             545\n",
              "  45 │ Litton Das             BAN            534\n",
              "  46 │ Mitchell Marsh         AUS            534\n",
              "  47 │ Hardik Pandya          IND            481\n",
              "  48 │ Brendan Taylor         ZIM            15\n",
              "\u001b[36m                                                 27 rows omitted\u001b[0m"
            ]
          },
          "execution_count": 4,
          "metadata": {},
          "output_type": "execute_result"
        }
      ],
      "source": [
        "# Sort the dataset by batting points in descending order\n",
        "sort!(df, :ICC_Batting_Points, rev=true)"
      ]
    },
    {
      "cell_type": "code",
      "execution_count": null,
      "id": "b0523763",
      "metadata": {
        "tags": [],
        "id": "b0523763",
        "outputId": "9fc65b46-8ccb-40ee-b56f-c37b0db7a8e3"
      },
      "outputs": [
        {
          "data": {
            "text/html": [
              "<div><div style = \"float: left;\"><span>48×4 DataFrame</span></div><div style = \"float: right;\"><span style = \"font-style: italic;\">23 rows omitted</span></div><div style = \"clear: both;\"></div></div><div class = \"data-frame\" style = \"overflow-x: scroll;\"><table class = \"data-frame\" style = \"margin-bottom: 6px;\"><thead><tr class = \"header\"><th class = \"rowNumber\" style = \"font-weight: bold; text-align: right;\">Row</th><th style = \"text-align: left;\">Player_Name</th><th style = \"text-align: left;\">Player_Nation</th><th style = \"text-align: left;\">ICC_Batting_Points</th><th style = \"text-align: left;\">Percentile_Rank</th></tr><tr class = \"subheader headerLastRow\"><th class = \"rowNumber\" style = \"font-weight: bold; text-align: right;\"></th><th title = \"Any\" style = \"text-align: left;\">Any</th><th title = \"Any\" style = \"text-align: left;\">Any</th><th title = \"Any\" style = \"text-align: left;\">Any</th><th title = \"Float64\" style = \"text-align: left;\">Float64</th></tr></thead><tbody><tr><td class = \"rowNumber\" style = \"font-weight: bold; text-align: right;\">1</td><td style = \"text-align: left;\">Babar Azam</td><td style = \"text-align: left;\">PAK</td><td style = \"text-align: left;\">857</td><td style = \"text-align: right;\">100.0</td></tr><tr><td class = \"rowNumber\" style = \"font-weight: bold; text-align: right;\">2</td><td style = \"text-align: left;\">Shubman Gill</td><td style = \"text-align: left;\">IND</td><td style = \"text-align: left;\">839</td><td style = \"text-align: right;\">97.9167</td></tr><tr><td class = \"rowNumber\" style = \"font-weight: bold; text-align: right;\">3</td><td style = \"text-align: left;\">Rassie van der Dussen</td><td style = \"text-align: left;\">SA</td><td style = \"text-align: left;\">743</td><td style = \"text-align: right;\">95.8333</td></tr><tr><td class = \"rowNumber\" style = \"font-weight: bold; text-align: right;\">4</td><td style = \"text-align: left;\">Harry Tector</td><td style = \"text-align: left;\">IRE</td><td style = \"text-align: left;\">735</td><td style = \"text-align: right;\">93.75</td></tr><tr><td class = \"rowNumber\" style = \"font-weight: bold; text-align: right;\">5</td><td style = \"text-align: left;\">David Warner</td><td style = \"text-align: left;\">AUS</td><td style = \"text-align: left;\">729</td><td style = \"text-align: right;\">91.6667</td></tr><tr><td class = \"rowNumber\" style = \"font-weight: bold; text-align: right;\">6</td><td style = \"text-align: left;\">Imam-ul-Haq</td><td style = \"text-align: left;\">PAK</td><td style = \"text-align: left;\">728</td><td style = \"text-align: right;\">89.5833</td></tr><tr><td class = \"rowNumber\" style = \"font-weight: bold; text-align: right;\">7</td><td style = \"text-align: left;\">Quinton de Kock</td><td style = \"text-align: left;\">SA</td><td style = \"text-align: left;\">714</td><td style = \"text-align: right;\">87.5</td></tr><tr><td class = \"rowNumber\" style = \"font-weight: bold; text-align: right;\">8</td><td style = \"text-align: left;\">Heinrich Klaasen</td><td style = \"text-align: left;\">SA</td><td style = \"text-align: left;\">698</td><td style = \"text-align: right;\">85.4167</td></tr><tr><td class = \"rowNumber\" style = \"font-weight: bold; text-align: right;\">9</td><td style = \"text-align: left;\">Virat Kohli</td><td style = \"text-align: left;\">IND</td><td style = \"text-align: left;\">696</td><td style = \"text-align: right;\">83.3333</td></tr><tr><td class = \"rowNumber\" style = \"font-weight: bold; text-align: right;\">10</td><td style = \"text-align: left;\">Rohit Sharma</td><td style = \"text-align: left;\">IND</td><td style = \"text-align: left;\">695</td><td style = \"text-align: right;\">81.25</td></tr><tr><td class = \"rowNumber\" style = \"font-weight: bold; text-align: right;\">11</td><td style = \"text-align: left;\">Fakhar Zaman</td><td style = \"text-align: left;\">PAK</td><td style = \"text-align: left;\">692</td><td style = \"text-align: right;\">79.1667</td></tr><tr><td class = \"rowNumber\" style = \"font-weight: bold; text-align: right;\">12</td><td style = \"text-align: left;\">Steve Smith</td><td style = \"text-align: left;\">AUS</td><td style = \"text-align: left;\">669</td><td style = \"text-align: right;\">77.0833</td></tr><tr><td class = \"rowNumber\" style = \"font-weight: bold; text-align: right;\">13</td><td style = \"text-align: left;\">Temba Bavuma</td><td style = \"text-align: left;\">SA</td><td style = \"text-align: left;\">668</td><td style = \"text-align: right;\">75.0</td></tr><tr><td style = \"text-align: right;\">&vellip;</td><td style = \"text-align: right;\">&vellip;</td><td style = \"text-align: right;\">&vellip;</td><td style = \"text-align: right;\">&vellip;</td><td style = \"text-align: right;\">&vellip;</td></tr><tr><td class = \"rowNumber\" style = \"font-weight: bold; text-align: right;\">37</td><td style = \"text-align: left;\">Ben Stokes</td><td style = \"text-align: left;\">ENG</td><td style = \"text-align: left;\">576</td><td style = \"text-align: right;\">25.0</td></tr><tr><td class = \"rowNumber\" style = \"font-weight: bold; text-align: right;\">38</td><td style = \"text-align: left;\">Rahmat Shah</td><td style = \"text-align: left;\">AFG</td><td style = \"text-align: left;\">574</td><td style = \"text-align: right;\">22.9167</td></tr><tr><td class = \"rowNumber\" style = \"font-weight: bold; text-align: right;\">39</td><td style = \"text-align: left;\">Tamim Iqbal</td><td style = \"text-align: left;\">BAN</td><td style = \"text-align: left;\">572</td><td style = \"text-align: right;\">20.8333</td></tr><tr><td class = \"rowNumber\" style = \"font-weight: bold; text-align: right;\">40</td><td style = \"text-align: left;\">Kyle Coetzer</td><td style = \"text-align: left;\">SCO</td><td style = \"text-align: left;\">566</td><td style = \"text-align: right;\">18.75</td></tr><tr><td class = \"rowNumber\" style = \"font-weight: bold; text-align: right;\">41</td><td style = \"text-align: left;\">Glenn Maxwell</td><td style = \"text-align: left;\">AUS</td><td style = \"text-align: left;\">563</td><td style = \"text-align: right;\">16.6667</td></tr><tr><td class = \"rowNumber\" style = \"font-weight: bold; text-align: right;\">42</td><td style = \"text-align: left;\">Daryl Mitchell</td><td style = \"text-align: left;\">NZ</td><td style = \"text-align: left;\">560</td><td style = \"text-align: right;\">14.5833</td></tr><tr><td class = \"rowNumber\" style = \"font-weight: bold; text-align: right;\">43</td><td style = \"text-align: left;\">Mohammad Rizwan</td><td style = \"text-align: left;\">PAK</td><td style = \"text-align: left;\">548</td><td style = \"text-align: right;\">12.5</td></tr><tr><td class = \"rowNumber\" style = \"font-weight: bold; text-align: right;\">44</td><td style = \"text-align: left;\">Kusal Mendis</td><td style = \"text-align: left;\">SL</td><td style = \"text-align: left;\">545</td><td style = \"text-align: right;\">10.4167</td></tr><tr><td class = \"rowNumber\" style = \"font-weight: bold; text-align: right;\">45</td><td style = \"text-align: left;\">Litton Das</td><td style = \"text-align: left;\">BAN</td><td style = \"text-align: left;\">534</td><td style = \"text-align: right;\">8.33333</td></tr><tr><td class = \"rowNumber\" style = \"font-weight: bold; text-align: right;\">46</td><td style = \"text-align: left;\">Mitchell Marsh</td><td style = \"text-align: left;\">AUS</td><td style = \"text-align: left;\">534</td><td style = \"text-align: right;\">8.33333</td></tr><tr><td class = \"rowNumber\" style = \"font-weight: bold; text-align: right;\">47</td><td style = \"text-align: left;\">Hardik Pandya</td><td style = \"text-align: left;\">IND</td><td style = \"text-align: left;\">481</td><td style = \"text-align: right;\">4.16667</td></tr><tr><td class = \"rowNumber\" style = \"font-weight: bold; text-align: right;\">48</td><td style = \"text-align: left;\">Brendan Taylor</td><td style = \"text-align: left;\">ZIM</td><td style = \"text-align: left;\">15</td><td style = \"text-align: right;\">2.08333</td></tr></tbody></table></div>"
            ],
            "text/latex": [
              "\\begin{tabular}{r|cccc}\n",
              "\t& Player\\_Name & Player\\_Nation & ICC\\_Batting\\_Points & Percentile\\_Rank\\\\\n",
              "\t\\hline\n",
              "\t& Any & Any & Any & Float64\\\\\n",
              "\t\\hline\n",
              "\t1 & Babar Azam & PAK & 857 & 100.0 \\\\\n",
              "\t2 & Shubman Gill & IND & 839 & 97.9167 \\\\\n",
              "\t3 & Rassie van der Dussen & SA & 743 & 95.8333 \\\\\n",
              "\t4 & Harry Tector & IRE & 735 & 93.75 \\\\\n",
              "\t5 & David Warner & AUS & 729 & 91.6667 \\\\\n",
              "\t6 & Imam-ul-Haq & PAK & 728 & 89.5833 \\\\\n",
              "\t7 & Quinton de Kock & SA & 714 & 87.5 \\\\\n",
              "\t8 & Heinrich Klaasen & SA & 698 & 85.4167 \\\\\n",
              "\t9 & Virat Kohli & IND & 696 & 83.3333 \\\\\n",
              "\t10 & Rohit Sharma & IND & 695 & 81.25 \\\\\n",
              "\t11 & Fakhar Zaman & PAK & 692 & 79.1667 \\\\\n",
              "\t12 & Steve Smith & AUS & 669 & 77.0833 \\\\\n",
              "\t13 & Temba Bavuma & SA & 668 & 75.0 \\\\\n",
              "\t14 & Dawid Malan & ENG & 662 & 72.9167 \\\\\n",
              "\t15 & David Miller & SA & 656 & 70.8333 \\\\\n",
              "\t16 & Jos Buttler & ENG & 654 & 68.75 \\\\\n",
              "\t17 & Ibrahim Zadran & AFG & 644 & 66.6667 \\\\\n",
              "\t18 & Jason Roy & ENG & 642 & 64.5833 \\\\\n",
              "\t19 & Sikandar Raza & ZIM & 636 & 62.5 \\\\\n",
              "\t20 & Mushfiqur Rahim & BAN & 622 & 60.4167 \\\\\n",
              "\t21 & Jonny Bairstow & ENG & 620 & 58.3333 \\\\\n",
              "\t22 & Shreyas Iyer & IND & 611 & 56.25 \\\\\n",
              "\t23 & Travis Head & AUS & 611 & 56.25 \\\\\n",
              "\t24 & Ishan Kishan & IND & 609 & 52.0833 \\\\\n",
              "\t25 & Pathum Nissanka & SL & 608 & 50.0 \\\\\n",
              "\t26 & Kane Williamson & NZ & 608 & 50.0 \\\\\n",
              "\t27 & Marnus Labuschagne & AUS & 602 & 45.8333 \\\\\n",
              "\t28 & Shai Hope & WI & 602 & 45.8333 \\\\\n",
              "\t29 & Aiden Markram & SA & 601 & 41.6667 \\\\\n",
              "\t30 & Lokesh Rahul & IND & 596 & 39.5833 \\\\\n",
              "\t$\\dots$ & $\\dots$ & $\\dots$ & $\\dots$ & $\\dots$ \\\\\n",
              "\\end{tabular}\n"
            ],
            "text/plain": [
              "\u001b[1m48×4 DataFrame\u001b[0m\n",
              "\u001b[1m Row \u001b[0m│\u001b[1m Player_Name           \u001b[0m\u001b[1m Player_Nation \u001b[0m\u001b[1m ICC_Batting_Points \u001b[0m\u001b[1m Percentile_Ra\u001b[0m ⋯\n",
              "     │\u001b[90m Any                   \u001b[0m\u001b[90m Any           \u001b[0m\u001b[90m Any                \u001b[0m\u001b[90m Float64      \u001b[0m ⋯\n",
              "─────┼──────────────────────────────────────────────────────────────────────────\n",
              "   1 │ Babar Azam             PAK            857                       100.0   ⋯\n",
              "   2 │ Shubman Gill           IND            839                        97.916\n",
              "   3 │ Rassie van der Dussen  SA             743                        95.833\n",
              "   4 │ Harry Tector           IRE            735                        93.75\n",
              "   5 │ David Warner           AUS            729                        91.666 ⋯\n",
              "   6 │ Imam-ul-Haq            PAK            728                        89.583\n",
              "   7 │ Quinton de Kock        SA             714                        87.5\n",
              "   8 │ Heinrich Klaasen       SA             698                        85.416\n",
              "   9 │ Virat Kohli            IND            696                        83.333 ⋯\n",
              "  10 │ Rohit Sharma           IND            695                        81.25\n",
              "  11 │ Fakhar Zaman           PAK            692                        79.166\n",
              "  ⋮  │           ⋮                  ⋮                ⋮                  ⋮      ⋱\n",
              "  39 │ Tamim Iqbal            BAN            572                        20.833\n",
              "  40 │ Kyle Coetzer           SCO            566                        18.75  ⋯\n",
              "  41 │ Glenn Maxwell          AUS            563                        16.666\n",
              "  42 │ Daryl Mitchell         NZ             560                        14.583\n",
              "  43 │ Mohammad Rizwan        PAK            548                        12.5\n",
              "  44 │ Kusal Mendis           SL             545                        10.416 ⋯\n",
              "  45 │ Litton Das             BAN            534                         8.333\n",
              "  46 │ Mitchell Marsh         AUS            534                         8.333\n",
              "  47 │ Hardik Pandya          IND            481                         4.166\n",
              "  48 │ Brendan Taylor         ZIM            15                          2.083 ⋯\n",
              "\u001b[36m                                                    1 column and 27 rows omitted\u001b[0m"
            ]
          },
          "execution_count": 5,
          "metadata": {},
          "output_type": "execute_result"
        }
      ],
      "source": [
        "# Calculate the percentile rank for each player\n",
        "df[!, :Percentile_Rank] = [searchsortedlast(sort(df[!, :ICC_Batting_Points]), x) / nrow(df) * 100 for x in df[!, :ICC_Batting_Points]]\n",
        "df"
      ]
    },
    {
      "cell_type": "code",
      "execution_count": null,
      "id": "bf8ffc4f",
      "metadata": {
        "tags": [],
        "id": "bf8ffc4f",
        "outputId": "9d195868-974a-4c08-b076-898ea371f486"
      },
      "outputs": [
        {
          "data": {
            "text/html": [
              "<div><div style = \"float: left;\"><span>48×5 DataFrame</span></div><div style = \"float: right;\"><span style = \"font-style: italic;\">23 rows omitted</span></div><div style = \"clear: both;\"></div></div><div class = \"data-frame\" style = \"overflow-x: scroll;\"><table class = \"data-frame\" style = \"margin-bottom: 6px;\"><thead><tr class = \"header\"><th class = \"rowNumber\" style = \"font-weight: bold; text-align: right;\">Row</th><th style = \"text-align: left;\">Player_Name</th><th style = \"text-align: left;\">Player_Nation</th><th style = \"text-align: left;\">ICC_Batting_Points</th><th style = \"text-align: left;\">Percentile_Rank</th><th style = \"text-align: left;\">Percentile_Score</th></tr><tr class = \"subheader headerLastRow\"><th class = \"rowNumber\" style = \"font-weight: bold; text-align: right;\"></th><th title = \"Any\" style = \"text-align: left;\">Any</th><th title = \"Any\" style = \"text-align: left;\">Any</th><th title = \"Any\" style = \"text-align: left;\">Any</th><th title = \"Float64\" style = \"text-align: left;\">Float64</th><th title = \"Float64\" style = \"text-align: left;\">Float64</th></tr></thead><tbody><tr><td class = \"rowNumber\" style = \"font-weight: bold; text-align: right;\">1</td><td style = \"text-align: left;\">Babar Azam</td><td style = \"text-align: left;\">PAK</td><td style = \"text-align: left;\">857</td><td style = \"text-align: right;\">100.0</td><td style = \"text-align: right;\">99.0</td></tr><tr><td class = \"rowNumber\" style = \"font-weight: bold; text-align: right;\">2</td><td style = \"text-align: left;\">Shubman Gill</td><td style = \"text-align: left;\">IND</td><td style = \"text-align: left;\">839</td><td style = \"text-align: right;\">97.9167</td><td style = \"text-align: right;\">99.0213</td></tr><tr><td class = \"rowNumber\" style = \"font-weight: bold; text-align: right;\">3</td><td style = \"text-align: left;\">Rassie van der Dussen</td><td style = \"text-align: left;\">SA</td><td style = \"text-align: left;\">743</td><td style = \"text-align: right;\">95.8333</td><td style = \"text-align: right;\">99.0426</td></tr><tr><td class = \"rowNumber\" style = \"font-weight: bold; text-align: right;\">4</td><td style = \"text-align: left;\">Harry Tector</td><td style = \"text-align: left;\">IRE</td><td style = \"text-align: left;\">735</td><td style = \"text-align: right;\">93.75</td><td style = \"text-align: right;\">99.0638</td></tr><tr><td class = \"rowNumber\" style = \"font-weight: bold; text-align: right;\">5</td><td style = \"text-align: left;\">David Warner</td><td style = \"text-align: left;\">AUS</td><td style = \"text-align: left;\">729</td><td style = \"text-align: right;\">91.6667</td><td style = \"text-align: right;\">99.0851</td></tr><tr><td class = \"rowNumber\" style = \"font-weight: bold; text-align: right;\">6</td><td style = \"text-align: left;\">Imam-ul-Haq</td><td style = \"text-align: left;\">PAK</td><td style = \"text-align: left;\">728</td><td style = \"text-align: right;\">89.5833</td><td style = \"text-align: right;\">99.1064</td></tr><tr><td class = \"rowNumber\" style = \"font-weight: bold; text-align: right;\">7</td><td style = \"text-align: left;\">Quinton de Kock</td><td style = \"text-align: left;\">SA</td><td style = \"text-align: left;\">714</td><td style = \"text-align: right;\">87.5</td><td style = \"text-align: right;\">99.1277</td></tr><tr><td class = \"rowNumber\" style = \"font-weight: bold; text-align: right;\">8</td><td style = \"text-align: left;\">Heinrich Klaasen</td><td style = \"text-align: left;\">SA</td><td style = \"text-align: left;\">698</td><td style = \"text-align: right;\">85.4167</td><td style = \"text-align: right;\">99.1489</td></tr><tr><td class = \"rowNumber\" style = \"font-weight: bold; text-align: right;\">9</td><td style = \"text-align: left;\">Virat Kohli</td><td style = \"text-align: left;\">IND</td><td style = \"text-align: left;\">696</td><td style = \"text-align: right;\">83.3333</td><td style = \"text-align: right;\">99.1702</td></tr><tr><td class = \"rowNumber\" style = \"font-weight: bold; text-align: right;\">10</td><td style = \"text-align: left;\">Rohit Sharma</td><td style = \"text-align: left;\">IND</td><td style = \"text-align: left;\">695</td><td style = \"text-align: right;\">81.25</td><td style = \"text-align: right;\">99.1915</td></tr><tr><td class = \"rowNumber\" style = \"font-weight: bold; text-align: right;\">11</td><td style = \"text-align: left;\">Fakhar Zaman</td><td style = \"text-align: left;\">PAK</td><td style = \"text-align: left;\">692</td><td style = \"text-align: right;\">79.1667</td><td style = \"text-align: right;\">99.2128</td></tr><tr><td class = \"rowNumber\" style = \"font-weight: bold; text-align: right;\">12</td><td style = \"text-align: left;\">Steve Smith</td><td style = \"text-align: left;\">AUS</td><td style = \"text-align: left;\">669</td><td style = \"text-align: right;\">77.0833</td><td style = \"text-align: right;\">99.234</td></tr><tr><td class = \"rowNumber\" style = \"font-weight: bold; text-align: right;\">13</td><td style = \"text-align: left;\">Temba Bavuma</td><td style = \"text-align: left;\">SA</td><td style = \"text-align: left;\">668</td><td style = \"text-align: right;\">75.0</td><td style = \"text-align: right;\">99.2553</td></tr><tr><td style = \"text-align: right;\">&vellip;</td><td style = \"text-align: right;\">&vellip;</td><td style = \"text-align: right;\">&vellip;</td><td style = \"text-align: right;\">&vellip;</td><td style = \"text-align: right;\">&vellip;</td><td style = \"text-align: right;\">&vellip;</td></tr><tr><td class = \"rowNumber\" style = \"font-weight: bold; text-align: right;\">37</td><td style = \"text-align: left;\">Ben Stokes</td><td style = \"text-align: left;\">ENG</td><td style = \"text-align: left;\">576</td><td style = \"text-align: right;\">25.0</td><td style = \"text-align: right;\">99.766</td></tr><tr><td class = \"rowNumber\" style = \"font-weight: bold; text-align: right;\">38</td><td style = \"text-align: left;\">Rahmat Shah</td><td style = \"text-align: left;\">AFG</td><td style = \"text-align: left;\">574</td><td style = \"text-align: right;\">22.9167</td><td style = \"text-align: right;\">99.7872</td></tr><tr><td class = \"rowNumber\" style = \"font-weight: bold; text-align: right;\">39</td><td style = \"text-align: left;\">Tamim Iqbal</td><td style = \"text-align: left;\">BAN</td><td style = \"text-align: left;\">572</td><td style = \"text-align: right;\">20.8333</td><td style = \"text-align: right;\">99.8085</td></tr><tr><td class = \"rowNumber\" style = \"font-weight: bold; text-align: right;\">40</td><td style = \"text-align: left;\">Kyle Coetzer</td><td style = \"text-align: left;\">SCO</td><td style = \"text-align: left;\">566</td><td style = \"text-align: right;\">18.75</td><td style = \"text-align: right;\">99.8298</td></tr><tr><td class = \"rowNumber\" style = \"font-weight: bold; text-align: right;\">41</td><td style = \"text-align: left;\">Glenn Maxwell</td><td style = \"text-align: left;\">AUS</td><td style = \"text-align: left;\">563</td><td style = \"text-align: right;\">16.6667</td><td style = \"text-align: right;\">99.8511</td></tr><tr><td class = \"rowNumber\" style = \"font-weight: bold; text-align: right;\">42</td><td style = \"text-align: left;\">Daryl Mitchell</td><td style = \"text-align: left;\">NZ</td><td style = \"text-align: left;\">560</td><td style = \"text-align: right;\">14.5833</td><td style = \"text-align: right;\">99.8723</td></tr><tr><td class = \"rowNumber\" style = \"font-weight: bold; text-align: right;\">43</td><td style = \"text-align: left;\">Mohammad Rizwan</td><td style = \"text-align: left;\">PAK</td><td style = \"text-align: left;\">548</td><td style = \"text-align: right;\">12.5</td><td style = \"text-align: right;\">99.8936</td></tr><tr><td class = \"rowNumber\" style = \"font-weight: bold; text-align: right;\">44</td><td style = \"text-align: left;\">Kusal Mendis</td><td style = \"text-align: left;\">SL</td><td style = \"text-align: left;\">545</td><td style = \"text-align: right;\">10.4167</td><td style = \"text-align: right;\">99.9149</td></tr><tr><td class = \"rowNumber\" style = \"font-weight: bold; text-align: right;\">45</td><td style = \"text-align: left;\">Litton Das</td><td style = \"text-align: left;\">BAN</td><td style = \"text-align: left;\">534</td><td style = \"text-align: right;\">8.33333</td><td style = \"text-align: right;\">99.9362</td></tr><tr><td class = \"rowNumber\" style = \"font-weight: bold; text-align: right;\">46</td><td style = \"text-align: left;\">Mitchell Marsh</td><td style = \"text-align: left;\">AUS</td><td style = \"text-align: left;\">534</td><td style = \"text-align: right;\">8.33333</td><td style = \"text-align: right;\">99.9362</td></tr><tr><td class = \"rowNumber\" style = \"font-weight: bold; text-align: right;\">47</td><td style = \"text-align: left;\">Hardik Pandya</td><td style = \"text-align: left;\">IND</td><td style = \"text-align: left;\">481</td><td style = \"text-align: right;\">4.16667</td><td style = \"text-align: right;\">99.9787</td></tr><tr><td class = \"rowNumber\" style = \"font-weight: bold; text-align: right;\">48</td><td style = \"text-align: left;\">Brendan Taylor</td><td style = \"text-align: left;\">ZIM</td><td style = \"text-align: left;\">15</td><td style = \"text-align: right;\">2.08333</td><td style = \"text-align: right;\">100.0</td></tr></tbody></table></div>"
            ],
            "text/latex": [
              "\\begin{tabular}{r|ccccc}\n",
              "\t& Player\\_Name & Player\\_Nation & ICC\\_Batting\\_Points & Percentile\\_Rank & Percentile\\_Score\\\\\n",
              "\t\\hline\n",
              "\t& Any & Any & Any & Float64 & Float64\\\\\n",
              "\t\\hline\n",
              "\t1 & Babar Azam & PAK & 857 & 100.0 & 99.0 \\\\\n",
              "\t2 & Shubman Gill & IND & 839 & 97.9167 & 99.0213 \\\\\n",
              "\t3 & Rassie van der Dussen & SA & 743 & 95.8333 & 99.0426 \\\\\n",
              "\t4 & Harry Tector & IRE & 735 & 93.75 & 99.0638 \\\\\n",
              "\t5 & David Warner & AUS & 729 & 91.6667 & 99.0851 \\\\\n",
              "\t6 & Imam-ul-Haq & PAK & 728 & 89.5833 & 99.1064 \\\\\n",
              "\t7 & Quinton de Kock & SA & 714 & 87.5 & 99.1277 \\\\\n",
              "\t8 & Heinrich Klaasen & SA & 698 & 85.4167 & 99.1489 \\\\\n",
              "\t9 & Virat Kohli & IND & 696 & 83.3333 & 99.1702 \\\\\n",
              "\t10 & Rohit Sharma & IND & 695 & 81.25 & 99.1915 \\\\\n",
              "\t11 & Fakhar Zaman & PAK & 692 & 79.1667 & 99.2128 \\\\\n",
              "\t12 & Steve Smith & AUS & 669 & 77.0833 & 99.234 \\\\\n",
              "\t13 & Temba Bavuma & SA & 668 & 75.0 & 99.2553 \\\\\n",
              "\t14 & Dawid Malan & ENG & 662 & 72.9167 & 99.2766 \\\\\n",
              "\t15 & David Miller & SA & 656 & 70.8333 & 99.2979 \\\\\n",
              "\t16 & Jos Buttler & ENG & 654 & 68.75 & 99.3191 \\\\\n",
              "\t17 & Ibrahim Zadran & AFG & 644 & 66.6667 & 99.3404 \\\\\n",
              "\t18 & Jason Roy & ENG & 642 & 64.5833 & 99.3617 \\\\\n",
              "\t19 & Sikandar Raza & ZIM & 636 & 62.5 & 99.383 \\\\\n",
              "\t20 & Mushfiqur Rahim & BAN & 622 & 60.4167 & 99.4043 \\\\\n",
              "\t21 & Jonny Bairstow & ENG & 620 & 58.3333 & 99.4255 \\\\\n",
              "\t22 & Shreyas Iyer & IND & 611 & 56.25 & 99.4468 \\\\\n",
              "\t23 & Travis Head & AUS & 611 & 56.25 & 99.4468 \\\\\n",
              "\t24 & Ishan Kishan & IND & 609 & 52.0833 & 99.4894 \\\\\n",
              "\t25 & Pathum Nissanka & SL & 608 & 50.0 & 99.5106 \\\\\n",
              "\t26 & Kane Williamson & NZ & 608 & 50.0 & 99.5106 \\\\\n",
              "\t27 & Marnus Labuschagne & AUS & 602 & 45.8333 & 99.5532 \\\\\n",
              "\t28 & Shai Hope & WI & 602 & 45.8333 & 99.5532 \\\\\n",
              "\t29 & Aiden Markram & SA & 601 & 41.6667 & 99.5957 \\\\\n",
              "\t30 & Lokesh Rahul & IND & 596 & 39.5833 & 99.617 \\\\\n",
              "\t$\\dots$ & $\\dots$ & $\\dots$ & $\\dots$ & $\\dots$ & $\\dots$ \\\\\n",
              "\\end{tabular}\n"
            ],
            "text/plain": [
              "\u001b[1m48×5 DataFrame\u001b[0m\n",
              "\u001b[1m Row \u001b[0m│\u001b[1m Player_Name           \u001b[0m\u001b[1m Player_Nation \u001b[0m\u001b[1m ICC_Batting_Points \u001b[0m\u001b[1m Percentile_Ra\u001b[0m ⋯\n",
              "     │\u001b[90m Any                   \u001b[0m\u001b[90m Any           \u001b[0m\u001b[90m Any                \u001b[0m\u001b[90m Float64      \u001b[0m ⋯\n",
              "─────┼──────────────────────────────────────────────────────────────────────────\n",
              "   1 │ Babar Azam             PAK            857                       100.0   ⋯\n",
              "   2 │ Shubman Gill           IND            839                        97.916\n",
              "   3 │ Rassie van der Dussen  SA             743                        95.833\n",
              "   4 │ Harry Tector           IRE            735                        93.75\n",
              "   5 │ David Warner           AUS            729                        91.666 ⋯\n",
              "   6 │ Imam-ul-Haq            PAK            728                        89.583\n",
              "   7 │ Quinton de Kock        SA             714                        87.5\n",
              "   8 │ Heinrich Klaasen       SA             698                        85.416\n",
              "   9 │ Virat Kohli            IND            696                        83.333 ⋯\n",
              "  10 │ Rohit Sharma           IND            695                        81.25\n",
              "  11 │ Fakhar Zaman           PAK            692                        79.166\n",
              "  ⋮  │           ⋮                  ⋮                ⋮                  ⋮      ⋱\n",
              "  39 │ Tamim Iqbal            BAN            572                        20.833\n",
              "  40 │ Kyle Coetzer           SCO            566                        18.75  ⋯\n",
              "  41 │ Glenn Maxwell          AUS            563                        16.666\n",
              "  42 │ Daryl Mitchell         NZ             560                        14.583\n",
              "  43 │ Mohammad Rizwan        PAK            548                        12.5\n",
              "  44 │ Kusal Mendis           SL             545                        10.416 ⋯\n",
              "  45 │ Litton Das             BAN            534                         8.333\n",
              "  46 │ Mitchell Marsh         AUS            534                         8.333\n",
              "  47 │ Hardik Pandya          IND            481                         4.166\n",
              "  48 │ Brendan Taylor         ZIM            15                          2.083 ⋯\n",
              "\u001b[36m                                                   2 columns and 27 rows omitted\u001b[0m"
            ]
          },
          "execution_count": 6,
          "metadata": {},
          "output_type": "execute_result"
        }
      ],
      "source": [
        "# Set the percentile score of the lowest-ranked player to 1\n",
        "min_rank = minimum(df[!, :Percentile_Rank])\n",
        "df[!, :Percentile_Score] .= @. 100 - ((df[!, :Percentile_Rank] - min_rank) / (100 - min_rank))\n",
        "df"
      ]
    },
    {
      "cell_type": "code",
      "execution_count": null,
      "id": "0fa5f18a",
      "metadata": {
        "tags": [],
        "id": "0fa5f18a",
        "outputId": "14bb985f-b227-4da8-d946-00a50931b682"
      },
      "outputs": [
        {
          "data": {
            "text/plain": [
              "Dict{String, String} with 15 entries:\n",
              "  \"ENG\" => \"England\"\n",
              "  \"WI\"  => \"West Indies\"\n",
              "  \"IRE\" => \"Ireland\"\n",
              "  \"PAK\" => \"Pakistan\"\n",
              "  \"NED\" => \"Netherlands\"\n",
              "  \"AUS\" => \"Australia\"\n",
              "  \"SA\"  => \"South Africa\"\n",
              "  \"AFG\" => \"Afghanistan\"\n",
              "  \"NZ\"  => \"New Zealand\"\n",
              "  \"ZIM\" => \"Zimbabwe\"\n",
              "  \"IND\" => \"India\"\n",
              "  \"SCO\" => \"Scotland\"\n",
              "  \"NAM\" => \"Namibia\"\n",
              "  \"SL\"  => \"Sri Lanka\"\n",
              "  \"BAN\" => \"Bangladesh\""
            ]
          },
          "execution_count": 7,
          "metadata": {},
          "output_type": "execute_result"
        }
      ],
      "source": [
        "# Define a dictionary mapping short country names to full country names\n",
        "country_names = Dict(\n",
        "    \"IND\" => \"India\",\n",
        "    \"PAK\" => \"Pakistan\",\n",
        "    \"AFG\" => \"Afghanistan\",\n",
        "    \"SL\" => \"Sri Lanka\",\n",
        "    \"BAN\" => \"Bangladesh\",\n",
        "    \"NZ\" => \"New Zealand\",\n",
        "    \"AUS\" => \"Australia\",\n",
        "    \"SA\" => \"South Africa\",\n",
        "    \"ENG\" => \"England\",\n",
        "    \"NED\" => \"Netherlands\",\n",
        "    \"WI\" => \"West Indies\",\n",
        "    \"ZIM\" => \"Zimbabwe\",\n",
        "    \"IRE\" => \"Ireland\",\n",
        "    \"SCO\" => \"Scotland\",\n",
        "    \"NAM\" => \"Namibia\"\n",
        ")"
      ]
    },
    {
      "cell_type": "code",
      "execution_count": null,
      "id": "a303b508",
      "metadata": {
        "tags": [],
        "id": "a303b508",
        "outputId": "84e3c3a2-905c-485b-e932-15450be0d65f"
      },
      "outputs": [
        {
          "data": {
            "text/html": [
              "<div><div style = \"float: left;\"><span>48×5 DataFrame</span></div><div style = \"float: right;\"><span style = \"font-style: italic;\">23 rows omitted</span></div><div style = \"clear: both;\"></div></div><div class = \"data-frame\" style = \"overflow-x: scroll;\"><table class = \"data-frame\" style = \"margin-bottom: 6px;\"><thead><tr class = \"header\"><th class = \"rowNumber\" style = \"font-weight: bold; text-align: right;\">Row</th><th style = \"text-align: left;\">Player_Name</th><th style = \"text-align: left;\">Player_Nation</th><th style = \"text-align: left;\">ICC_Batting_Points</th><th style = \"text-align: left;\">Percentile_Rank</th><th style = \"text-align: left;\">Percentile_Score</th></tr><tr class = \"subheader headerLastRow\"><th class = \"rowNumber\" style = \"font-weight: bold; text-align: right;\"></th><th title = \"Any\" style = \"text-align: left;\">Any</th><th title = \"String\" style = \"text-align: left;\">String</th><th title = \"Any\" style = \"text-align: left;\">Any</th><th title = \"Float64\" style = \"text-align: left;\">Float64</th><th title = \"Float64\" style = \"text-align: left;\">Float64</th></tr></thead><tbody><tr><td class = \"rowNumber\" style = \"font-weight: bold; text-align: right;\">1</td><td style = \"text-align: left;\">Babar Azam</td><td style = \"text-align: left;\">Pakistan</td><td style = \"text-align: left;\">857</td><td style = \"text-align: right;\">100.0</td><td style = \"text-align: right;\">99.0</td></tr><tr><td class = \"rowNumber\" style = \"font-weight: bold; text-align: right;\">2</td><td style = \"text-align: left;\">Shubman Gill</td><td style = \"text-align: left;\">India</td><td style = \"text-align: left;\">839</td><td style = \"text-align: right;\">97.9167</td><td style = \"text-align: right;\">99.0213</td></tr><tr><td class = \"rowNumber\" style = \"font-weight: bold; text-align: right;\">3</td><td style = \"text-align: left;\">Rassie van der Dussen</td><td style = \"text-align: left;\">South Africa</td><td style = \"text-align: left;\">743</td><td style = \"text-align: right;\">95.8333</td><td style = \"text-align: right;\">99.0426</td></tr><tr><td class = \"rowNumber\" style = \"font-weight: bold; text-align: right;\">4</td><td style = \"text-align: left;\">Harry Tector</td><td style = \"text-align: left;\">Ireland</td><td style = \"text-align: left;\">735</td><td style = \"text-align: right;\">93.75</td><td style = \"text-align: right;\">99.0638</td></tr><tr><td class = \"rowNumber\" style = \"font-weight: bold; text-align: right;\">5</td><td style = \"text-align: left;\">David Warner</td><td style = \"text-align: left;\">Australia</td><td style = \"text-align: left;\">729</td><td style = \"text-align: right;\">91.6667</td><td style = \"text-align: right;\">99.0851</td></tr><tr><td class = \"rowNumber\" style = \"font-weight: bold; text-align: right;\">6</td><td style = \"text-align: left;\">Imam-ul-Haq</td><td style = \"text-align: left;\">Pakistan</td><td style = \"text-align: left;\">728</td><td style = \"text-align: right;\">89.5833</td><td style = \"text-align: right;\">99.1064</td></tr><tr><td class = \"rowNumber\" style = \"font-weight: bold; text-align: right;\">7</td><td style = \"text-align: left;\">Quinton de Kock</td><td style = \"text-align: left;\">South Africa</td><td style = \"text-align: left;\">714</td><td style = \"text-align: right;\">87.5</td><td style = \"text-align: right;\">99.1277</td></tr><tr><td class = \"rowNumber\" style = \"font-weight: bold; text-align: right;\">8</td><td style = \"text-align: left;\">Heinrich Klaasen</td><td style = \"text-align: left;\">South Africa</td><td style = \"text-align: left;\">698</td><td style = \"text-align: right;\">85.4167</td><td style = \"text-align: right;\">99.1489</td></tr><tr><td class = \"rowNumber\" style = \"font-weight: bold; text-align: right;\">9</td><td style = \"text-align: left;\">Virat Kohli</td><td style = \"text-align: left;\">India</td><td style = \"text-align: left;\">696</td><td style = \"text-align: right;\">83.3333</td><td style = \"text-align: right;\">99.1702</td></tr><tr><td class = \"rowNumber\" style = \"font-weight: bold; text-align: right;\">10</td><td style = \"text-align: left;\">Rohit Sharma</td><td style = \"text-align: left;\">India</td><td style = \"text-align: left;\">695</td><td style = \"text-align: right;\">81.25</td><td style = \"text-align: right;\">99.1915</td></tr><tr><td class = \"rowNumber\" style = \"font-weight: bold; text-align: right;\">11</td><td style = \"text-align: left;\">Fakhar Zaman</td><td style = \"text-align: left;\">Pakistan</td><td style = \"text-align: left;\">692</td><td style = \"text-align: right;\">79.1667</td><td style = \"text-align: right;\">99.2128</td></tr><tr><td class = \"rowNumber\" style = \"font-weight: bold; text-align: right;\">12</td><td style = \"text-align: left;\">Steve Smith</td><td style = \"text-align: left;\">Australia</td><td style = \"text-align: left;\">669</td><td style = \"text-align: right;\">77.0833</td><td style = \"text-align: right;\">99.234</td></tr><tr><td class = \"rowNumber\" style = \"font-weight: bold; text-align: right;\">13</td><td style = \"text-align: left;\">Temba Bavuma</td><td style = \"text-align: left;\">South Africa</td><td style = \"text-align: left;\">668</td><td style = \"text-align: right;\">75.0</td><td style = \"text-align: right;\">99.2553</td></tr><tr><td style = \"text-align: right;\">&vellip;</td><td style = \"text-align: right;\">&vellip;</td><td style = \"text-align: right;\">&vellip;</td><td style = \"text-align: right;\">&vellip;</td><td style = \"text-align: right;\">&vellip;</td><td style = \"text-align: right;\">&vellip;</td></tr><tr><td class = \"rowNumber\" style = \"font-weight: bold; text-align: right;\">37</td><td style = \"text-align: left;\">Ben Stokes</td><td style = \"text-align: left;\">England</td><td style = \"text-align: left;\">576</td><td style = \"text-align: right;\">25.0</td><td style = \"text-align: right;\">99.766</td></tr><tr><td class = \"rowNumber\" style = \"font-weight: bold; text-align: right;\">38</td><td style = \"text-align: left;\">Rahmat Shah</td><td style = \"text-align: left;\">Afghanistan</td><td style = \"text-align: left;\">574</td><td style = \"text-align: right;\">22.9167</td><td style = \"text-align: right;\">99.7872</td></tr><tr><td class = \"rowNumber\" style = \"font-weight: bold; text-align: right;\">39</td><td style = \"text-align: left;\">Tamim Iqbal</td><td style = \"text-align: left;\">Bangladesh</td><td style = \"text-align: left;\">572</td><td style = \"text-align: right;\">20.8333</td><td style = \"text-align: right;\">99.8085</td></tr><tr><td class = \"rowNumber\" style = \"font-weight: bold; text-align: right;\">40</td><td style = \"text-align: left;\">Kyle Coetzer</td><td style = \"text-align: left;\">Scotland</td><td style = \"text-align: left;\">566</td><td style = \"text-align: right;\">18.75</td><td style = \"text-align: right;\">99.8298</td></tr><tr><td class = \"rowNumber\" style = \"font-weight: bold; text-align: right;\">41</td><td style = \"text-align: left;\">Glenn Maxwell</td><td style = \"text-align: left;\">Australia</td><td style = \"text-align: left;\">563</td><td style = \"text-align: right;\">16.6667</td><td style = \"text-align: right;\">99.8511</td></tr><tr><td class = \"rowNumber\" style = \"font-weight: bold; text-align: right;\">42</td><td style = \"text-align: left;\">Daryl Mitchell</td><td style = \"text-align: left;\">New Zealand</td><td style = \"text-align: left;\">560</td><td style = \"text-align: right;\">14.5833</td><td style = \"text-align: right;\">99.8723</td></tr><tr><td class = \"rowNumber\" style = \"font-weight: bold; text-align: right;\">43</td><td style = \"text-align: left;\">Mohammad Rizwan</td><td style = \"text-align: left;\">Pakistan</td><td style = \"text-align: left;\">548</td><td style = \"text-align: right;\">12.5</td><td style = \"text-align: right;\">99.8936</td></tr><tr><td class = \"rowNumber\" style = \"font-weight: bold; text-align: right;\">44</td><td style = \"text-align: left;\">Kusal Mendis</td><td style = \"text-align: left;\">Sri Lanka</td><td style = \"text-align: left;\">545</td><td style = \"text-align: right;\">10.4167</td><td style = \"text-align: right;\">99.9149</td></tr><tr><td class = \"rowNumber\" style = \"font-weight: bold; text-align: right;\">45</td><td style = \"text-align: left;\">Litton Das</td><td style = \"text-align: left;\">Bangladesh</td><td style = \"text-align: left;\">534</td><td style = \"text-align: right;\">8.33333</td><td style = \"text-align: right;\">99.9362</td></tr><tr><td class = \"rowNumber\" style = \"font-weight: bold; text-align: right;\">46</td><td style = \"text-align: left;\">Mitchell Marsh</td><td style = \"text-align: left;\">Australia</td><td style = \"text-align: left;\">534</td><td style = \"text-align: right;\">8.33333</td><td style = \"text-align: right;\">99.9362</td></tr><tr><td class = \"rowNumber\" style = \"font-weight: bold; text-align: right;\">47</td><td style = \"text-align: left;\">Hardik Pandya</td><td style = \"text-align: left;\">India</td><td style = \"text-align: left;\">481</td><td style = \"text-align: right;\">4.16667</td><td style = \"text-align: right;\">99.9787</td></tr><tr><td class = \"rowNumber\" style = \"font-weight: bold; text-align: right;\">48</td><td style = \"text-align: left;\">Brendan Taylor</td><td style = \"text-align: left;\">Zimbabwe</td><td style = \"text-align: left;\">15</td><td style = \"text-align: right;\">2.08333</td><td style = \"text-align: right;\">100.0</td></tr></tbody></table></div>"
            ],
            "text/latex": [
              "\\begin{tabular}{r|ccccc}\n",
              "\t& Player\\_Name & Player\\_Nation & ICC\\_Batting\\_Points & Percentile\\_Rank & Percentile\\_Score\\\\\n",
              "\t\\hline\n",
              "\t& Any & String & Any & Float64 & Float64\\\\\n",
              "\t\\hline\n",
              "\t1 & Babar Azam & Pakistan & 857 & 100.0 & 99.0 \\\\\n",
              "\t2 & Shubman Gill & India & 839 & 97.9167 & 99.0213 \\\\\n",
              "\t3 & Rassie van der Dussen & South Africa & 743 & 95.8333 & 99.0426 \\\\\n",
              "\t4 & Harry Tector & Ireland & 735 & 93.75 & 99.0638 \\\\\n",
              "\t5 & David Warner & Australia & 729 & 91.6667 & 99.0851 \\\\\n",
              "\t6 & Imam-ul-Haq & Pakistan & 728 & 89.5833 & 99.1064 \\\\\n",
              "\t7 & Quinton de Kock & South Africa & 714 & 87.5 & 99.1277 \\\\\n",
              "\t8 & Heinrich Klaasen & South Africa & 698 & 85.4167 & 99.1489 \\\\\n",
              "\t9 & Virat Kohli & India & 696 & 83.3333 & 99.1702 \\\\\n",
              "\t10 & Rohit Sharma & India & 695 & 81.25 & 99.1915 \\\\\n",
              "\t11 & Fakhar Zaman & Pakistan & 692 & 79.1667 & 99.2128 \\\\\n",
              "\t12 & Steve Smith & Australia & 669 & 77.0833 & 99.234 \\\\\n",
              "\t13 & Temba Bavuma & South Africa & 668 & 75.0 & 99.2553 \\\\\n",
              "\t14 & Dawid Malan & England & 662 & 72.9167 & 99.2766 \\\\\n",
              "\t15 & David Miller & South Africa & 656 & 70.8333 & 99.2979 \\\\\n",
              "\t16 & Jos Buttler & England & 654 & 68.75 & 99.3191 \\\\\n",
              "\t17 & Ibrahim Zadran & Afghanistan & 644 & 66.6667 & 99.3404 \\\\\n",
              "\t18 & Jason Roy & England & 642 & 64.5833 & 99.3617 \\\\\n",
              "\t19 & Sikandar Raza & Zimbabwe & 636 & 62.5 & 99.383 \\\\\n",
              "\t20 & Mushfiqur Rahim & Bangladesh & 622 & 60.4167 & 99.4043 \\\\\n",
              "\t21 & Jonny Bairstow & England & 620 & 58.3333 & 99.4255 \\\\\n",
              "\t22 & Shreyas Iyer & India & 611 & 56.25 & 99.4468 \\\\\n",
              "\t23 & Travis Head & Australia & 611 & 56.25 & 99.4468 \\\\\n",
              "\t24 & Ishan Kishan & India & 609 & 52.0833 & 99.4894 \\\\\n",
              "\t25 & Pathum Nissanka & Sri Lanka & 608 & 50.0 & 99.5106 \\\\\n",
              "\t26 & Kane Williamson & New Zealand & 608 & 50.0 & 99.5106 \\\\\n",
              "\t27 & Marnus Labuschagne & Australia & 602 & 45.8333 & 99.5532 \\\\\n",
              "\t28 & Shai Hope & West Indies & 602 & 45.8333 & 99.5532 \\\\\n",
              "\t29 & Aiden Markram & South Africa & 601 & 41.6667 & 99.5957 \\\\\n",
              "\t30 & Lokesh Rahul & India & 596 & 39.5833 & 99.617 \\\\\n",
              "\t$\\dots$ & $\\dots$ & $\\dots$ & $\\dots$ & $\\dots$ & $\\dots$ \\\\\n",
              "\\end{tabular}\n"
            ],
            "text/plain": [
              "\u001b[1m48×5 DataFrame\u001b[0m\n",
              "\u001b[1m Row \u001b[0m│\u001b[1m Player_Name           \u001b[0m\u001b[1m Player_Nation \u001b[0m\u001b[1m ICC_Batting_Points \u001b[0m\u001b[1m Percentile_Ra\u001b[0m ⋯\n",
              "     │\u001b[90m Any                   \u001b[0m\u001b[90m String        \u001b[0m\u001b[90m Any                \u001b[0m\u001b[90m Float64      \u001b[0m ⋯\n",
              "─────┼──────────────────────────────────────────────────────────────────────────\n",
              "   1 │ Babar Azam             Pakistan       857                       100.0   ⋯\n",
              "   2 │ Shubman Gill           India          839                        97.916\n",
              "   3 │ Rassie van der Dussen  South Africa   743                        95.833\n",
              "   4 │ Harry Tector           Ireland        735                        93.75\n",
              "   5 │ David Warner           Australia      729                        91.666 ⋯\n",
              "   6 │ Imam-ul-Haq            Pakistan       728                        89.583\n",
              "   7 │ Quinton de Kock        South Africa   714                        87.5\n",
              "   8 │ Heinrich Klaasen       South Africa   698                        85.416\n",
              "   9 │ Virat Kohli            India          696                        83.333 ⋯\n",
              "  10 │ Rohit Sharma           India          695                        81.25\n",
              "  11 │ Fakhar Zaman           Pakistan       692                        79.166\n",
              "  ⋮  │           ⋮                  ⋮                ⋮                  ⋮      ⋱\n",
              "  39 │ Tamim Iqbal            Bangladesh     572                        20.833\n",
              "  40 │ Kyle Coetzer           Scotland       566                        18.75  ⋯\n",
              "  41 │ Glenn Maxwell          Australia      563                        16.666\n",
              "  42 │ Daryl Mitchell         New Zealand    560                        14.583\n",
              "  43 │ Mohammad Rizwan        Pakistan       548                        12.5\n",
              "  44 │ Kusal Mendis           Sri Lanka      545                        10.416 ⋯\n",
              "  45 │ Litton Das             Bangladesh     534                         8.333\n",
              "  46 │ Mitchell Marsh         Australia      534                         8.333\n",
              "  47 │ Hardik Pandya          India          481                         4.166\n",
              "  48 │ Brendan Taylor         Zimbabwe       15                          2.083 ⋯\n",
              "\u001b[36m                                                   2 columns and 27 rows omitted\u001b[0m"
            ]
          },
          "execution_count": 8,
          "metadata": {},
          "output_type": "execute_result"
        }
      ],
      "source": [
        "# Replace the short country names with full country names in the \"Player_Nation\" column\n",
        "df[!, :Player_Nation] .= [country_names[name] for name in df[!, :Player_Nation]]\n",
        "df"
      ]
    },
    {
      "cell_type": "code",
      "execution_count": null,
      "id": "78c5bd88",
      "metadata": {
        "tags": [],
        "id": "78c5bd88",
        "outputId": "ec4c896e-469e-45e4-b6e5-b0ea69787511"
      },
      "outputs": [
        {
          "data": {
            "text/html": [
              "<div><div style = \"float: left;\"><span>5×5 DataFrame</span></div><div style = \"clear: both;\"></div></div><div class = \"data-frame\" style = \"overflow-x: scroll;\"><table class = \"data-frame\" style = \"margin-bottom: 6px;\"><thead><tr class = \"header\"><th class = \"rowNumber\" style = \"font-weight: bold; text-align: right;\">Row</th><th style = \"text-align: left;\">Player_Name</th><th style = \"text-align: left;\">Player_Nation</th><th style = \"text-align: left;\">ICC_Batting_Points</th><th style = \"text-align: left;\">Percentile_Rank</th><th style = \"text-align: left;\">Percentile_Score</th></tr><tr class = \"subheader headerLastRow\"><th class = \"rowNumber\" style = \"font-weight: bold; text-align: right;\"></th><th title = \"Any\" style = \"text-align: left;\">Any</th><th title = \"String\" style = \"text-align: left;\">String</th><th title = \"Any\" style = \"text-align: left;\">Any</th><th title = \"Float64\" style = \"text-align: left;\">Float64</th><th title = \"Float64\" style = \"text-align: left;\">Float64</th></tr></thead><tbody><tr><td class = \"rowNumber\" style = \"font-weight: bold; text-align: right;\">1</td><td style = \"text-align: left;\">Babar Azam</td><td style = \"text-align: left;\">Pakistan</td><td style = \"text-align: left;\">857</td><td style = \"text-align: right;\">100.0</td><td style = \"text-align: right;\">99.0</td></tr><tr><td class = \"rowNumber\" style = \"font-weight: bold; text-align: right;\">2</td><td style = \"text-align: left;\">Shubman Gill</td><td style = \"text-align: left;\">India</td><td style = \"text-align: left;\">839</td><td style = \"text-align: right;\">97.9167</td><td style = \"text-align: right;\">99.0213</td></tr><tr><td class = \"rowNumber\" style = \"font-weight: bold; text-align: right;\">3</td><td style = \"text-align: left;\">Rassie van der Dussen</td><td style = \"text-align: left;\">South Africa</td><td style = \"text-align: left;\">743</td><td style = \"text-align: right;\">95.8333</td><td style = \"text-align: right;\">99.0426</td></tr><tr><td class = \"rowNumber\" style = \"font-weight: bold; text-align: right;\">4</td><td style = \"text-align: left;\">Harry Tector</td><td style = \"text-align: left;\">Ireland</td><td style = \"text-align: left;\">735</td><td style = \"text-align: right;\">93.75</td><td style = \"text-align: right;\">99.0638</td></tr><tr><td class = \"rowNumber\" style = \"font-weight: bold; text-align: right;\">5</td><td style = \"text-align: left;\">David Warner</td><td style = \"text-align: left;\">Australia</td><td style = \"text-align: left;\">729</td><td style = \"text-align: right;\">91.6667</td><td style = \"text-align: right;\">99.0851</td></tr></tbody></table></div>"
            ],
            "text/latex": [
              "\\begin{tabular}{r|ccccc}\n",
              "\t& Player\\_Name & Player\\_Nation & ICC\\_Batting\\_Points & Percentile\\_Rank & Percentile\\_Score\\\\\n",
              "\t\\hline\n",
              "\t& Any & String & Any & Float64 & Float64\\\\\n",
              "\t\\hline\n",
              "\t1 & Babar Azam & Pakistan & 857 & 100.0 & 99.0 \\\\\n",
              "\t2 & Shubman Gill & India & 839 & 97.9167 & 99.0213 \\\\\n",
              "\t3 & Rassie van der Dussen & South Africa & 743 & 95.8333 & 99.0426 \\\\\n",
              "\t4 & Harry Tector & Ireland & 735 & 93.75 & 99.0638 \\\\\n",
              "\t5 & David Warner & Australia & 729 & 91.6667 & 99.0851 \\\\\n",
              "\\end{tabular}\n"
            ],
            "text/plain": [
              "\u001b[1m5×5 DataFrame\u001b[0m\n",
              "\u001b[1m Row \u001b[0m│\u001b[1m Player_Name           \u001b[0m\u001b[1m Player_Nation \u001b[0m\u001b[1m ICC_Batting_Points \u001b[0m\u001b[1m Percentile_Ra\u001b[0m ⋯\n",
              "     │\u001b[90m Any                   \u001b[0m\u001b[90m String        \u001b[0m\u001b[90m Any                \u001b[0m\u001b[90m Float64      \u001b[0m ⋯\n",
              "─────┼──────────────────────────────────────────────────────────────────────────\n",
              "   1 │ Babar Azam             Pakistan       857                        100.0  ⋯\n",
              "   2 │ Shubman Gill           India          839                         97.91\n",
              "   3 │ Rassie van der Dussen  South Africa   743                         95.83\n",
              "   4 │ Harry Tector           Ireland        735                         93.75\n",
              "   5 │ David Warner           Australia      729                         91.66 ⋯\n",
              "\u001b[36m                                                               2 columns omitted\u001b[0m"
            ]
          },
          "execution_count": 9,
          "metadata": {},
          "output_type": "execute_result"
        }
      ],
      "source": [
        "# Display the first 5 rows of the DataFrame\n",
        "first(df, 5)"
      ]
    },
    {
      "cell_type": "code",
      "execution_count": null,
      "id": "4e7fa181",
      "metadata": {
        "lines_to_next_cell": 2,
        "tags": [],
        "id": "4e7fa181",
        "outputId": "783b74b6-339e-41a2-a898-172b6765fcaf"
      },
      "outputs": [
        {
          "data": {
            "text/plain": [
              "48-element Vector{Float64}:\n",
              " 100.0\n",
              "  97.91666666666666\n",
              "  95.83333333333334\n",
              "  93.75\n",
              "  91.66666666666666\n",
              "  89.58333333333334\n",
              "  87.5\n",
              "  85.41666666666666\n",
              "  83.33333333333334\n",
              "  81.25\n",
              "  79.16666666666666\n",
              "  77.08333333333334\n",
              "  75.0\n",
              "   ⋮\n",
              "  25.0\n",
              "  22.916666666666664\n",
              "  20.833333333333336\n",
              "  18.75\n",
              "  16.666666666666664\n",
              "  14.583333333333334\n",
              "  12.5\n",
              "  10.416666666666668\n",
              "   8.333333333333332\n",
              "   8.333333333333332\n",
              "   4.166666666666666\n",
              "   2.083333333333333"
            ]
          },
          "execution_count": 10,
          "metadata": {},
          "output_type": "execute_result"
        }
      ],
      "source": [
        "batsman = df[!, :Player_Name]\n",
        "batsman_country = df[!, :Player_Nation]\n",
        "batsman_rank = df[!, :Percentile_Rank]\n"
      ]
    },
    {
      "cell_type": "code",
      "execution_count": null,
      "id": "9b743d3d",
      "metadata": {
        "tags": [],
        "id": "9b743d3d",
        "outputId": "f82dd47c-7e80-40bf-a48a-69d99d1965c1"
      },
      "outputs": [
        {
          "data": {
            "text/html": [
              "<div><div style = \"float: left;\"><span>35×3 DataFrame</span></div><div style = \"float: right;\"><span style = \"font-style: italic;\">10 rows omitted</span></div><div style = \"clear: both;\"></div></div><div class = \"data-frame\" style = \"overflow-x: scroll;\"><table class = \"data-frame\" style = \"margin-bottom: 6px;\"><thead><tr class = \"header\"><th class = \"rowNumber\" style = \"font-weight: bold; text-align: right;\">Row</th><th style = \"text-align: left;\">Bowler_Name</th><th style = \"text-align: left;\">Player_Nation</th><th style = \"text-align: left;\">ICC_Bowling_Points</th></tr><tr class = \"subheader headerLastRow\"><th class = \"rowNumber\" style = \"font-weight: bold; text-align: right;\"></th><th title = \"Any\" style = \"text-align: left;\">Any</th><th title = \"Any\" style = \"text-align: left;\">Any</th><th title = \"Any\" style = \"text-align: left;\">Any</th></tr></thead><tbody><tr><td class = \"rowNumber\" style = \"font-weight: bold; text-align: right;\">1</td><td style = \"text-align: left;\">Mohammed Siraj</td><td style = \"text-align: left;\">India</td><td style = \"text-align: left;\">669</td></tr><tr><td class = \"rowNumber\" style = \"font-weight: bold; text-align: right;\">2</td><td style = \"text-align: left;\">Josh Hazlewood</td><td style = \"text-align: left;\">Australia</td><td style = \"text-align: left;\">669</td></tr><tr><td class = \"rowNumber\" style = \"font-weight: bold; text-align: right;\">3</td><td style = \"text-align: left;\">Mujeeb Ur Rahman</td><td style = \"text-align: left;\">Afghanistan</td><td style = \"text-align: left;\">657</td></tr><tr><td class = \"rowNumber\" style = \"font-weight: bold; text-align: right;\">4</td><td style = \"text-align: left;\">Rashid Khan</td><td style = \"text-align: left;\">Afghanistan</td><td style = \"text-align: left;\">655</td></tr><tr><td class = \"rowNumber\" style = \"font-weight: bold; text-align: right;\">5</td><td style = \"text-align: left;\">Trent Boult</td><td style = \"text-align: left;\">New Zealand</td><td style = \"text-align: left;\">653</td></tr><tr><td class = \"rowNumber\" style = \"font-weight: bold; text-align: right;\">6</td><td style = \"text-align: left;\">Shaheen Afridi</td><td style = \"text-align: left;\">Pakistan</td><td style = \"text-align: left;\">632</td></tr><tr><td class = \"rowNumber\" style = \"font-weight: bold; text-align: right;\">7</td><td style = \"text-align: left;\">Adam Zampa</td><td style = \"text-align: left;\">Australia</td><td style = \"text-align: left;\">631</td></tr><tr><td class = \"rowNumber\" style = \"font-weight: bold; text-align: right;\">8</td><td style = \"text-align: left;\">Mitchell Starc</td><td style = \"text-align: left;\">Australia</td><td style = \"text-align: left;\">628</td></tr><tr><td class = \"rowNumber\" style = \"font-weight: bold; text-align: right;\">9</td><td style = \"text-align: left;\">Matt Henry</td><td style = \"text-align: left;\">New Zealand</td><td style = \"text-align: left;\">626</td></tr><tr><td class = \"rowNumber\" style = \"font-weight: bold; text-align: right;\">10</td><td style = \"text-align: left;\">Mohammad Nabi</td><td style = \"text-align: left;\">Afghanistan</td><td style = \"text-align: left;\">621</td></tr><tr><td class = \"rowNumber\" style = \"font-weight: bold; text-align: right;\">11</td><td style = \"text-align: left;\">Kuldeep Yadav</td><td style = \"text-align: left;\">India</td><td style = \"text-align: left;\">616</td></tr><tr><td class = \"rowNumber\" style = \"font-weight: bold; text-align: right;\">12</td><td style = \"text-align: left;\">Chris Woakes</td><td style = \"text-align: left;\">England</td><td style = \"text-align: left;\">613</td></tr><tr><td class = \"rowNumber\" style = \"font-weight: bold; text-align: right;\">13</td><td style = \"text-align: left;\">Mark Watt</td><td style = \"text-align: left;\">Scotland</td><td style = \"text-align: left;\">611</td></tr><tr><td style = \"text-align: right;\">&vellip;</td><td style = \"text-align: right;\">&vellip;</td><td style = \"text-align: right;\">&vellip;</td><td style = \"text-align: right;\">&vellip;</td></tr><tr><td class = \"rowNumber\" style = \"font-weight: bold; text-align: right;\">24</td><td style = \"text-align: left;\">Jofra Archer</td><td style = \"text-align: left;\">England</td><td style = \"text-align: left;\">561</td></tr><tr><td class = \"rowNumber\" style = \"font-weight: bold; text-align: right;\">25</td><td style = \"text-align: left;\">Alzarri Joseph</td><td style = \"text-align: left;\">West Indies</td><td style = \"text-align: left;\">558</td></tr><tr><td class = \"rowNumber\" style = \"font-weight: bold; text-align: right;\">26</td><td style = \"text-align: left;\">Pat Cummins</td><td style = \"text-align: left;\">Australia</td><td style = \"text-align: left;\">555</td></tr><tr><td class = \"rowNumber\" style = \"font-weight: bold; text-align: right;\">27</td><td style = \"text-align: left;\">Mohammad Shami</td><td style = \"text-align: left;\">India</td><td style = \"text-align: left;\">555</td></tr><tr><td class = \"rowNumber\" style = \"font-weight: bold; text-align: right;\">28</td><td style = \"text-align: left;\">Jasprit Bumrah</td><td style = \"text-align: left;\">India</td><td style = \"text-align: left;\">552</td></tr><tr><td class = \"rowNumber\" style = \"font-weight: bold; text-align: right;\">29</td><td style = \"text-align: left;\">Andy McBrine</td><td style = \"text-align: left;\">Ireland</td><td style = \"text-align: left;\">545</td></tr><tr><td class = \"rowNumber\" style = \"font-weight: bold; text-align: right;\">30</td><td style = \"text-align: left;\">Sandeep Lamichhane</td><td style = \"text-align: left;\">Nepal</td><td style = \"text-align: left;\">539</td></tr><tr><td class = \"rowNumber\" style = \"font-weight: bold; text-align: right;\">31</td><td style = \"text-align: left;\">Tabraiz Shamsi</td><td style = \"text-align: left;\">South Africa</td><td style = \"text-align: left;\">533</td></tr><tr><td class = \"rowNumber\" style = \"font-weight: bold; text-align: right;\">32</td><td style = \"text-align: left;\">Mark Adair</td><td style = \"text-align: left;\">Ireland</td><td style = \"text-align: left;\">529</td></tr><tr><td class = \"rowNumber\" style = \"font-weight: bold; text-align: right;\">33</td><td style = \"text-align: left;\">David Willey</td><td style = \"text-align: left;\">England</td><td style = \"text-align: left;\">520</td></tr><tr><td class = \"rowNumber\" style = \"font-weight: bold; text-align: right;\">34</td><td style = \"text-align: left;\">Richard Ngarava</td><td style = \"text-align: left;\">Zimbabwe</td><td style = \"text-align: left;\">518</td></tr><tr><td class = \"rowNumber\" style = \"font-weight: bold; text-align: right;\">35</td><td style = \"text-align: left;\">Christopher Sole</td><td style = \"text-align: left;\">Scotland</td><td style = \"text-align: left;\">509</td></tr></tbody></table></div>"
            ],
            "text/latex": [
              "\\begin{tabular}{r|ccc}\n",
              "\t& Bowler\\_Name & Player\\_Nation & ICC\\_Bowling\\_Points\\\\\n",
              "\t\\hline\n",
              "\t& Any & Any & Any\\\\\n",
              "\t\\hline\n",
              "\t1 & Mohammed Siraj & India & 669 \\\\\n",
              "\t2 & Josh Hazlewood & Australia & 669 \\\\\n",
              "\t3 & Mujeeb Ur Rahman & Afghanistan & 657 \\\\\n",
              "\t4 & Rashid Khan & Afghanistan & 655 \\\\\n",
              "\t5 & Trent Boult & New Zealand & 653 \\\\\n",
              "\t6 & Shaheen Afridi & Pakistan & 632 \\\\\n",
              "\t7 & Adam Zampa & Australia & 631 \\\\\n",
              "\t8 & Mitchell Starc & Australia & 628 \\\\\n",
              "\t9 & Matt Henry & New Zealand & 626 \\\\\n",
              "\t10 & Mohammad Nabi & Afghanistan & 621 \\\\\n",
              "\t11 & Kuldeep Yadav & India & 616 \\\\\n",
              "\t12 & Chris Woakes & England & 613 \\\\\n",
              "\t13 & Mark Watt & Scotland & 611 \\\\\n",
              "\t14 & Keshav Maharaj & South Africa & 599 \\\\\n",
              "\t15 & Kagiso Rabada & South Africa & 594 \\\\\n",
              "\t16 & Maheesh Theekshana & Sri Lanka & 593 \\\\\n",
              "\t17 & Shakib Al Hasan & Bangladesh & 592 \\\\\n",
              "\t18 & Bernard Scholtz & Namibia & 589 \\\\\n",
              "\t19 & Saurabh Netravalkar & United States & 586 \\\\\n",
              "\t20 & Lungi Ngidi & South Africa & 570 \\\\\n",
              "\t21 & Haris Rauf & Pakistan & 566 \\\\\n",
              "\t22 & Mustafizur Rahman & Bangladesh & 564 \\\\\n",
              "\t23 & Akeal Hosein & West Indies & 563 \\\\\n",
              "\t24 & Jofra Archer & England & 561 \\\\\n",
              "\t25 & Alzarri Joseph & West Indies & 558 \\\\\n",
              "\t26 & Pat Cummins & Australia & 555 \\\\\n",
              "\t27 & Mohammad Shami & India & 555 \\\\\n",
              "\t28 & Jasprit Bumrah & India & 552 \\\\\n",
              "\t29 & Andy McBrine & Ireland & 545 \\\\\n",
              "\t30 & Sandeep Lamichhane & Nepal & 539 \\\\\n",
              "\t$\\dots$ & $\\dots$ & $\\dots$ & $\\dots$ \\\\\n",
              "\\end{tabular}\n"
            ],
            "text/plain": [
              "\u001b[1m35×3 DataFrame\u001b[0m\n",
              "\u001b[1m Row \u001b[0m│\u001b[1m Bowler_Name        \u001b[0m\u001b[1m Player_Nation \u001b[0m\u001b[1m ICC_Bowling_Points \u001b[0m\n",
              "     │\u001b[90m Any                \u001b[0m\u001b[90m Any           \u001b[0m\u001b[90m Any                \u001b[0m\n",
              "─────┼───────────────────────────────────────────────────────\n",
              "   1 │ Mohammed Siraj      India          669\n",
              "   2 │ Josh Hazlewood      Australia      669\n",
              "   3 │ Mujeeb Ur Rahman    Afghanistan    657\n",
              "   4 │ Rashid Khan         Afghanistan    655\n",
              "   5 │ Trent Boult         New Zealand    653\n",
              "   6 │ Shaheen Afridi      Pakistan       632\n",
              "   7 │ Adam Zampa          Australia      631\n",
              "   8 │ Mitchell Starc      Australia      628\n",
              "   9 │ Matt Henry          New Zealand    626\n",
              "  10 │ Mohammad Nabi       Afghanistan    621\n",
              "  11 │ Kuldeep Yadav       India          616\n",
              "  ⋮  │         ⋮                 ⋮                ⋮\n",
              "  26 │ Pat Cummins         Australia      555\n",
              "  27 │ Mohammad Shami      India          555\n",
              "  28 │ Jasprit Bumrah      India          552\n",
              "  29 │ Andy McBrine        Ireland        545\n",
              "  30 │ Sandeep Lamichhane  Nepal          539\n",
              "  31 │ Tabraiz Shamsi      South Africa   533\n",
              "  32 │ Mark Adair          Ireland        529\n",
              "  33 │ David Willey        England        520\n",
              "  34 │ Richard Ngarava     Zimbabwe       518\n",
              "  35 │ Christopher Sole    Scotland       509\n",
              "\u001b[36m                                              14 rows omitted\u001b[0m"
            ]
          },
          "execution_count": 11,
          "metadata": {},
          "output_type": "execute_result"
        }
      ],
      "source": [
        "# Read the dataset of cricket players and their ICC bowling points from \"bowlers_new.xlsx\"\n",
        "xlsx_file = \"bowlers_new.xlsx\"\n",
        "df_bowlers = DataFrame(XLSX.readtable(xlsx_file, \"Sheet1\"))"
      ]
    },
    {
      "cell_type": "code",
      "execution_count": null,
      "id": "97ee9e2c",
      "metadata": {
        "tags": [],
        "id": "97ee9e2c",
        "outputId": "1a655972-c95b-46e9-f487-fc6931b31909"
      },
      "outputs": [
        {
          "data": {
            "text/html": [
              "<div><div style = \"float: left;\"><span>35×3 DataFrame</span></div><div style = \"float: right;\"><span style = \"font-style: italic;\">10 rows omitted</span></div><div style = \"clear: both;\"></div></div><div class = \"data-frame\" style = \"overflow-x: scroll;\"><table class = \"data-frame\" style = \"margin-bottom: 6px;\"><thead><tr class = \"header\"><th class = \"rowNumber\" style = \"font-weight: bold; text-align: right;\">Row</th><th style = \"text-align: left;\">Bowler_Name</th><th style = \"text-align: left;\">Player_Nation</th><th style = \"text-align: left;\">ICC_Bowling_Points</th></tr><tr class = \"subheader headerLastRow\"><th class = \"rowNumber\" style = \"font-weight: bold; text-align: right;\"></th><th title = \"Any\" style = \"text-align: left;\">Any</th><th title = \"Any\" style = \"text-align: left;\">Any</th><th title = \"Any\" style = \"text-align: left;\">Any</th></tr></thead><tbody><tr><td class = \"rowNumber\" style = \"font-weight: bold; text-align: right;\">1</td><td style = \"text-align: left;\">Mohammed Siraj</td><td style = \"text-align: left;\">India</td><td style = \"text-align: left;\">669</td></tr><tr><td class = \"rowNumber\" style = \"font-weight: bold; text-align: right;\">2</td><td style = \"text-align: left;\">Josh Hazlewood</td><td style = \"text-align: left;\">Australia</td><td style = \"text-align: left;\">669</td></tr><tr><td class = \"rowNumber\" style = \"font-weight: bold; text-align: right;\">3</td><td style = \"text-align: left;\">Mujeeb Ur Rahman</td><td style = \"text-align: left;\">Afghanistan</td><td style = \"text-align: left;\">657</td></tr><tr><td class = \"rowNumber\" style = \"font-weight: bold; text-align: right;\">4</td><td style = \"text-align: left;\">Rashid Khan</td><td style = \"text-align: left;\">Afghanistan</td><td style = \"text-align: left;\">655</td></tr><tr><td class = \"rowNumber\" style = \"font-weight: bold; text-align: right;\">5</td><td style = \"text-align: left;\">Trent Boult</td><td style = \"text-align: left;\">New Zealand</td><td style = \"text-align: left;\">653</td></tr><tr><td class = \"rowNumber\" style = \"font-weight: bold; text-align: right;\">6</td><td style = \"text-align: left;\">Shaheen Afridi</td><td style = \"text-align: left;\">Pakistan</td><td style = \"text-align: left;\">632</td></tr><tr><td class = \"rowNumber\" style = \"font-weight: bold; text-align: right;\">7</td><td style = \"text-align: left;\">Adam Zampa</td><td style = \"text-align: left;\">Australia</td><td style = \"text-align: left;\">631</td></tr><tr><td class = \"rowNumber\" style = \"font-weight: bold; text-align: right;\">8</td><td style = \"text-align: left;\">Mitchell Starc</td><td style = \"text-align: left;\">Australia</td><td style = \"text-align: left;\">628</td></tr><tr><td class = \"rowNumber\" style = \"font-weight: bold; text-align: right;\">9</td><td style = \"text-align: left;\">Matt Henry</td><td style = \"text-align: left;\">New Zealand</td><td style = \"text-align: left;\">626</td></tr><tr><td class = \"rowNumber\" style = \"font-weight: bold; text-align: right;\">10</td><td style = \"text-align: left;\">Mohammad Nabi</td><td style = \"text-align: left;\">Afghanistan</td><td style = \"text-align: left;\">621</td></tr><tr><td class = \"rowNumber\" style = \"font-weight: bold; text-align: right;\">11</td><td style = \"text-align: left;\">Kuldeep Yadav</td><td style = \"text-align: left;\">India</td><td style = \"text-align: left;\">616</td></tr><tr><td class = \"rowNumber\" style = \"font-weight: bold; text-align: right;\">12</td><td style = \"text-align: left;\">Chris Woakes</td><td style = \"text-align: left;\">England</td><td style = \"text-align: left;\">613</td></tr><tr><td class = \"rowNumber\" style = \"font-weight: bold; text-align: right;\">13</td><td style = \"text-align: left;\">Mark Watt</td><td style = \"text-align: left;\">Scotland</td><td style = \"text-align: left;\">611</td></tr><tr><td style = \"text-align: right;\">&vellip;</td><td style = \"text-align: right;\">&vellip;</td><td style = \"text-align: right;\">&vellip;</td><td style = \"text-align: right;\">&vellip;</td></tr><tr><td class = \"rowNumber\" style = \"font-weight: bold; text-align: right;\">24</td><td style = \"text-align: left;\">Jofra Archer</td><td style = \"text-align: left;\">England</td><td style = \"text-align: left;\">561</td></tr><tr><td class = \"rowNumber\" style = \"font-weight: bold; text-align: right;\">25</td><td style = \"text-align: left;\">Alzarri Joseph</td><td style = \"text-align: left;\">West Indies</td><td style = \"text-align: left;\">558</td></tr><tr><td class = \"rowNumber\" style = \"font-weight: bold; text-align: right;\">26</td><td style = \"text-align: left;\">Pat Cummins</td><td style = \"text-align: left;\">Australia</td><td style = \"text-align: left;\">555</td></tr><tr><td class = \"rowNumber\" style = \"font-weight: bold; text-align: right;\">27</td><td style = \"text-align: left;\">Mohammad Shami</td><td style = \"text-align: left;\">India</td><td style = \"text-align: left;\">555</td></tr><tr><td class = \"rowNumber\" style = \"font-weight: bold; text-align: right;\">28</td><td style = \"text-align: left;\">Jasprit Bumrah</td><td style = \"text-align: left;\">India</td><td style = \"text-align: left;\">552</td></tr><tr><td class = \"rowNumber\" style = \"font-weight: bold; text-align: right;\">29</td><td style = \"text-align: left;\">Andy McBrine</td><td style = \"text-align: left;\">Ireland</td><td style = \"text-align: left;\">545</td></tr><tr><td class = \"rowNumber\" style = \"font-weight: bold; text-align: right;\">30</td><td style = \"text-align: left;\">Sandeep Lamichhane</td><td style = \"text-align: left;\">Nepal</td><td style = \"text-align: left;\">539</td></tr><tr><td class = \"rowNumber\" style = \"font-weight: bold; text-align: right;\">31</td><td style = \"text-align: left;\">Tabraiz Shamsi</td><td style = \"text-align: left;\">South Africa</td><td style = \"text-align: left;\">533</td></tr><tr><td class = \"rowNumber\" style = \"font-weight: bold; text-align: right;\">32</td><td style = \"text-align: left;\">Mark Adair</td><td style = \"text-align: left;\">Ireland</td><td style = \"text-align: left;\">529</td></tr><tr><td class = \"rowNumber\" style = \"font-weight: bold; text-align: right;\">33</td><td style = \"text-align: left;\">David Willey</td><td style = \"text-align: left;\">England</td><td style = \"text-align: left;\">520</td></tr><tr><td class = \"rowNumber\" style = \"font-weight: bold; text-align: right;\">34</td><td style = \"text-align: left;\">Richard Ngarava</td><td style = \"text-align: left;\">Zimbabwe</td><td style = \"text-align: left;\">518</td></tr><tr><td class = \"rowNumber\" style = \"font-weight: bold; text-align: right;\">35</td><td style = \"text-align: left;\">Christopher Sole</td><td style = \"text-align: left;\">Scotland</td><td style = \"text-align: left;\">509</td></tr></tbody></table></div>"
            ],
            "text/latex": [
              "\\begin{tabular}{r|ccc}\n",
              "\t& Bowler\\_Name & Player\\_Nation & ICC\\_Bowling\\_Points\\\\\n",
              "\t\\hline\n",
              "\t& Any & Any & Any\\\\\n",
              "\t\\hline\n",
              "\t1 & Mohammed Siraj & India & 669 \\\\\n",
              "\t2 & Josh Hazlewood & Australia & 669 \\\\\n",
              "\t3 & Mujeeb Ur Rahman & Afghanistan & 657 \\\\\n",
              "\t4 & Rashid Khan & Afghanistan & 655 \\\\\n",
              "\t5 & Trent Boult & New Zealand & 653 \\\\\n",
              "\t6 & Shaheen Afridi & Pakistan & 632 \\\\\n",
              "\t7 & Adam Zampa & Australia & 631 \\\\\n",
              "\t8 & Mitchell Starc & Australia & 628 \\\\\n",
              "\t9 & Matt Henry & New Zealand & 626 \\\\\n",
              "\t10 & Mohammad Nabi & Afghanistan & 621 \\\\\n",
              "\t11 & Kuldeep Yadav & India & 616 \\\\\n",
              "\t12 & Chris Woakes & England & 613 \\\\\n",
              "\t13 & Mark Watt & Scotland & 611 \\\\\n",
              "\t14 & Keshav Maharaj & South Africa & 599 \\\\\n",
              "\t15 & Kagiso Rabada & South Africa & 594 \\\\\n",
              "\t16 & Maheesh Theekshana & Sri Lanka & 593 \\\\\n",
              "\t17 & Shakib Al Hasan & Bangladesh & 592 \\\\\n",
              "\t18 & Bernard Scholtz & Namibia & 589 \\\\\n",
              "\t19 & Saurabh Netravalkar & United States & 586 \\\\\n",
              "\t20 & Lungi Ngidi & South Africa & 570 \\\\\n",
              "\t21 & Haris Rauf & Pakistan & 566 \\\\\n",
              "\t22 & Mustafizur Rahman & Bangladesh & 564 \\\\\n",
              "\t23 & Akeal Hosein & West Indies & 563 \\\\\n",
              "\t24 & Jofra Archer & England & 561 \\\\\n",
              "\t25 & Alzarri Joseph & West Indies & 558 \\\\\n",
              "\t26 & Pat Cummins & Australia & 555 \\\\\n",
              "\t27 & Mohammad Shami & India & 555 \\\\\n",
              "\t28 & Jasprit Bumrah & India & 552 \\\\\n",
              "\t29 & Andy McBrine & Ireland & 545 \\\\\n",
              "\t30 & Sandeep Lamichhane & Nepal & 539 \\\\\n",
              "\t$\\dots$ & $\\dots$ & $\\dots$ & $\\dots$ \\\\\n",
              "\\end{tabular}\n"
            ],
            "text/plain": [
              "\u001b[1m35×3 DataFrame\u001b[0m\n",
              "\u001b[1m Row \u001b[0m│\u001b[1m Bowler_Name        \u001b[0m\u001b[1m Player_Nation \u001b[0m\u001b[1m ICC_Bowling_Points \u001b[0m\n",
              "     │\u001b[90m Any                \u001b[0m\u001b[90m Any           \u001b[0m\u001b[90m Any                \u001b[0m\n",
              "─────┼───────────────────────────────────────────────────────\n",
              "   1 │ Mohammed Siraj      India          669\n",
              "   2 │ Josh Hazlewood      Australia      669\n",
              "   3 │ Mujeeb Ur Rahman    Afghanistan    657\n",
              "   4 │ Rashid Khan         Afghanistan    655\n",
              "   5 │ Trent Boult         New Zealand    653\n",
              "   6 │ Shaheen Afridi      Pakistan       632\n",
              "   7 │ Adam Zampa          Australia      631\n",
              "   8 │ Mitchell Starc      Australia      628\n",
              "   9 │ Matt Henry          New Zealand    626\n",
              "  10 │ Mohammad Nabi       Afghanistan    621\n",
              "  11 │ Kuldeep Yadav       India          616\n",
              "  ⋮  │         ⋮                 ⋮                ⋮\n",
              "  26 │ Pat Cummins         Australia      555\n",
              "  27 │ Mohammad Shami      India          555\n",
              "  28 │ Jasprit Bumrah      India          552\n",
              "  29 │ Andy McBrine        Ireland        545\n",
              "  30 │ Sandeep Lamichhane  Nepal          539\n",
              "  31 │ Tabraiz Shamsi      South Africa   533\n",
              "  32 │ Mark Adair          Ireland        529\n",
              "  33 │ David Willey        England        520\n",
              "  34 │ Richard Ngarava     Zimbabwe       518\n",
              "  35 │ Christopher Sole    Scotland       509\n",
              "\u001b[36m                                              14 rows omitted\u001b[0m"
            ]
          },
          "execution_count": 12,
          "metadata": {},
          "output_type": "execute_result"
        }
      ],
      "source": [
        "# Drop all the rows with NaN scores\n",
        "df_bowlers = dropmissing(df_bowlers)"
      ]
    },
    {
      "cell_type": "code",
      "execution_count": null,
      "id": "fb212e0d",
      "metadata": {
        "tags": [],
        "id": "fb212e0d",
        "outputId": "960594d2-d594-43a1-bddf-b2fa55b4efac"
      },
      "outputs": [
        {
          "data": {
            "text/html": [
              "<div><div style = \"float: left;\"><span>35×3 DataFrame</span></div><div style = \"float: right;\"><span style = \"font-style: italic;\">10 rows omitted</span></div><div style = \"clear: both;\"></div></div><div class = \"data-frame\" style = \"overflow-x: scroll;\"><table class = \"data-frame\" style = \"margin-bottom: 6px;\"><thead><tr class = \"header\"><th class = \"rowNumber\" style = \"font-weight: bold; text-align: right;\">Row</th><th style = \"text-align: left;\">Bowler_Name</th><th style = \"text-align: left;\">Player_Nation</th><th style = \"text-align: left;\">ICC_Bowling_Points</th></tr><tr class = \"subheader headerLastRow\"><th class = \"rowNumber\" style = \"font-weight: bold; text-align: right;\"></th><th title = \"Any\" style = \"text-align: left;\">Any</th><th title = \"Any\" style = \"text-align: left;\">Any</th><th title = \"Any\" style = \"text-align: left;\">Any</th></tr></thead><tbody><tr><td class = \"rowNumber\" style = \"font-weight: bold; text-align: right;\">1</td><td style = \"text-align: left;\">Mohammed Siraj</td><td style = \"text-align: left;\">India</td><td style = \"text-align: left;\">669</td></tr><tr><td class = \"rowNumber\" style = \"font-weight: bold; text-align: right;\">2</td><td style = \"text-align: left;\">Josh Hazlewood</td><td style = \"text-align: left;\">Australia</td><td style = \"text-align: left;\">669</td></tr><tr><td class = \"rowNumber\" style = \"font-weight: bold; text-align: right;\">3</td><td style = \"text-align: left;\">Mujeeb Ur Rahman</td><td style = \"text-align: left;\">Afghanistan</td><td style = \"text-align: left;\">657</td></tr><tr><td class = \"rowNumber\" style = \"font-weight: bold; text-align: right;\">4</td><td style = \"text-align: left;\">Rashid Khan</td><td style = \"text-align: left;\">Afghanistan</td><td style = \"text-align: left;\">655</td></tr><tr><td class = \"rowNumber\" style = \"font-weight: bold; text-align: right;\">5</td><td style = \"text-align: left;\">Trent Boult</td><td style = \"text-align: left;\">New Zealand</td><td style = \"text-align: left;\">653</td></tr><tr><td class = \"rowNumber\" style = \"font-weight: bold; text-align: right;\">6</td><td style = \"text-align: left;\">Shaheen Afridi</td><td style = \"text-align: left;\">Pakistan</td><td style = \"text-align: left;\">632</td></tr><tr><td class = \"rowNumber\" style = \"font-weight: bold; text-align: right;\">7</td><td style = \"text-align: left;\">Adam Zampa</td><td style = \"text-align: left;\">Australia</td><td style = \"text-align: left;\">631</td></tr><tr><td class = \"rowNumber\" style = \"font-weight: bold; text-align: right;\">8</td><td style = \"text-align: left;\">Mitchell Starc</td><td style = \"text-align: left;\">Australia</td><td style = \"text-align: left;\">628</td></tr><tr><td class = \"rowNumber\" style = \"font-weight: bold; text-align: right;\">9</td><td style = \"text-align: left;\">Matt Henry</td><td style = \"text-align: left;\">New Zealand</td><td style = \"text-align: left;\">626</td></tr><tr><td class = \"rowNumber\" style = \"font-weight: bold; text-align: right;\">10</td><td style = \"text-align: left;\">Mohammad Nabi</td><td style = \"text-align: left;\">Afghanistan</td><td style = \"text-align: left;\">621</td></tr><tr><td class = \"rowNumber\" style = \"font-weight: bold; text-align: right;\">11</td><td style = \"text-align: left;\">Kuldeep Yadav</td><td style = \"text-align: left;\">India</td><td style = \"text-align: left;\">616</td></tr><tr><td class = \"rowNumber\" style = \"font-weight: bold; text-align: right;\">12</td><td style = \"text-align: left;\">Chris Woakes</td><td style = \"text-align: left;\">England</td><td style = \"text-align: left;\">613</td></tr><tr><td class = \"rowNumber\" style = \"font-weight: bold; text-align: right;\">13</td><td style = \"text-align: left;\">Mark Watt</td><td style = \"text-align: left;\">Scotland</td><td style = \"text-align: left;\">611</td></tr><tr><td style = \"text-align: right;\">&vellip;</td><td style = \"text-align: right;\">&vellip;</td><td style = \"text-align: right;\">&vellip;</td><td style = \"text-align: right;\">&vellip;</td></tr><tr><td class = \"rowNumber\" style = \"font-weight: bold; text-align: right;\">24</td><td style = \"text-align: left;\">Jofra Archer</td><td style = \"text-align: left;\">England</td><td style = \"text-align: left;\">561</td></tr><tr><td class = \"rowNumber\" style = \"font-weight: bold; text-align: right;\">25</td><td style = \"text-align: left;\">Alzarri Joseph</td><td style = \"text-align: left;\">West Indies</td><td style = \"text-align: left;\">558</td></tr><tr><td class = \"rowNumber\" style = \"font-weight: bold; text-align: right;\">26</td><td style = \"text-align: left;\">Pat Cummins</td><td style = \"text-align: left;\">Australia</td><td style = \"text-align: left;\">555</td></tr><tr><td class = \"rowNumber\" style = \"font-weight: bold; text-align: right;\">27</td><td style = \"text-align: left;\">Mohammad Shami</td><td style = \"text-align: left;\">India</td><td style = \"text-align: left;\">555</td></tr><tr><td class = \"rowNumber\" style = \"font-weight: bold; text-align: right;\">28</td><td style = \"text-align: left;\">Jasprit Bumrah</td><td style = \"text-align: left;\">India</td><td style = \"text-align: left;\">552</td></tr><tr><td class = \"rowNumber\" style = \"font-weight: bold; text-align: right;\">29</td><td style = \"text-align: left;\">Andy McBrine</td><td style = \"text-align: left;\">Ireland</td><td style = \"text-align: left;\">545</td></tr><tr><td class = \"rowNumber\" style = \"font-weight: bold; text-align: right;\">30</td><td style = \"text-align: left;\">Sandeep Lamichhane</td><td style = \"text-align: left;\">Nepal</td><td style = \"text-align: left;\">539</td></tr><tr><td class = \"rowNumber\" style = \"font-weight: bold; text-align: right;\">31</td><td style = \"text-align: left;\">Tabraiz Shamsi</td><td style = \"text-align: left;\">South Africa</td><td style = \"text-align: left;\">533</td></tr><tr><td class = \"rowNumber\" style = \"font-weight: bold; text-align: right;\">32</td><td style = \"text-align: left;\">Mark Adair</td><td style = \"text-align: left;\">Ireland</td><td style = \"text-align: left;\">529</td></tr><tr><td class = \"rowNumber\" style = \"font-weight: bold; text-align: right;\">33</td><td style = \"text-align: left;\">David Willey</td><td style = \"text-align: left;\">England</td><td style = \"text-align: left;\">520</td></tr><tr><td class = \"rowNumber\" style = \"font-weight: bold; text-align: right;\">34</td><td style = \"text-align: left;\">Richard Ngarava</td><td style = \"text-align: left;\">Zimbabwe</td><td style = \"text-align: left;\">518</td></tr><tr><td class = \"rowNumber\" style = \"font-weight: bold; text-align: right;\">35</td><td style = \"text-align: left;\">Christopher Sole</td><td style = \"text-align: left;\">Scotland</td><td style = \"text-align: left;\">509</td></tr></tbody></table></div>"
            ],
            "text/latex": [
              "\\begin{tabular}{r|ccc}\n",
              "\t& Bowler\\_Name & Player\\_Nation & ICC\\_Bowling\\_Points\\\\\n",
              "\t\\hline\n",
              "\t& Any & Any & Any\\\\\n",
              "\t\\hline\n",
              "\t1 & Mohammed Siraj & India & 669 \\\\\n",
              "\t2 & Josh Hazlewood & Australia & 669 \\\\\n",
              "\t3 & Mujeeb Ur Rahman & Afghanistan & 657 \\\\\n",
              "\t4 & Rashid Khan & Afghanistan & 655 \\\\\n",
              "\t5 & Trent Boult & New Zealand & 653 \\\\\n",
              "\t6 & Shaheen Afridi & Pakistan & 632 \\\\\n",
              "\t7 & Adam Zampa & Australia & 631 \\\\\n",
              "\t8 & Mitchell Starc & Australia & 628 \\\\\n",
              "\t9 & Matt Henry & New Zealand & 626 \\\\\n",
              "\t10 & Mohammad Nabi & Afghanistan & 621 \\\\\n",
              "\t11 & Kuldeep Yadav & India & 616 \\\\\n",
              "\t12 & Chris Woakes & England & 613 \\\\\n",
              "\t13 & Mark Watt & Scotland & 611 \\\\\n",
              "\t14 & Keshav Maharaj & South Africa & 599 \\\\\n",
              "\t15 & Kagiso Rabada & South Africa & 594 \\\\\n",
              "\t16 & Maheesh Theekshana & Sri Lanka & 593 \\\\\n",
              "\t17 & Shakib Al Hasan & Bangladesh & 592 \\\\\n",
              "\t18 & Bernard Scholtz & Namibia & 589 \\\\\n",
              "\t19 & Saurabh Netravalkar & United States & 586 \\\\\n",
              "\t20 & Lungi Ngidi & South Africa & 570 \\\\\n",
              "\t21 & Haris Rauf & Pakistan & 566 \\\\\n",
              "\t22 & Mustafizur Rahman & Bangladesh & 564 \\\\\n",
              "\t23 & Akeal Hosein & West Indies & 563 \\\\\n",
              "\t24 & Jofra Archer & England & 561 \\\\\n",
              "\t25 & Alzarri Joseph & West Indies & 558 \\\\\n",
              "\t26 & Pat Cummins & Australia & 555 \\\\\n",
              "\t27 & Mohammad Shami & India & 555 \\\\\n",
              "\t28 & Jasprit Bumrah & India & 552 \\\\\n",
              "\t29 & Andy McBrine & Ireland & 545 \\\\\n",
              "\t30 & Sandeep Lamichhane & Nepal & 539 \\\\\n",
              "\t$\\dots$ & $\\dots$ & $\\dots$ & $\\dots$ \\\\\n",
              "\\end{tabular}\n"
            ],
            "text/plain": [
              "\u001b[1m35×3 DataFrame\u001b[0m\n",
              "\u001b[1m Row \u001b[0m│\u001b[1m Bowler_Name        \u001b[0m\u001b[1m Player_Nation \u001b[0m\u001b[1m ICC_Bowling_Points \u001b[0m\n",
              "     │\u001b[90m Any                \u001b[0m\u001b[90m Any           \u001b[0m\u001b[90m Any                \u001b[0m\n",
              "─────┼───────────────────────────────────────────────────────\n",
              "   1 │ Mohammed Siraj      India          669\n",
              "   2 │ Josh Hazlewood      Australia      669\n",
              "   3 │ Mujeeb Ur Rahman    Afghanistan    657\n",
              "   4 │ Rashid Khan         Afghanistan    655\n",
              "   5 │ Trent Boult         New Zealand    653\n",
              "   6 │ Shaheen Afridi      Pakistan       632\n",
              "   7 │ Adam Zampa          Australia      631\n",
              "   8 │ Mitchell Starc      Australia      628\n",
              "   9 │ Matt Henry          New Zealand    626\n",
              "  10 │ Mohammad Nabi       Afghanistan    621\n",
              "  11 │ Kuldeep Yadav       India          616\n",
              "  ⋮  │         ⋮                 ⋮                ⋮\n",
              "  26 │ Pat Cummins         Australia      555\n",
              "  27 │ Mohammad Shami      India          555\n",
              "  28 │ Jasprit Bumrah      India          552\n",
              "  29 │ Andy McBrine        Ireland        545\n",
              "  30 │ Sandeep Lamichhane  Nepal          539\n",
              "  31 │ Tabraiz Shamsi      South Africa   533\n",
              "  32 │ Mark Adair          Ireland        529\n",
              "  33 │ David Willey        England        520\n",
              "  34 │ Richard Ngarava     Zimbabwe       518\n",
              "  35 │ Christopher Sole    Scotland       509\n",
              "\u001b[36m                                              14 rows omitted\u001b[0m"
            ]
          },
          "execution_count": 13,
          "metadata": {},
          "output_type": "execute_result"
        }
      ],
      "source": [
        "# Sort the dataset by bowling points in descending order\n",
        "sort!(df_bowlers, :ICC_Bowling_Points, rev=true)"
      ]
    },
    {
      "cell_type": "code",
      "execution_count": null,
      "id": "00fd4ec7",
      "metadata": {
        "tags": [],
        "id": "00fd4ec7",
        "outputId": "5a3b03c2-0b07-49dd-9215-3a3d4563c0e0"
      },
      "outputs": [
        {
          "data": {
            "text/html": [
              "<div><div style = \"float: left;\"><span>35×4 DataFrame</span></div><div style = \"float: right;\"><span style = \"font-style: italic;\">10 rows omitted</span></div><div style = \"clear: both;\"></div></div><div class = \"data-frame\" style = \"overflow-x: scroll;\"><table class = \"data-frame\" style = \"margin-bottom: 6px;\"><thead><tr class = \"header\"><th class = \"rowNumber\" style = \"font-weight: bold; text-align: right;\">Row</th><th style = \"text-align: left;\">Bowler_Name</th><th style = \"text-align: left;\">Player_Nation</th><th style = \"text-align: left;\">ICC_Bowling_Points</th><th style = \"text-align: left;\">Percentile_Rank</th></tr><tr class = \"subheader headerLastRow\"><th class = \"rowNumber\" style = \"font-weight: bold; text-align: right;\"></th><th title = \"Any\" style = \"text-align: left;\">Any</th><th title = \"Any\" style = \"text-align: left;\">Any</th><th title = \"Any\" style = \"text-align: left;\">Any</th><th title = \"Float64\" style = \"text-align: left;\">Float64</th></tr></thead><tbody><tr><td class = \"rowNumber\" style = \"font-weight: bold; text-align: right;\">1</td><td style = \"text-align: left;\">Mohammed Siraj</td><td style = \"text-align: left;\">India</td><td style = \"text-align: left;\">669</td><td style = \"text-align: right;\">100.0</td></tr><tr><td class = \"rowNumber\" style = \"font-weight: bold; text-align: right;\">2</td><td style = \"text-align: left;\">Josh Hazlewood</td><td style = \"text-align: left;\">Australia</td><td style = \"text-align: left;\">669</td><td style = \"text-align: right;\">100.0</td></tr><tr><td class = \"rowNumber\" style = \"font-weight: bold; text-align: right;\">3</td><td style = \"text-align: left;\">Mujeeb Ur Rahman</td><td style = \"text-align: left;\">Afghanistan</td><td style = \"text-align: left;\">657</td><td style = \"text-align: right;\">94.2857</td></tr><tr><td class = \"rowNumber\" style = \"font-weight: bold; text-align: right;\">4</td><td style = \"text-align: left;\">Rashid Khan</td><td style = \"text-align: left;\">Afghanistan</td><td style = \"text-align: left;\">655</td><td style = \"text-align: right;\">91.4286</td></tr><tr><td class = \"rowNumber\" style = \"font-weight: bold; text-align: right;\">5</td><td style = \"text-align: left;\">Trent Boult</td><td style = \"text-align: left;\">New Zealand</td><td style = \"text-align: left;\">653</td><td style = \"text-align: right;\">88.5714</td></tr><tr><td class = \"rowNumber\" style = \"font-weight: bold; text-align: right;\">6</td><td style = \"text-align: left;\">Shaheen Afridi</td><td style = \"text-align: left;\">Pakistan</td><td style = \"text-align: left;\">632</td><td style = \"text-align: right;\">85.7143</td></tr><tr><td class = \"rowNumber\" style = \"font-weight: bold; text-align: right;\">7</td><td style = \"text-align: left;\">Adam Zampa</td><td style = \"text-align: left;\">Australia</td><td style = \"text-align: left;\">631</td><td style = \"text-align: right;\">82.8571</td></tr><tr><td class = \"rowNumber\" style = \"font-weight: bold; text-align: right;\">8</td><td style = \"text-align: left;\">Mitchell Starc</td><td style = \"text-align: left;\">Australia</td><td style = \"text-align: left;\">628</td><td style = \"text-align: right;\">80.0</td></tr><tr><td class = \"rowNumber\" style = \"font-weight: bold; text-align: right;\">9</td><td style = \"text-align: left;\">Matt Henry</td><td style = \"text-align: left;\">New Zealand</td><td style = \"text-align: left;\">626</td><td style = \"text-align: right;\">77.1429</td></tr><tr><td class = \"rowNumber\" style = \"font-weight: bold; text-align: right;\">10</td><td style = \"text-align: left;\">Mohammad Nabi</td><td style = \"text-align: left;\">Afghanistan</td><td style = \"text-align: left;\">621</td><td style = \"text-align: right;\">74.2857</td></tr><tr><td class = \"rowNumber\" style = \"font-weight: bold; text-align: right;\">11</td><td style = \"text-align: left;\">Kuldeep Yadav</td><td style = \"text-align: left;\">India</td><td style = \"text-align: left;\">616</td><td style = \"text-align: right;\">71.4286</td></tr><tr><td class = \"rowNumber\" style = \"font-weight: bold; text-align: right;\">12</td><td style = \"text-align: left;\">Chris Woakes</td><td style = \"text-align: left;\">England</td><td style = \"text-align: left;\">613</td><td style = \"text-align: right;\">68.5714</td></tr><tr><td class = \"rowNumber\" style = \"font-weight: bold; text-align: right;\">13</td><td style = \"text-align: left;\">Mark Watt</td><td style = \"text-align: left;\">Scotland</td><td style = \"text-align: left;\">611</td><td style = \"text-align: right;\">65.7143</td></tr><tr><td style = \"text-align: right;\">&vellip;</td><td style = \"text-align: right;\">&vellip;</td><td style = \"text-align: right;\">&vellip;</td><td style = \"text-align: right;\">&vellip;</td><td style = \"text-align: right;\">&vellip;</td></tr><tr><td class = \"rowNumber\" style = \"font-weight: bold; text-align: right;\">24</td><td style = \"text-align: left;\">Jofra Archer</td><td style = \"text-align: left;\">England</td><td style = \"text-align: left;\">561</td><td style = \"text-align: right;\">34.2857</td></tr><tr><td class = \"rowNumber\" style = \"font-weight: bold; text-align: right;\">25</td><td style = \"text-align: left;\">Alzarri Joseph</td><td style = \"text-align: left;\">West Indies</td><td style = \"text-align: left;\">558</td><td style = \"text-align: right;\">31.4286</td></tr><tr><td class = \"rowNumber\" style = \"font-weight: bold; text-align: right;\">26</td><td style = \"text-align: left;\">Pat Cummins</td><td style = \"text-align: left;\">Australia</td><td style = \"text-align: left;\">555</td><td style = \"text-align: right;\">28.5714</td></tr><tr><td class = \"rowNumber\" style = \"font-weight: bold; text-align: right;\">27</td><td style = \"text-align: left;\">Mohammad Shami</td><td style = \"text-align: left;\">India</td><td style = \"text-align: left;\">555</td><td style = \"text-align: right;\">28.5714</td></tr><tr><td class = \"rowNumber\" style = \"font-weight: bold; text-align: right;\">28</td><td style = \"text-align: left;\">Jasprit Bumrah</td><td style = \"text-align: left;\">India</td><td style = \"text-align: left;\">552</td><td style = \"text-align: right;\">22.8571</td></tr><tr><td class = \"rowNumber\" style = \"font-weight: bold; text-align: right;\">29</td><td style = \"text-align: left;\">Andy McBrine</td><td style = \"text-align: left;\">Ireland</td><td style = \"text-align: left;\">545</td><td style = \"text-align: right;\">20.0</td></tr><tr><td class = \"rowNumber\" style = \"font-weight: bold; text-align: right;\">30</td><td style = \"text-align: left;\">Sandeep Lamichhane</td><td style = \"text-align: left;\">Nepal</td><td style = \"text-align: left;\">539</td><td style = \"text-align: right;\">17.1429</td></tr><tr><td class = \"rowNumber\" style = \"font-weight: bold; text-align: right;\">31</td><td style = \"text-align: left;\">Tabraiz Shamsi</td><td style = \"text-align: left;\">South Africa</td><td style = \"text-align: left;\">533</td><td style = \"text-align: right;\">14.2857</td></tr><tr><td class = \"rowNumber\" style = \"font-weight: bold; text-align: right;\">32</td><td style = \"text-align: left;\">Mark Adair</td><td style = \"text-align: left;\">Ireland</td><td style = \"text-align: left;\">529</td><td style = \"text-align: right;\">11.4286</td></tr><tr><td class = \"rowNumber\" style = \"font-weight: bold; text-align: right;\">33</td><td style = \"text-align: left;\">David Willey</td><td style = \"text-align: left;\">England</td><td style = \"text-align: left;\">520</td><td style = \"text-align: right;\">8.57143</td></tr><tr><td class = \"rowNumber\" style = \"font-weight: bold; text-align: right;\">34</td><td style = \"text-align: left;\">Richard Ngarava</td><td style = \"text-align: left;\">Zimbabwe</td><td style = \"text-align: left;\">518</td><td style = \"text-align: right;\">5.71429</td></tr><tr><td class = \"rowNumber\" style = \"font-weight: bold; text-align: right;\">35</td><td style = \"text-align: left;\">Christopher Sole</td><td style = \"text-align: left;\">Scotland</td><td style = \"text-align: left;\">509</td><td style = \"text-align: right;\">2.85714</td></tr></tbody></table></div>"
            ],
            "text/latex": [
              "\\begin{tabular}{r|cccc}\n",
              "\t& Bowler\\_Name & Player\\_Nation & ICC\\_Bowling\\_Points & Percentile\\_Rank\\\\\n",
              "\t\\hline\n",
              "\t& Any & Any & Any & Float64\\\\\n",
              "\t\\hline\n",
              "\t1 & Mohammed Siraj & India & 669 & 100.0 \\\\\n",
              "\t2 & Josh Hazlewood & Australia & 669 & 100.0 \\\\\n",
              "\t3 & Mujeeb Ur Rahman & Afghanistan & 657 & 94.2857 \\\\\n",
              "\t4 & Rashid Khan & Afghanistan & 655 & 91.4286 \\\\\n",
              "\t5 & Trent Boult & New Zealand & 653 & 88.5714 \\\\\n",
              "\t6 & Shaheen Afridi & Pakistan & 632 & 85.7143 \\\\\n",
              "\t7 & Adam Zampa & Australia & 631 & 82.8571 \\\\\n",
              "\t8 & Mitchell Starc & Australia & 628 & 80.0 \\\\\n",
              "\t9 & Matt Henry & New Zealand & 626 & 77.1429 \\\\\n",
              "\t10 & Mohammad Nabi & Afghanistan & 621 & 74.2857 \\\\\n",
              "\t11 & Kuldeep Yadav & India & 616 & 71.4286 \\\\\n",
              "\t12 & Chris Woakes & England & 613 & 68.5714 \\\\\n",
              "\t13 & Mark Watt & Scotland & 611 & 65.7143 \\\\\n",
              "\t14 & Keshav Maharaj & South Africa & 599 & 62.8571 \\\\\n",
              "\t15 & Kagiso Rabada & South Africa & 594 & 60.0 \\\\\n",
              "\t16 & Maheesh Theekshana & Sri Lanka & 593 & 57.1429 \\\\\n",
              "\t17 & Shakib Al Hasan & Bangladesh & 592 & 54.2857 \\\\\n",
              "\t18 & Bernard Scholtz & Namibia & 589 & 51.4286 \\\\\n",
              "\t19 & Saurabh Netravalkar & United States & 586 & 48.5714 \\\\\n",
              "\t20 & Lungi Ngidi & South Africa & 570 & 45.7143 \\\\\n",
              "\t21 & Haris Rauf & Pakistan & 566 & 42.8571 \\\\\n",
              "\t22 & Mustafizur Rahman & Bangladesh & 564 & 40.0 \\\\\n",
              "\t23 & Akeal Hosein & West Indies & 563 & 37.1429 \\\\\n",
              "\t24 & Jofra Archer & England & 561 & 34.2857 \\\\\n",
              "\t25 & Alzarri Joseph & West Indies & 558 & 31.4286 \\\\\n",
              "\t26 & Pat Cummins & Australia & 555 & 28.5714 \\\\\n",
              "\t27 & Mohammad Shami & India & 555 & 28.5714 \\\\\n",
              "\t28 & Jasprit Bumrah & India & 552 & 22.8571 \\\\\n",
              "\t29 & Andy McBrine & Ireland & 545 & 20.0 \\\\\n",
              "\t30 & Sandeep Lamichhane & Nepal & 539 & 17.1429 \\\\\n",
              "\t$\\dots$ & $\\dots$ & $\\dots$ & $\\dots$ & $\\dots$ \\\\\n",
              "\\end{tabular}\n"
            ],
            "text/plain": [
              "\u001b[1m35×4 DataFrame\u001b[0m\n",
              "\u001b[1m Row \u001b[0m│\u001b[1m Bowler_Name        \u001b[0m\u001b[1m Player_Nation \u001b[0m\u001b[1m ICC_Bowling_Points \u001b[0m\u001b[1m Percentile_Rank \u001b[0m\n",
              "     │\u001b[90m Any                \u001b[0m\u001b[90m Any           \u001b[0m\u001b[90m Any                \u001b[0m\u001b[90m Float64         \u001b[0m\n",
              "─────┼────────────────────────────────────────────────────────────────────────\n",
              "   1 │ Mohammed Siraj      India          669                       100.0\n",
              "   2 │ Josh Hazlewood      Australia      669                       100.0\n",
              "   3 │ Mujeeb Ur Rahman    Afghanistan    657                        94.2857\n",
              "   4 │ Rashid Khan         Afghanistan    655                        91.4286\n",
              "   5 │ Trent Boult         New Zealand    653                        88.5714\n",
              "   6 │ Shaheen Afridi      Pakistan       632                        85.7143\n",
              "   7 │ Adam Zampa          Australia      631                        82.8571\n",
              "   8 │ Mitchell Starc      Australia      628                        80.0\n",
              "   9 │ Matt Henry          New Zealand    626                        77.1429\n",
              "  10 │ Mohammad Nabi       Afghanistan    621                        74.2857\n",
              "  11 │ Kuldeep Yadav       India          616                        71.4286\n",
              "  ⋮  │         ⋮                 ⋮                ⋮                  ⋮\n",
              "  26 │ Pat Cummins         Australia      555                        28.5714\n",
              "  27 │ Mohammad Shami      India          555                        28.5714\n",
              "  28 │ Jasprit Bumrah      India          552                        22.8571\n",
              "  29 │ Andy McBrine        Ireland        545                        20.0\n",
              "  30 │ Sandeep Lamichhane  Nepal          539                        17.1429\n",
              "  31 │ Tabraiz Shamsi      South Africa   533                        14.2857\n",
              "  32 │ Mark Adair          Ireland        529                        11.4286\n",
              "  33 │ David Willey        England        520                         8.57143\n",
              "  34 │ Richard Ngarava     Zimbabwe       518                         5.71429\n",
              "  35 │ Christopher Sole    Scotland       509                         2.85714\n",
              "\u001b[36m                                                               14 rows omitted\u001b[0m"
            ]
          },
          "execution_count": 14,
          "metadata": {},
          "output_type": "execute_result"
        }
      ],
      "source": [
        "# Calculate the percentile rank for each player\n",
        "df_bowlers[!, :Percentile_Rank] .= [searchsortedlast(sort(df_bowlers[!, :ICC_Bowling_Points]), x) / nrow(df_bowlers) * 100 for x in df_bowlers[!, :ICC_Bowling_Points]]\n",
        "df_bowlers"
      ]
    },
    {
      "cell_type": "code",
      "execution_count": null,
      "id": "fcfb764c",
      "metadata": {
        "tags": [],
        "id": "fcfb764c",
        "outputId": "4607ad39-def1-4ada-a8f2-da82fdb6ef64"
      },
      "outputs": [
        {
          "data": {
            "text/html": [
              "<div><div style = \"float: left;\"><span>35×5 DataFrame</span></div><div style = \"float: right;\"><span style = \"font-style: italic;\">10 rows omitted</span></div><div style = \"clear: both;\"></div></div><div class = \"data-frame\" style = \"overflow-x: scroll;\"><table class = \"data-frame\" style = \"margin-bottom: 6px;\"><thead><tr class = \"header\"><th class = \"rowNumber\" style = \"font-weight: bold; text-align: right;\">Row</th><th style = \"text-align: left;\">Bowler_Name</th><th style = \"text-align: left;\">Player_Nation</th><th style = \"text-align: left;\">ICC_Bowling_Points</th><th style = \"text-align: left;\">Percentile_Rank</th><th style = \"text-align: left;\">Percentile_Score</th></tr><tr class = \"subheader headerLastRow\"><th class = \"rowNumber\" style = \"font-weight: bold; text-align: right;\"></th><th title = \"Any\" style = \"text-align: left;\">Any</th><th title = \"Any\" style = \"text-align: left;\">Any</th><th title = \"Any\" style = \"text-align: left;\">Any</th><th title = \"Float64\" style = \"text-align: left;\">Float64</th><th title = \"Float64\" style = \"text-align: left;\">Float64</th></tr></thead><tbody><tr><td class = \"rowNumber\" style = \"font-weight: bold; text-align: right;\">1</td><td style = \"text-align: left;\">Mohammed Siraj</td><td style = \"text-align: left;\">India</td><td style = \"text-align: left;\">669</td><td style = \"text-align: right;\">100.0</td><td style = \"text-align: right;\">99.0</td></tr><tr><td class = \"rowNumber\" style = \"font-weight: bold; text-align: right;\">2</td><td style = \"text-align: left;\">Josh Hazlewood</td><td style = \"text-align: left;\">Australia</td><td style = \"text-align: left;\">669</td><td style = \"text-align: right;\">100.0</td><td style = \"text-align: right;\">99.0</td></tr><tr><td class = \"rowNumber\" style = \"font-weight: bold; text-align: right;\">3</td><td style = \"text-align: left;\">Mujeeb Ur Rahman</td><td style = \"text-align: left;\">Afghanistan</td><td style = \"text-align: left;\">657</td><td style = \"text-align: right;\">94.2857</td><td style = \"text-align: right;\">99.0588</td></tr><tr><td class = \"rowNumber\" style = \"font-weight: bold; text-align: right;\">4</td><td style = \"text-align: left;\">Rashid Khan</td><td style = \"text-align: left;\">Afghanistan</td><td style = \"text-align: left;\">655</td><td style = \"text-align: right;\">91.4286</td><td style = \"text-align: right;\">99.0882</td></tr><tr><td class = \"rowNumber\" style = \"font-weight: bold; text-align: right;\">5</td><td style = \"text-align: left;\">Trent Boult</td><td style = \"text-align: left;\">New Zealand</td><td style = \"text-align: left;\">653</td><td style = \"text-align: right;\">88.5714</td><td style = \"text-align: right;\">99.1176</td></tr><tr><td class = \"rowNumber\" style = \"font-weight: bold; text-align: right;\">6</td><td style = \"text-align: left;\">Shaheen Afridi</td><td style = \"text-align: left;\">Pakistan</td><td style = \"text-align: left;\">632</td><td style = \"text-align: right;\">85.7143</td><td style = \"text-align: right;\">99.1471</td></tr><tr><td class = \"rowNumber\" style = \"font-weight: bold; text-align: right;\">7</td><td style = \"text-align: left;\">Adam Zampa</td><td style = \"text-align: left;\">Australia</td><td style = \"text-align: left;\">631</td><td style = \"text-align: right;\">82.8571</td><td style = \"text-align: right;\">99.1765</td></tr><tr><td class = \"rowNumber\" style = \"font-weight: bold; text-align: right;\">8</td><td style = \"text-align: left;\">Mitchell Starc</td><td style = \"text-align: left;\">Australia</td><td style = \"text-align: left;\">628</td><td style = \"text-align: right;\">80.0</td><td style = \"text-align: right;\">99.2059</td></tr><tr><td class = \"rowNumber\" style = \"font-weight: bold; text-align: right;\">9</td><td style = \"text-align: left;\">Matt Henry</td><td style = \"text-align: left;\">New Zealand</td><td style = \"text-align: left;\">626</td><td style = \"text-align: right;\">77.1429</td><td style = \"text-align: right;\">99.2353</td></tr><tr><td class = \"rowNumber\" style = \"font-weight: bold; text-align: right;\">10</td><td style = \"text-align: left;\">Mohammad Nabi</td><td style = \"text-align: left;\">Afghanistan</td><td style = \"text-align: left;\">621</td><td style = \"text-align: right;\">74.2857</td><td style = \"text-align: right;\">99.2647</td></tr><tr><td class = \"rowNumber\" style = \"font-weight: bold; text-align: right;\">11</td><td style = \"text-align: left;\">Kuldeep Yadav</td><td style = \"text-align: left;\">India</td><td style = \"text-align: left;\">616</td><td style = \"text-align: right;\">71.4286</td><td style = \"text-align: right;\">99.2941</td></tr><tr><td class = \"rowNumber\" style = \"font-weight: bold; text-align: right;\">12</td><td style = \"text-align: left;\">Chris Woakes</td><td style = \"text-align: left;\">England</td><td style = \"text-align: left;\">613</td><td style = \"text-align: right;\">68.5714</td><td style = \"text-align: right;\">99.3235</td></tr><tr><td class = \"rowNumber\" style = \"font-weight: bold; text-align: right;\">13</td><td style = \"text-align: left;\">Mark Watt</td><td style = \"text-align: left;\">Scotland</td><td style = \"text-align: left;\">611</td><td style = \"text-align: right;\">65.7143</td><td style = \"text-align: right;\">99.3529</td></tr><tr><td style = \"text-align: right;\">&vellip;</td><td style = \"text-align: right;\">&vellip;</td><td style = \"text-align: right;\">&vellip;</td><td style = \"text-align: right;\">&vellip;</td><td style = \"text-align: right;\">&vellip;</td><td style = \"text-align: right;\">&vellip;</td></tr><tr><td class = \"rowNumber\" style = \"font-weight: bold; text-align: right;\">24</td><td style = \"text-align: left;\">Jofra Archer</td><td style = \"text-align: left;\">England</td><td style = \"text-align: left;\">561</td><td style = \"text-align: right;\">34.2857</td><td style = \"text-align: right;\">99.6765</td></tr><tr><td class = \"rowNumber\" style = \"font-weight: bold; text-align: right;\">25</td><td style = \"text-align: left;\">Alzarri Joseph</td><td style = \"text-align: left;\">West Indies</td><td style = \"text-align: left;\">558</td><td style = \"text-align: right;\">31.4286</td><td style = \"text-align: right;\">99.7059</td></tr><tr><td class = \"rowNumber\" style = \"font-weight: bold; text-align: right;\">26</td><td style = \"text-align: left;\">Pat Cummins</td><td style = \"text-align: left;\">Australia</td><td style = \"text-align: left;\">555</td><td style = \"text-align: right;\">28.5714</td><td style = \"text-align: right;\">99.7353</td></tr><tr><td class = \"rowNumber\" style = \"font-weight: bold; text-align: right;\">27</td><td style = \"text-align: left;\">Mohammad Shami</td><td style = \"text-align: left;\">India</td><td style = \"text-align: left;\">555</td><td style = \"text-align: right;\">28.5714</td><td style = \"text-align: right;\">99.7353</td></tr><tr><td class = \"rowNumber\" style = \"font-weight: bold; text-align: right;\">28</td><td style = \"text-align: left;\">Jasprit Bumrah</td><td style = \"text-align: left;\">India</td><td style = \"text-align: left;\">552</td><td style = \"text-align: right;\">22.8571</td><td style = \"text-align: right;\">99.7941</td></tr><tr><td class = \"rowNumber\" style = \"font-weight: bold; text-align: right;\">29</td><td style = \"text-align: left;\">Andy McBrine</td><td style = \"text-align: left;\">Ireland</td><td style = \"text-align: left;\">545</td><td style = \"text-align: right;\">20.0</td><td style = \"text-align: right;\">99.8235</td></tr><tr><td class = \"rowNumber\" style = \"font-weight: bold; text-align: right;\">30</td><td style = \"text-align: left;\">Sandeep Lamichhane</td><td style = \"text-align: left;\">Nepal</td><td style = \"text-align: left;\">539</td><td style = \"text-align: right;\">17.1429</td><td style = \"text-align: right;\">99.8529</td></tr><tr><td class = \"rowNumber\" style = \"font-weight: bold; text-align: right;\">31</td><td style = \"text-align: left;\">Tabraiz Shamsi</td><td style = \"text-align: left;\">South Africa</td><td style = \"text-align: left;\">533</td><td style = \"text-align: right;\">14.2857</td><td style = \"text-align: right;\">99.8824</td></tr><tr><td class = \"rowNumber\" style = \"font-weight: bold; text-align: right;\">32</td><td style = \"text-align: left;\">Mark Adair</td><td style = \"text-align: left;\">Ireland</td><td style = \"text-align: left;\">529</td><td style = \"text-align: right;\">11.4286</td><td style = \"text-align: right;\">99.9118</td></tr><tr><td class = \"rowNumber\" style = \"font-weight: bold; text-align: right;\">33</td><td style = \"text-align: left;\">David Willey</td><td style = \"text-align: left;\">England</td><td style = \"text-align: left;\">520</td><td style = \"text-align: right;\">8.57143</td><td style = \"text-align: right;\">99.9412</td></tr><tr><td class = \"rowNumber\" style = \"font-weight: bold; text-align: right;\">34</td><td style = \"text-align: left;\">Richard Ngarava</td><td style = \"text-align: left;\">Zimbabwe</td><td style = \"text-align: left;\">518</td><td style = \"text-align: right;\">5.71429</td><td style = \"text-align: right;\">99.9706</td></tr><tr><td class = \"rowNumber\" style = \"font-weight: bold; text-align: right;\">35</td><td style = \"text-align: left;\">Christopher Sole</td><td style = \"text-align: left;\">Scotland</td><td style = \"text-align: left;\">509</td><td style = \"text-align: right;\">2.85714</td><td style = \"text-align: right;\">100.0</td></tr></tbody></table></div>"
            ],
            "text/latex": [
              "\\begin{tabular}{r|ccccc}\n",
              "\t& Bowler\\_Name & Player\\_Nation & ICC\\_Bowling\\_Points & Percentile\\_Rank & Percentile\\_Score\\\\\n",
              "\t\\hline\n",
              "\t& Any & Any & Any & Float64 & Float64\\\\\n",
              "\t\\hline\n",
              "\t1 & Mohammed Siraj & India & 669 & 100.0 & 99.0 \\\\\n",
              "\t2 & Josh Hazlewood & Australia & 669 & 100.0 & 99.0 \\\\\n",
              "\t3 & Mujeeb Ur Rahman & Afghanistan & 657 & 94.2857 & 99.0588 \\\\\n",
              "\t4 & Rashid Khan & Afghanistan & 655 & 91.4286 & 99.0882 \\\\\n",
              "\t5 & Trent Boult & New Zealand & 653 & 88.5714 & 99.1176 \\\\\n",
              "\t6 & Shaheen Afridi & Pakistan & 632 & 85.7143 & 99.1471 \\\\\n",
              "\t7 & Adam Zampa & Australia & 631 & 82.8571 & 99.1765 \\\\\n",
              "\t8 & Mitchell Starc & Australia & 628 & 80.0 & 99.2059 \\\\\n",
              "\t9 & Matt Henry & New Zealand & 626 & 77.1429 & 99.2353 \\\\\n",
              "\t10 & Mohammad Nabi & Afghanistan & 621 & 74.2857 & 99.2647 \\\\\n",
              "\t11 & Kuldeep Yadav & India & 616 & 71.4286 & 99.2941 \\\\\n",
              "\t12 & Chris Woakes & England & 613 & 68.5714 & 99.3235 \\\\\n",
              "\t13 & Mark Watt & Scotland & 611 & 65.7143 & 99.3529 \\\\\n",
              "\t14 & Keshav Maharaj & South Africa & 599 & 62.8571 & 99.3824 \\\\\n",
              "\t15 & Kagiso Rabada & South Africa & 594 & 60.0 & 99.4118 \\\\\n",
              "\t16 & Maheesh Theekshana & Sri Lanka & 593 & 57.1429 & 99.4412 \\\\\n",
              "\t17 & Shakib Al Hasan & Bangladesh & 592 & 54.2857 & 99.4706 \\\\\n",
              "\t18 & Bernard Scholtz & Namibia & 589 & 51.4286 & 99.5 \\\\\n",
              "\t19 & Saurabh Netravalkar & United States & 586 & 48.5714 & 99.5294 \\\\\n",
              "\t20 & Lungi Ngidi & South Africa & 570 & 45.7143 & 99.5588 \\\\\n",
              "\t21 & Haris Rauf & Pakistan & 566 & 42.8571 & 99.5882 \\\\\n",
              "\t22 & Mustafizur Rahman & Bangladesh & 564 & 40.0 & 99.6176 \\\\\n",
              "\t23 & Akeal Hosein & West Indies & 563 & 37.1429 & 99.6471 \\\\\n",
              "\t24 & Jofra Archer & England & 561 & 34.2857 & 99.6765 \\\\\n",
              "\t25 & Alzarri Joseph & West Indies & 558 & 31.4286 & 99.7059 \\\\\n",
              "\t26 & Pat Cummins & Australia & 555 & 28.5714 & 99.7353 \\\\\n",
              "\t27 & Mohammad Shami & India & 555 & 28.5714 & 99.7353 \\\\\n",
              "\t28 & Jasprit Bumrah & India & 552 & 22.8571 & 99.7941 \\\\\n",
              "\t29 & Andy McBrine & Ireland & 545 & 20.0 & 99.8235 \\\\\n",
              "\t30 & Sandeep Lamichhane & Nepal & 539 & 17.1429 & 99.8529 \\\\\n",
              "\t$\\dots$ & $\\dots$ & $\\dots$ & $\\dots$ & $\\dots$ & $\\dots$ \\\\\n",
              "\\end{tabular}\n"
            ],
            "text/plain": [
              "\u001b[1m35×5 DataFrame\u001b[0m\n",
              "\u001b[1m Row \u001b[0m│\u001b[1m Bowler_Name        \u001b[0m\u001b[1m Player_Nation \u001b[0m\u001b[1m ICC_Bowling_Points \u001b[0m\u001b[1m Percentile_Rank \u001b[0m\u001b[1m\u001b[0m ⋯\n",
              "     │\u001b[90m Any                \u001b[0m\u001b[90m Any           \u001b[0m\u001b[90m Any                \u001b[0m\u001b[90m Float64         \u001b[0m\u001b[90m\u001b[0m ⋯\n",
              "─────┼──────────────────────────────────────────────────────────────────────────\n",
              "   1 │ Mohammed Siraj      India          669                       100.0      ⋯\n",
              "   2 │ Josh Hazlewood      Australia      669                       100.0\n",
              "   3 │ Mujeeb Ur Rahman    Afghanistan    657                        94.2857\n",
              "   4 │ Rashid Khan         Afghanistan    655                        91.4286\n",
              "   5 │ Trent Boult         New Zealand    653                        88.5714   ⋯\n",
              "   6 │ Shaheen Afridi      Pakistan       632                        85.7143\n",
              "   7 │ Adam Zampa          Australia      631                        82.8571\n",
              "   8 │ Mitchell Starc      Australia      628                        80.0\n",
              "   9 │ Matt Henry          New Zealand    626                        77.1429   ⋯\n",
              "  10 │ Mohammad Nabi       Afghanistan    621                        74.2857\n",
              "  11 │ Kuldeep Yadav       India          616                        71.4286\n",
              "  ⋮  │         ⋮                 ⋮                ⋮                  ⋮         ⋱\n",
              "  26 │ Pat Cummins         Australia      555                        28.5714\n",
              "  27 │ Mohammad Shami      India          555                        28.5714   ⋯\n",
              "  28 │ Jasprit Bumrah      India          552                        22.8571\n",
              "  29 │ Andy McBrine        Ireland        545                        20.0\n",
              "  30 │ Sandeep Lamichhane  Nepal          539                        17.1429\n",
              "  31 │ Tabraiz Shamsi      South Africa   533                        14.2857   ⋯\n",
              "  32 │ Mark Adair          Ireland        529                        11.4286\n",
              "  33 │ David Willey        England        520                         8.57143\n",
              "  34 │ Richard Ngarava     Zimbabwe       518                         5.71429\n",
              "  35 │ Christopher Sole    Scotland       509                         2.85714  ⋯\n",
              "\u001b[36m                                                    1 column and 14 rows omitted\u001b[0m"
            ]
          },
          "execution_count": 15,
          "metadata": {},
          "output_type": "execute_result"
        }
      ],
      "source": [
        "# Set the percentile score of the lowest-ranked player to 1\n",
        "min_rank = minimum(df_bowlers[!, :Percentile_Rank])\n",
        "df_bowlers[!, :Percentile_Score] .= @. 100 - ((df_bowlers[!, :Percentile_Rank] - min_rank) / (100 - min_rank))\n",
        "df_bowlers"
      ]
    },
    {
      "cell_type": "code",
      "execution_count": null,
      "id": "aef406e4",
      "metadata": {
        "lines_to_next_cell": 2,
        "tags": [],
        "id": "aef406e4",
        "outputId": "47481052-4599-4847-c72b-d710236686da"
      },
      "outputs": [
        {
          "data": {
            "text/plain": [
              "35-element Vector{Float64}:\n",
              " 100.0\n",
              " 100.0\n",
              "  94.28571428571428\n",
              "  91.42857142857143\n",
              "  88.57142857142857\n",
              "  85.71428571428571\n",
              "  82.85714285714286\n",
              "  80.0\n",
              "  77.14285714285715\n",
              "  74.28571428571429\n",
              "  71.42857142857143\n",
              "  68.57142857142857\n",
              "  65.71428571428571\n",
              "   ⋮\n",
              "  34.285714285714285\n",
              "  31.428571428571427\n",
              "  28.57142857142857\n",
              "  28.57142857142857\n",
              "  22.857142857142858\n",
              "  20.0\n",
              "  17.142857142857142\n",
              "  14.285714285714285\n",
              "  11.428571428571429\n",
              "   8.571428571428571\n",
              "   5.714285714285714\n",
              "   2.857142857142857"
            ]
          },
          "execution_count": 16,
          "metadata": {},
          "output_type": "execute_result"
        }
      ],
      "source": [
        "#converting to list\n",
        "bowler = df_bowlers[!, :Bowler_Name]\n",
        "bowler_country = df_bowlers[!, :Player_Nation]\n",
        "bowler_rank = df_bowlers[!, :Percentile_Rank]"
      ]
    },
    {
      "cell_type": "code",
      "execution_count": null,
      "id": "060d4c9c",
      "metadata": {
        "tags": [],
        "id": "060d4c9c",
        "outputId": "74219ccd-b22d-4f51-b5e1-713bde4b85d1"
      },
      "outputs": [
        {
          "data": {
            "text/html": [
              "<div><div style = \"float: left;\"><span>48×3 DataFrame</span></div><div style = \"float: right;\"><span style = \"font-style: italic;\">23 rows omitted</span></div><div style = \"clear: both;\"></div></div><div class = \"data-frame\" style = \"overflow-x: scroll;\"><table class = \"data-frame\" style = \"margin-bottom: 6px;\"><thead><tr class = \"header\"><th class = \"rowNumber\" style = \"font-weight: bold; text-align: right;\">Row</th><th style = \"text-align: left;\">Player_Name</th><th style = \"text-align: left;\">Player_Nation</th><th style = \"text-align: left;\">PercentileRank</th></tr><tr class = \"subheader headerLastRow\"><th class = \"rowNumber\" style = \"font-weight: bold; text-align: right;\"></th><th title = \"Any\" style = \"text-align: left;\">Any</th><th title = \"String\" style = \"text-align: left;\">String</th><th title = \"Float64\" style = \"text-align: left;\">Float64</th></tr></thead><tbody><tr><td class = \"rowNumber\" style = \"font-weight: bold; text-align: right;\">1</td><td style = \"text-align: left;\">Babar Azam</td><td style = \"text-align: left;\">Pakistan</td><td style = \"text-align: right;\">100.0</td></tr><tr><td class = \"rowNumber\" style = \"font-weight: bold; text-align: right;\">2</td><td style = \"text-align: left;\">Shubman Gill</td><td style = \"text-align: left;\">India</td><td style = \"text-align: right;\">97.9167</td></tr><tr><td class = \"rowNumber\" style = \"font-weight: bold; text-align: right;\">3</td><td style = \"text-align: left;\">Rassie van der Dussen</td><td style = \"text-align: left;\">South Africa</td><td style = \"text-align: right;\">95.8333</td></tr><tr><td class = \"rowNumber\" style = \"font-weight: bold; text-align: right;\">4</td><td style = \"text-align: left;\">Harry Tector</td><td style = \"text-align: left;\">Ireland</td><td style = \"text-align: right;\">93.75</td></tr><tr><td class = \"rowNumber\" style = \"font-weight: bold; text-align: right;\">5</td><td style = \"text-align: left;\">David Warner</td><td style = \"text-align: left;\">Australia</td><td style = \"text-align: right;\">91.6667</td></tr><tr><td class = \"rowNumber\" style = \"font-weight: bold; text-align: right;\">6</td><td style = \"text-align: left;\">Imam-ul-Haq</td><td style = \"text-align: left;\">Pakistan</td><td style = \"text-align: right;\">89.5833</td></tr><tr><td class = \"rowNumber\" style = \"font-weight: bold; text-align: right;\">7</td><td style = \"text-align: left;\">Quinton de Kock</td><td style = \"text-align: left;\">South Africa</td><td style = \"text-align: right;\">87.5</td></tr><tr><td class = \"rowNumber\" style = \"font-weight: bold; text-align: right;\">8</td><td style = \"text-align: left;\">Heinrich Klaasen</td><td style = \"text-align: left;\">South Africa</td><td style = \"text-align: right;\">85.4167</td></tr><tr><td class = \"rowNumber\" style = \"font-weight: bold; text-align: right;\">9</td><td style = \"text-align: left;\">Virat Kohli</td><td style = \"text-align: left;\">India</td><td style = \"text-align: right;\">83.3333</td></tr><tr><td class = \"rowNumber\" style = \"font-weight: bold; text-align: right;\">10</td><td style = \"text-align: left;\">Rohit Sharma</td><td style = \"text-align: left;\">India</td><td style = \"text-align: right;\">81.25</td></tr><tr><td class = \"rowNumber\" style = \"font-weight: bold; text-align: right;\">11</td><td style = \"text-align: left;\">Fakhar Zaman</td><td style = \"text-align: left;\">Pakistan</td><td style = \"text-align: right;\">79.1667</td></tr><tr><td class = \"rowNumber\" style = \"font-weight: bold; text-align: right;\">12</td><td style = \"text-align: left;\">Steve Smith</td><td style = \"text-align: left;\">Australia</td><td style = \"text-align: right;\">77.0833</td></tr><tr><td class = \"rowNumber\" style = \"font-weight: bold; text-align: right;\">13</td><td style = \"text-align: left;\">Temba Bavuma</td><td style = \"text-align: left;\">South Africa</td><td style = \"text-align: right;\">75.0</td></tr><tr><td style = \"text-align: right;\">&vellip;</td><td style = \"text-align: right;\">&vellip;</td><td style = \"text-align: right;\">&vellip;</td><td style = \"text-align: right;\">&vellip;</td></tr><tr><td class = \"rowNumber\" style = \"font-weight: bold; text-align: right;\">37</td><td style = \"text-align: left;\">Ben Stokes</td><td style = \"text-align: left;\">England</td><td style = \"text-align: right;\">25.0</td></tr><tr><td class = \"rowNumber\" style = \"font-weight: bold; text-align: right;\">38</td><td style = \"text-align: left;\">Rahmat Shah</td><td style = \"text-align: left;\">Afghanistan</td><td style = \"text-align: right;\">22.9167</td></tr><tr><td class = \"rowNumber\" style = \"font-weight: bold; text-align: right;\">39</td><td style = \"text-align: left;\">Tamim Iqbal</td><td style = \"text-align: left;\">Bangladesh</td><td style = \"text-align: right;\">20.8333</td></tr><tr><td class = \"rowNumber\" style = \"font-weight: bold; text-align: right;\">40</td><td style = \"text-align: left;\">Kyle Coetzer</td><td style = \"text-align: left;\">Scotland</td><td style = \"text-align: right;\">18.75</td></tr><tr><td class = \"rowNumber\" style = \"font-weight: bold; text-align: right;\">41</td><td style = \"text-align: left;\">Glenn Maxwell</td><td style = \"text-align: left;\">Australia</td><td style = \"text-align: right;\">16.6667</td></tr><tr><td class = \"rowNumber\" style = \"font-weight: bold; text-align: right;\">42</td><td style = \"text-align: left;\">Daryl Mitchell</td><td style = \"text-align: left;\">New Zealand</td><td style = \"text-align: right;\">14.5833</td></tr><tr><td class = \"rowNumber\" style = \"font-weight: bold; text-align: right;\">43</td><td style = \"text-align: left;\">Mohammad Rizwan</td><td style = \"text-align: left;\">Pakistan</td><td style = \"text-align: right;\">12.5</td></tr><tr><td class = \"rowNumber\" style = \"font-weight: bold; text-align: right;\">44</td><td style = \"text-align: left;\">Kusal Mendis</td><td style = \"text-align: left;\">Sri Lanka</td><td style = \"text-align: right;\">10.4167</td></tr><tr><td class = \"rowNumber\" style = \"font-weight: bold; text-align: right;\">45</td><td style = \"text-align: left;\">Litton Das</td><td style = \"text-align: left;\">Bangladesh</td><td style = \"text-align: right;\">8.33333</td></tr><tr><td class = \"rowNumber\" style = \"font-weight: bold; text-align: right;\">46</td><td style = \"text-align: left;\">Mitchell Marsh</td><td style = \"text-align: left;\">Australia</td><td style = \"text-align: right;\">8.33333</td></tr><tr><td class = \"rowNumber\" style = \"font-weight: bold; text-align: right;\">47</td><td style = \"text-align: left;\">Hardik Pandya</td><td style = \"text-align: left;\">India</td><td style = \"text-align: right;\">4.16667</td></tr><tr><td class = \"rowNumber\" style = \"font-weight: bold; text-align: right;\">48</td><td style = \"text-align: left;\">Brendan Taylor</td><td style = \"text-align: left;\">Zimbabwe</td><td style = \"text-align: right;\">2.08333</td></tr></tbody></table></div>"
            ],
            "text/latex": [
              "\\begin{tabular}{r|ccc}\n",
              "\t& Player\\_Name & Player\\_Nation & PercentileRank\\\\\n",
              "\t\\hline\n",
              "\t& Any & String & Float64\\\\\n",
              "\t\\hline\n",
              "\t1 & Babar Azam & Pakistan & 100.0 \\\\\n",
              "\t2 & Shubman Gill & India & 97.9167 \\\\\n",
              "\t3 & Rassie van der Dussen & South Africa & 95.8333 \\\\\n",
              "\t4 & Harry Tector & Ireland & 93.75 \\\\\n",
              "\t5 & David Warner & Australia & 91.6667 \\\\\n",
              "\t6 & Imam-ul-Haq & Pakistan & 89.5833 \\\\\n",
              "\t7 & Quinton de Kock & South Africa & 87.5 \\\\\n",
              "\t8 & Heinrich Klaasen & South Africa & 85.4167 \\\\\n",
              "\t9 & Virat Kohli & India & 83.3333 \\\\\n",
              "\t10 & Rohit Sharma & India & 81.25 \\\\\n",
              "\t11 & Fakhar Zaman & Pakistan & 79.1667 \\\\\n",
              "\t12 & Steve Smith & Australia & 77.0833 \\\\\n",
              "\t13 & Temba Bavuma & South Africa & 75.0 \\\\\n",
              "\t14 & Dawid Malan & England & 72.9167 \\\\\n",
              "\t15 & David Miller & South Africa & 70.8333 \\\\\n",
              "\t16 & Jos Buttler & England & 68.75 \\\\\n",
              "\t17 & Ibrahim Zadran & Afghanistan & 66.6667 \\\\\n",
              "\t18 & Jason Roy & England & 64.5833 \\\\\n",
              "\t19 & Sikandar Raza & Zimbabwe & 62.5 \\\\\n",
              "\t20 & Mushfiqur Rahim & Bangladesh & 60.4167 \\\\\n",
              "\t21 & Jonny Bairstow & England & 58.3333 \\\\\n",
              "\t22 & Shreyas Iyer & India & 56.25 \\\\\n",
              "\t23 & Travis Head & Australia & 56.25 \\\\\n",
              "\t24 & Ishan Kishan & India & 52.0833 \\\\\n",
              "\t25 & Pathum Nissanka & Sri Lanka & 50.0 \\\\\n",
              "\t26 & Kane Williamson & New Zealand & 50.0 \\\\\n",
              "\t27 & Marnus Labuschagne & Australia & 45.8333 \\\\\n",
              "\t28 & Shai Hope & West Indies & 45.8333 \\\\\n",
              "\t29 & Aiden Markram & South Africa & 41.6667 \\\\\n",
              "\t30 & Lokesh Rahul & India & 39.5833 \\\\\n",
              "\t$\\dots$ & $\\dots$ & $\\dots$ & $\\dots$ \\\\\n",
              "\\end{tabular}\n"
            ],
            "text/plain": [
              "\u001b[1m48×3 DataFrame\u001b[0m\n",
              "\u001b[1m Row \u001b[0m│\u001b[1m Player_Name           \u001b[0m\u001b[1m Player_Nation \u001b[0m\u001b[1m PercentileRank \u001b[0m\n",
              "     │\u001b[90m Any                   \u001b[0m\u001b[90m String        \u001b[0m\u001b[90m Float64        \u001b[0m\n",
              "─────┼──────────────────────────────────────────────────────\n",
              "   1 │ Babar Azam             Pakistan            100.0\n",
              "   2 │ Shubman Gill           India                97.9167\n",
              "   3 │ Rassie van der Dussen  South Africa         95.8333\n",
              "   4 │ Harry Tector           Ireland              93.75\n",
              "   5 │ David Warner           Australia            91.6667\n",
              "   6 │ Imam-ul-Haq            Pakistan             89.5833\n",
              "   7 │ Quinton de Kock        South Africa         87.5\n",
              "   8 │ Heinrich Klaasen       South Africa         85.4167\n",
              "   9 │ Virat Kohli            India                83.3333\n",
              "  10 │ Rohit Sharma           India                81.25\n",
              "  11 │ Fakhar Zaman           Pakistan             79.1667\n",
              "  ⋮  │           ⋮                  ⋮              ⋮\n",
              "  39 │ Tamim Iqbal            Bangladesh           20.8333\n",
              "  40 │ Kyle Coetzer           Scotland             18.75\n",
              "  41 │ Glenn Maxwell          Australia            16.6667\n",
              "  42 │ Daryl Mitchell         New Zealand          14.5833\n",
              "  43 │ Mohammad Rizwan        Pakistan             12.5\n",
              "  44 │ Kusal Mendis           Sri Lanka            10.4167\n",
              "  45 │ Litton Das             Bangladesh            8.33333\n",
              "  46 │ Mitchell Marsh         Australia             8.33333\n",
              "  47 │ Hardik Pandya          India                 4.16667\n",
              "  48 │ Brendan Taylor         Zimbabwe              2.08333\n",
              "\u001b[36m                                             27 rows omitted\u001b[0m"
            ]
          },
          "execution_count": 17,
          "metadata": {},
          "output_type": "execute_result"
        }
      ],
      "source": [
        "df = DataFrame(Player_Name = batsman, Player_Nation = batsman_country, PercentileRank = batsman_rank)"
      ]
    },
    {
      "cell_type": "code",
      "execution_count": null,
      "id": "c4e41619",
      "metadata": {
        "lines_to_next_cell": 2,
        "tags": [],
        "id": "c4e41619",
        "outputId": "b9f1ccc6-4ae6-42cd-a878-c1799f5a0338"
      },
      "outputs": [
        {
          "data": {
            "text/html": [
              "<div><div style = \"float: left;\"><span>48×3 DataFrame</span></div><div style = \"float: right;\"><span style = \"font-style: italic;\">23 rows omitted</span></div><div style = \"clear: both;\"></div></div><div class = \"data-frame\" style = \"overflow-x: scroll;\"><table class = \"data-frame\" style = \"margin-bottom: 6px;\"><thead><tr class = \"header\"><th class = \"rowNumber\" style = \"font-weight: bold; text-align: right;\">Row</th><th style = \"text-align: left;\">Player_Name</th><th style = \"text-align: left;\">Player_Nation</th><th style = \"text-align: left;\">PercentileRank</th></tr><tr class = \"subheader headerLastRow\"><th class = \"rowNumber\" style = \"font-weight: bold; text-align: right;\"></th><th title = \"Any\" style = \"text-align: left;\">Any</th><th title = \"String\" style = \"text-align: left;\">String</th><th title = \"Float64\" style = \"text-align: left;\">Float64</th></tr></thead><tbody><tr><td class = \"rowNumber\" style = \"font-weight: bold; text-align: right;\">1</td><td style = \"text-align: left;\">Ibrahim Zadran</td><td style = \"text-align: left;\">Afghanistan</td><td style = \"text-align: right;\">66.6667</td></tr><tr><td class = \"rowNumber\" style = \"font-weight: bold; text-align: right;\">2</td><td style = \"text-align: left;\">Rahmanullah Gurbaz</td><td style = \"text-align: left;\">Afghanistan</td><td style = \"text-align: right;\">29.1667</td></tr><tr><td class = \"rowNumber\" style = \"font-weight: bold; text-align: right;\">3</td><td style = \"text-align: left;\">Rahmat Shah</td><td style = \"text-align: left;\">Afghanistan</td><td style = \"text-align: right;\">22.9167</td></tr><tr><td class = \"rowNumber\" style = \"font-weight: bold; text-align: right;\">4</td><td style = \"text-align: left;\">David Warner</td><td style = \"text-align: left;\">Australia</td><td style = \"text-align: right;\">91.6667</td></tr><tr><td class = \"rowNumber\" style = \"font-weight: bold; text-align: right;\">5</td><td style = \"text-align: left;\">Steve Smith</td><td style = \"text-align: left;\">Australia</td><td style = \"text-align: right;\">77.0833</td></tr><tr><td class = \"rowNumber\" style = \"font-weight: bold; text-align: right;\">6</td><td style = \"text-align: left;\">Travis Head</td><td style = \"text-align: left;\">Australia</td><td style = \"text-align: right;\">56.25</td></tr><tr><td class = \"rowNumber\" style = \"font-weight: bold; text-align: right;\">7</td><td style = \"text-align: left;\">Marnus Labuschagne</td><td style = \"text-align: left;\">Australia</td><td style = \"text-align: right;\">45.8333</td></tr><tr><td class = \"rowNumber\" style = \"font-weight: bold; text-align: right;\">8</td><td style = \"text-align: left;\">Alex Carey</td><td style = \"text-align: left;\">Australia</td><td style = \"text-align: right;\">31.25</td></tr><tr><td class = \"rowNumber\" style = \"font-weight: bold; text-align: right;\">9</td><td style = \"text-align: left;\">Glenn Maxwell</td><td style = \"text-align: left;\">Australia</td><td style = \"text-align: right;\">16.6667</td></tr><tr><td class = \"rowNumber\" style = \"font-weight: bold; text-align: right;\">10</td><td style = \"text-align: left;\">Mitchell Marsh</td><td style = \"text-align: left;\">Australia</td><td style = \"text-align: right;\">8.33333</td></tr><tr><td class = \"rowNumber\" style = \"font-weight: bold; text-align: right;\">11</td><td style = \"text-align: left;\">Mushfiqur Rahim</td><td style = \"text-align: left;\">Bangladesh</td><td style = \"text-align: right;\">60.4167</td></tr><tr><td class = \"rowNumber\" style = \"font-weight: bold; text-align: right;\">12</td><td style = \"text-align: left;\">Shakib Al Hasan</td><td style = \"text-align: left;\">Bangladesh</td><td style = \"text-align: right;\">37.5</td></tr><tr><td class = \"rowNumber\" style = \"font-weight: bold; text-align: right;\">13</td><td style = \"text-align: left;\">Tamim Iqbal</td><td style = \"text-align: left;\">Bangladesh</td><td style = \"text-align: right;\">20.8333</td></tr><tr><td style = \"text-align: right;\">&vellip;</td><td style = \"text-align: right;\">&vellip;</td><td style = \"text-align: right;\">&vellip;</td><td style = \"text-align: right;\">&vellip;</td></tr><tr><td class = \"rowNumber\" style = \"font-weight: bold; text-align: right;\">37</td><td style = \"text-align: left;\">Kyle Coetzer</td><td style = \"text-align: left;\">Scotland</td><td style = \"text-align: right;\">18.75</td></tr><tr><td class = \"rowNumber\" style = \"font-weight: bold; text-align: right;\">38</td><td style = \"text-align: left;\">Rassie van der Dussen</td><td style = \"text-align: left;\">South Africa</td><td style = \"text-align: right;\">95.8333</td></tr><tr><td class = \"rowNumber\" style = \"font-weight: bold; text-align: right;\">39</td><td style = \"text-align: left;\">Quinton de Kock</td><td style = \"text-align: left;\">South Africa</td><td style = \"text-align: right;\">87.5</td></tr><tr><td class = \"rowNumber\" style = \"font-weight: bold; text-align: right;\">40</td><td style = \"text-align: left;\">Heinrich Klaasen</td><td style = \"text-align: left;\">South Africa</td><td style = \"text-align: right;\">85.4167</td></tr><tr><td class = \"rowNumber\" style = \"font-weight: bold; text-align: right;\">41</td><td style = \"text-align: left;\">Temba Bavuma</td><td style = \"text-align: left;\">South Africa</td><td style = \"text-align: right;\">75.0</td></tr><tr><td class = \"rowNumber\" style = \"font-weight: bold; text-align: right;\">42</td><td style = \"text-align: left;\">David Miller</td><td style = \"text-align: left;\">South Africa</td><td style = \"text-align: right;\">70.8333</td></tr><tr><td class = \"rowNumber\" style = \"font-weight: bold; text-align: right;\">43</td><td style = \"text-align: left;\">Aiden Markram</td><td style = \"text-align: left;\">South Africa</td><td style = \"text-align: right;\">41.6667</td></tr><tr><td class = \"rowNumber\" style = \"font-weight: bold; text-align: right;\">44</td><td style = \"text-align: left;\">Pathum Nissanka</td><td style = \"text-align: left;\">Sri Lanka</td><td style = \"text-align: right;\">50.0</td></tr><tr><td class = \"rowNumber\" style = \"font-weight: bold; text-align: right;\">45</td><td style = \"text-align: left;\">Kusal Mendis</td><td style = \"text-align: left;\">Sri Lanka</td><td style = \"text-align: right;\">10.4167</td></tr><tr><td class = \"rowNumber\" style = \"font-weight: bold; text-align: right;\">46</td><td style = \"text-align: left;\">Shai Hope</td><td style = \"text-align: left;\">West Indies</td><td style = \"text-align: right;\">45.8333</td></tr><tr><td class = \"rowNumber\" style = \"font-weight: bold; text-align: right;\">47</td><td style = \"text-align: left;\">Sikandar Raza</td><td style = \"text-align: left;\">Zimbabwe</td><td style = \"text-align: right;\">62.5</td></tr><tr><td class = \"rowNumber\" style = \"font-weight: bold; text-align: right;\">48</td><td style = \"text-align: left;\">Brendan Taylor</td><td style = \"text-align: left;\">Zimbabwe</td><td style = \"text-align: right;\">2.08333</td></tr></tbody></table></div>"
            ],
            "text/latex": [
              "\\begin{tabular}{r|ccc}\n",
              "\t& Player\\_Name & Player\\_Nation & PercentileRank\\\\\n",
              "\t\\hline\n",
              "\t& Any & String & Float64\\\\\n",
              "\t\\hline\n",
              "\t1 & Ibrahim Zadran & Afghanistan & 66.6667 \\\\\n",
              "\t2 & Rahmanullah Gurbaz & Afghanistan & 29.1667 \\\\\n",
              "\t3 & Rahmat Shah & Afghanistan & 22.9167 \\\\\n",
              "\t4 & David Warner & Australia & 91.6667 \\\\\n",
              "\t5 & Steve Smith & Australia & 77.0833 \\\\\n",
              "\t6 & Travis Head & Australia & 56.25 \\\\\n",
              "\t7 & Marnus Labuschagne & Australia & 45.8333 \\\\\n",
              "\t8 & Alex Carey & Australia & 31.25 \\\\\n",
              "\t9 & Glenn Maxwell & Australia & 16.6667 \\\\\n",
              "\t10 & Mitchell Marsh & Australia & 8.33333 \\\\\n",
              "\t11 & Mushfiqur Rahim & Bangladesh & 60.4167 \\\\\n",
              "\t12 & Shakib Al Hasan & Bangladesh & 37.5 \\\\\n",
              "\t13 & Tamim Iqbal & Bangladesh & 20.8333 \\\\\n",
              "\t14 & Litton Das & Bangladesh & 8.33333 \\\\\n",
              "\t15 & Dawid Malan & England & 72.9167 \\\\\n",
              "\t16 & Jos Buttler & England & 68.75 \\\\\n",
              "\t17 & Jason Roy & England & 64.5833 \\\\\n",
              "\t18 & Jonny Bairstow & England & 58.3333 \\\\\n",
              "\t19 & Joe Root & England & 37.5 \\\\\n",
              "\t20 & Ben Stokes & England & 25.0 \\\\\n",
              "\t21 & Shubman Gill & India & 97.9167 \\\\\n",
              "\t22 & Virat Kohli & India & 83.3333 \\\\\n",
              "\t23 & Rohit Sharma & India & 81.25 \\\\\n",
              "\t24 & Shreyas Iyer & India & 56.25 \\\\\n",
              "\t25 & Ishan Kishan & India & 52.0833 \\\\\n",
              "\t26 & Lokesh Rahul & India & 39.5833 \\\\\n",
              "\t27 & Hardik Pandya & India & 4.16667 \\\\\n",
              "\t28 & Harry Tector & Ireland & 93.75 \\\\\n",
              "\t29 & Scott Edwards & Netherlands & 27.0833 \\\\\n",
              "\t30 & Kane Williamson & New Zealand & 50.0 \\\\\n",
              "\t$\\dots$ & $\\dots$ & $\\dots$ & $\\dots$ \\\\\n",
              "\\end{tabular}\n"
            ],
            "text/plain": [
              "\u001b[1m48×3 DataFrame\u001b[0m\n",
              "\u001b[1m Row \u001b[0m│\u001b[1m Player_Name           \u001b[0m\u001b[1m Player_Nation \u001b[0m\u001b[1m PercentileRank \u001b[0m\n",
              "     │\u001b[90m Any                   \u001b[0m\u001b[90m String        \u001b[0m\u001b[90m Float64        \u001b[0m\n",
              "─────┼──────────────────────────────────────────────────────\n",
              "   1 │ Ibrahim Zadran         Afghanistan          66.6667\n",
              "   2 │ Rahmanullah Gurbaz     Afghanistan          29.1667\n",
              "   3 │ Rahmat Shah            Afghanistan          22.9167\n",
              "   4 │ David Warner           Australia            91.6667\n",
              "   5 │ Steve Smith            Australia            77.0833\n",
              "   6 │ Travis Head            Australia            56.25\n",
              "   7 │ Marnus Labuschagne     Australia            45.8333\n",
              "   8 │ Alex Carey             Australia            31.25\n",
              "   9 │ Glenn Maxwell          Australia            16.6667\n",
              "  10 │ Mitchell Marsh         Australia             8.33333\n",
              "  11 │ Mushfiqur Rahim        Bangladesh           60.4167\n",
              "  ⋮  │           ⋮                  ⋮              ⋮\n",
              "  39 │ Quinton de Kock        South Africa         87.5\n",
              "  40 │ Heinrich Klaasen       South Africa         85.4167\n",
              "  41 │ Temba Bavuma           South Africa         75.0\n",
              "  42 │ David Miller           South Africa         70.8333\n",
              "  43 │ Aiden Markram          South Africa         41.6667\n",
              "  44 │ Pathum Nissanka        Sri Lanka            50.0\n",
              "  45 │ Kusal Mendis           Sri Lanka            10.4167\n",
              "  46 │ Shai Hope              West Indies          45.8333\n",
              "  47 │ Sikandar Raza          Zimbabwe             62.5\n",
              "  48 │ Brendan Taylor         Zimbabwe              2.08333\n",
              "\u001b[36m                                             27 rows omitted\u001b[0m"
            ]
          },
          "execution_count": 18,
          "metadata": {},
          "output_type": "execute_result"
        }
      ],
      "source": [
        "# Sort the DataFrame by the \"Player_Nation\" column\n",
        "sort!(df, :Player_Nation)"
      ]
    },
    {
      "cell_type": "code",
      "execution_count": null,
      "id": "df70e128",
      "metadata": {
        "tags": [],
        "id": "df70e128",
        "outputId": "ad497d33-ad62-43b9-a773-ef8051fc9b57"
      },
      "outputs": [
        {
          "data": {
            "text/html": [
              "<div><div style = \"float: left;\"><span>35×3 DataFrame</span></div><div style = \"float: right;\"><span style = \"font-style: italic;\">10 rows omitted</span></div><div style = \"clear: both;\"></div></div><div class = \"data-frame\" style = \"overflow-x: scroll;\"><table class = \"data-frame\" style = \"margin-bottom: 6px;\"><thead><tr class = \"header\"><th class = \"rowNumber\" style = \"font-weight: bold; text-align: right;\">Row</th><th style = \"text-align: left;\">Player_Name</th><th style = \"text-align: left;\">Player_Nation</th><th style = \"text-align: left;\">Percentile_Rank</th></tr><tr class = \"subheader headerLastRow\"><th class = \"rowNumber\" style = \"font-weight: bold; text-align: right;\"></th><th title = \"Any\" style = \"text-align: left;\">Any</th><th title = \"Any\" style = \"text-align: left;\">Any</th><th title = \"Float64\" style = \"text-align: left;\">Float64</th></tr></thead><tbody><tr><td class = \"rowNumber\" style = \"font-weight: bold; text-align: right;\">1</td><td style = \"text-align: left;\">Mohammed Siraj</td><td style = \"text-align: left;\">India</td><td style = \"text-align: right;\">100.0</td></tr><tr><td class = \"rowNumber\" style = \"font-weight: bold; text-align: right;\">2</td><td style = \"text-align: left;\">Josh Hazlewood</td><td style = \"text-align: left;\">Australia</td><td style = \"text-align: right;\">100.0</td></tr><tr><td class = \"rowNumber\" style = \"font-weight: bold; text-align: right;\">3</td><td style = \"text-align: left;\">Mujeeb Ur Rahman</td><td style = \"text-align: left;\">Afghanistan</td><td style = \"text-align: right;\">94.2857</td></tr><tr><td class = \"rowNumber\" style = \"font-weight: bold; text-align: right;\">4</td><td style = \"text-align: left;\">Rashid Khan</td><td style = \"text-align: left;\">Afghanistan</td><td style = \"text-align: right;\">91.4286</td></tr><tr><td class = \"rowNumber\" style = \"font-weight: bold; text-align: right;\">5</td><td style = \"text-align: left;\">Trent Boult</td><td style = \"text-align: left;\">New Zealand</td><td style = \"text-align: right;\">88.5714</td></tr><tr><td class = \"rowNumber\" style = \"font-weight: bold; text-align: right;\">6</td><td style = \"text-align: left;\">Shaheen Afridi</td><td style = \"text-align: left;\">Pakistan</td><td style = \"text-align: right;\">85.7143</td></tr><tr><td class = \"rowNumber\" style = \"font-weight: bold; text-align: right;\">7</td><td style = \"text-align: left;\">Adam Zampa</td><td style = \"text-align: left;\">Australia</td><td style = \"text-align: right;\">82.8571</td></tr><tr><td class = \"rowNumber\" style = \"font-weight: bold; text-align: right;\">8</td><td style = \"text-align: left;\">Mitchell Starc</td><td style = \"text-align: left;\">Australia</td><td style = \"text-align: right;\">80.0</td></tr><tr><td class = \"rowNumber\" style = \"font-weight: bold; text-align: right;\">9</td><td style = \"text-align: left;\">Matt Henry</td><td style = \"text-align: left;\">New Zealand</td><td style = \"text-align: right;\">77.1429</td></tr><tr><td class = \"rowNumber\" style = \"font-weight: bold; text-align: right;\">10</td><td style = \"text-align: left;\">Mohammad Nabi</td><td style = \"text-align: left;\">Afghanistan</td><td style = \"text-align: right;\">74.2857</td></tr><tr><td class = \"rowNumber\" style = \"font-weight: bold; text-align: right;\">11</td><td style = \"text-align: left;\">Kuldeep Yadav</td><td style = \"text-align: left;\">India</td><td style = \"text-align: right;\">71.4286</td></tr><tr><td class = \"rowNumber\" style = \"font-weight: bold; text-align: right;\">12</td><td style = \"text-align: left;\">Chris Woakes</td><td style = \"text-align: left;\">England</td><td style = \"text-align: right;\">68.5714</td></tr><tr><td class = \"rowNumber\" style = \"font-weight: bold; text-align: right;\">13</td><td style = \"text-align: left;\">Mark Watt</td><td style = \"text-align: left;\">Scotland</td><td style = \"text-align: right;\">65.7143</td></tr><tr><td style = \"text-align: right;\">&vellip;</td><td style = \"text-align: right;\">&vellip;</td><td style = \"text-align: right;\">&vellip;</td><td style = \"text-align: right;\">&vellip;</td></tr><tr><td class = \"rowNumber\" style = \"font-weight: bold; text-align: right;\">24</td><td style = \"text-align: left;\">Jofra Archer</td><td style = \"text-align: left;\">England</td><td style = \"text-align: right;\">34.2857</td></tr><tr><td class = \"rowNumber\" style = \"font-weight: bold; text-align: right;\">25</td><td style = \"text-align: left;\">Alzarri Joseph</td><td style = \"text-align: left;\">West Indies</td><td style = \"text-align: right;\">31.4286</td></tr><tr><td class = \"rowNumber\" style = \"font-weight: bold; text-align: right;\">26</td><td style = \"text-align: left;\">Pat Cummins</td><td style = \"text-align: left;\">Australia</td><td style = \"text-align: right;\">28.5714</td></tr><tr><td class = \"rowNumber\" style = \"font-weight: bold; text-align: right;\">27</td><td style = \"text-align: left;\">Mohammad Shami</td><td style = \"text-align: left;\">India</td><td style = \"text-align: right;\">28.5714</td></tr><tr><td class = \"rowNumber\" style = \"font-weight: bold; text-align: right;\">28</td><td style = \"text-align: left;\">Jasprit Bumrah</td><td style = \"text-align: left;\">India</td><td style = \"text-align: right;\">22.8571</td></tr><tr><td class = \"rowNumber\" style = \"font-weight: bold; text-align: right;\">29</td><td style = \"text-align: left;\">Andy McBrine</td><td style = \"text-align: left;\">Ireland</td><td style = \"text-align: right;\">20.0</td></tr><tr><td class = \"rowNumber\" style = \"font-weight: bold; text-align: right;\">30</td><td style = \"text-align: left;\">Sandeep Lamichhane</td><td style = \"text-align: left;\">Nepal</td><td style = \"text-align: right;\">17.1429</td></tr><tr><td class = \"rowNumber\" style = \"font-weight: bold; text-align: right;\">31</td><td style = \"text-align: left;\">Tabraiz Shamsi</td><td style = \"text-align: left;\">South Africa</td><td style = \"text-align: right;\">14.2857</td></tr><tr><td class = \"rowNumber\" style = \"font-weight: bold; text-align: right;\">32</td><td style = \"text-align: left;\">Mark Adair</td><td style = \"text-align: left;\">Ireland</td><td style = \"text-align: right;\">11.4286</td></tr><tr><td class = \"rowNumber\" style = \"font-weight: bold; text-align: right;\">33</td><td style = \"text-align: left;\">David Willey</td><td style = \"text-align: left;\">England</td><td style = \"text-align: right;\">8.57143</td></tr><tr><td class = \"rowNumber\" style = \"font-weight: bold; text-align: right;\">34</td><td style = \"text-align: left;\">Richard Ngarava</td><td style = \"text-align: left;\">Zimbabwe</td><td style = \"text-align: right;\">5.71429</td></tr><tr><td class = \"rowNumber\" style = \"font-weight: bold; text-align: right;\">35</td><td style = \"text-align: left;\">Christopher Sole</td><td style = \"text-align: left;\">Scotland</td><td style = \"text-align: right;\">2.85714</td></tr></tbody></table></div>"
            ],
            "text/latex": [
              "\\begin{tabular}{r|ccc}\n",
              "\t& Player\\_Name & Player\\_Nation & Percentile\\_Rank\\\\\n",
              "\t\\hline\n",
              "\t& Any & Any & Float64\\\\\n",
              "\t\\hline\n",
              "\t1 & Mohammed Siraj & India & 100.0 \\\\\n",
              "\t2 & Josh Hazlewood & Australia & 100.0 \\\\\n",
              "\t3 & Mujeeb Ur Rahman & Afghanistan & 94.2857 \\\\\n",
              "\t4 & Rashid Khan & Afghanistan & 91.4286 \\\\\n",
              "\t5 & Trent Boult & New Zealand & 88.5714 \\\\\n",
              "\t6 & Shaheen Afridi & Pakistan & 85.7143 \\\\\n",
              "\t7 & Adam Zampa & Australia & 82.8571 \\\\\n",
              "\t8 & Mitchell Starc & Australia & 80.0 \\\\\n",
              "\t9 & Matt Henry & New Zealand & 77.1429 \\\\\n",
              "\t10 & Mohammad Nabi & Afghanistan & 74.2857 \\\\\n",
              "\t11 & Kuldeep Yadav & India & 71.4286 \\\\\n",
              "\t12 & Chris Woakes & England & 68.5714 \\\\\n",
              "\t13 & Mark Watt & Scotland & 65.7143 \\\\\n",
              "\t14 & Keshav Maharaj & South Africa & 62.8571 \\\\\n",
              "\t15 & Kagiso Rabada & South Africa & 60.0 \\\\\n",
              "\t16 & Maheesh Theekshana & Sri Lanka & 57.1429 \\\\\n",
              "\t17 & Shakib Al Hasan & Bangladesh & 54.2857 \\\\\n",
              "\t18 & Bernard Scholtz & Namibia & 51.4286 \\\\\n",
              "\t19 & Saurabh Netravalkar & United States & 48.5714 \\\\\n",
              "\t20 & Lungi Ngidi & South Africa & 45.7143 \\\\\n",
              "\t21 & Haris Rauf & Pakistan & 42.8571 \\\\\n",
              "\t22 & Mustafizur Rahman & Bangladesh & 40.0 \\\\\n",
              "\t23 & Akeal Hosein & West Indies & 37.1429 \\\\\n",
              "\t24 & Jofra Archer & England & 34.2857 \\\\\n",
              "\t25 & Alzarri Joseph & West Indies & 31.4286 \\\\\n",
              "\t26 & Pat Cummins & Australia & 28.5714 \\\\\n",
              "\t27 & Mohammad Shami & India & 28.5714 \\\\\n",
              "\t28 & Jasprit Bumrah & India & 22.8571 \\\\\n",
              "\t29 & Andy McBrine & Ireland & 20.0 \\\\\n",
              "\t30 & Sandeep Lamichhane & Nepal & 17.1429 \\\\\n",
              "\t$\\dots$ & $\\dots$ & $\\dots$ & $\\dots$ \\\\\n",
              "\\end{tabular}\n"
            ],
            "text/plain": [
              "\u001b[1m35×3 DataFrame\u001b[0m\n",
              "\u001b[1m Row \u001b[0m│\u001b[1m Player_Name        \u001b[0m\u001b[1m Player_Nation \u001b[0m\u001b[1m Percentile_Rank \u001b[0m\n",
              "     │\u001b[90m Any                \u001b[0m\u001b[90m Any           \u001b[0m\u001b[90m Float64         \u001b[0m\n",
              "─────┼────────────────────────────────────────────────────\n",
              "   1 │ Mohammed Siraj      India                100.0\n",
              "   2 │ Josh Hazlewood      Australia            100.0\n",
              "   3 │ Mujeeb Ur Rahman    Afghanistan           94.2857\n",
              "   4 │ Rashid Khan         Afghanistan           91.4286\n",
              "   5 │ Trent Boult         New Zealand           88.5714\n",
              "   6 │ Shaheen Afridi      Pakistan              85.7143\n",
              "   7 │ Adam Zampa          Australia             82.8571\n",
              "   8 │ Mitchell Starc      Australia             80.0\n",
              "   9 │ Matt Henry          New Zealand           77.1429\n",
              "  10 │ Mohammad Nabi       Afghanistan           74.2857\n",
              "  11 │ Kuldeep Yadav       India                 71.4286\n",
              "  ⋮  │         ⋮                 ⋮               ⋮\n",
              "  26 │ Pat Cummins         Australia             28.5714\n",
              "  27 │ Mohammad Shami      India                 28.5714\n",
              "  28 │ Jasprit Bumrah      India                 22.8571\n",
              "  29 │ Andy McBrine        Ireland               20.0\n",
              "  30 │ Sandeep Lamichhane  Nepal                 17.1429\n",
              "  31 │ Tabraiz Shamsi      South Africa          14.2857\n",
              "  32 │ Mark Adair          Ireland               11.4286\n",
              "  33 │ David Willey        England                8.57143\n",
              "  34 │ Richard Ngarava     Zimbabwe               5.71429\n",
              "  35 │ Christopher Sole    Scotland               2.85714\n",
              "\u001b[36m                                           14 rows omitted\u001b[0m"
            ]
          },
          "execution_count": 19,
          "metadata": {},
          "output_type": "execute_result"
        }
      ],
      "source": [
        "df2 = DataFrame(Player_Name = bowler, Player_Nation = bowler_country, Percentile_Rank = bowler_rank)"
      ]
    },
    {
      "cell_type": "code",
      "execution_count": null,
      "id": "dded8462",
      "metadata": {
        "tags": [],
        "id": "dded8462",
        "outputId": "ee8fe2de-20d1-4779-9aa3-b85df93279c5"
      },
      "outputs": [
        {
          "data": {
            "text/html": [
              "<div><div style = \"float: left;\"><span>35×3 DataFrame</span></div><div style = \"float: right;\"><span style = \"font-style: italic;\">10 rows omitted</span></div><div style = \"clear: both;\"></div></div><div class = \"data-frame\" style = \"overflow-x: scroll;\"><table class = \"data-frame\" style = \"margin-bottom: 6px;\"><thead><tr class = \"header\"><th class = \"rowNumber\" style = \"font-weight: bold; text-align: right;\">Row</th><th style = \"text-align: left;\">Player_Name</th><th style = \"text-align: left;\">Player_Nation</th><th style = \"text-align: left;\">Percentile_Rank</th></tr><tr class = \"subheader headerLastRow\"><th class = \"rowNumber\" style = \"font-weight: bold; text-align: right;\"></th><th title = \"Any\" style = \"text-align: left;\">Any</th><th title = \"Any\" style = \"text-align: left;\">Any</th><th title = \"Float64\" style = \"text-align: left;\">Float64</th></tr></thead><tbody><tr><td class = \"rowNumber\" style = \"font-weight: bold; text-align: right;\">1</td><td style = \"text-align: left;\">Mujeeb Ur Rahman</td><td style = \"text-align: left;\">Afghanistan</td><td style = \"text-align: right;\">94.2857</td></tr><tr><td class = \"rowNumber\" style = \"font-weight: bold; text-align: right;\">2</td><td style = \"text-align: left;\">Rashid Khan</td><td style = \"text-align: left;\">Afghanistan</td><td style = \"text-align: right;\">91.4286</td></tr><tr><td class = \"rowNumber\" style = \"font-weight: bold; text-align: right;\">3</td><td style = \"text-align: left;\">Mohammad Nabi</td><td style = \"text-align: left;\">Afghanistan</td><td style = \"text-align: right;\">74.2857</td></tr><tr><td class = \"rowNumber\" style = \"font-weight: bold; text-align: right;\">4</td><td style = \"text-align: left;\">Josh Hazlewood</td><td style = \"text-align: left;\">Australia</td><td style = \"text-align: right;\">100.0</td></tr><tr><td class = \"rowNumber\" style = \"font-weight: bold; text-align: right;\">5</td><td style = \"text-align: left;\">Adam Zampa</td><td style = \"text-align: left;\">Australia</td><td style = \"text-align: right;\">82.8571</td></tr><tr><td class = \"rowNumber\" style = \"font-weight: bold; text-align: right;\">6</td><td style = \"text-align: left;\">Mitchell Starc</td><td style = \"text-align: left;\">Australia</td><td style = \"text-align: right;\">80.0</td></tr><tr><td class = \"rowNumber\" style = \"font-weight: bold; text-align: right;\">7</td><td style = \"text-align: left;\">Pat Cummins</td><td style = \"text-align: left;\">Australia</td><td style = \"text-align: right;\">28.5714</td></tr><tr><td class = \"rowNumber\" style = \"font-weight: bold; text-align: right;\">8</td><td style = \"text-align: left;\">Shakib Al Hasan</td><td style = \"text-align: left;\">Bangladesh</td><td style = \"text-align: right;\">54.2857</td></tr><tr><td class = \"rowNumber\" style = \"font-weight: bold; text-align: right;\">9</td><td style = \"text-align: left;\">Mustafizur Rahman</td><td style = \"text-align: left;\">Bangladesh</td><td style = \"text-align: right;\">40.0</td></tr><tr><td class = \"rowNumber\" style = \"font-weight: bold; text-align: right;\">10</td><td style = \"text-align: left;\">Chris Woakes</td><td style = \"text-align: left;\">England</td><td style = \"text-align: right;\">68.5714</td></tr><tr><td class = \"rowNumber\" style = \"font-weight: bold; text-align: right;\">11</td><td style = \"text-align: left;\">Jofra Archer</td><td style = \"text-align: left;\">England</td><td style = \"text-align: right;\">34.2857</td></tr><tr><td class = \"rowNumber\" style = \"font-weight: bold; text-align: right;\">12</td><td style = \"text-align: left;\">David Willey</td><td style = \"text-align: left;\">England</td><td style = \"text-align: right;\">8.57143</td></tr><tr><td class = \"rowNumber\" style = \"font-weight: bold; text-align: right;\">13</td><td style = \"text-align: left;\">Mohammed Siraj</td><td style = \"text-align: left;\">India</td><td style = \"text-align: right;\">100.0</td></tr><tr><td style = \"text-align: right;\">&vellip;</td><td style = \"text-align: right;\">&vellip;</td><td style = \"text-align: right;\">&vellip;</td><td style = \"text-align: right;\">&vellip;</td></tr><tr><td class = \"rowNumber\" style = \"font-weight: bold; text-align: right;\">24</td><td style = \"text-align: left;\">Haris Rauf</td><td style = \"text-align: left;\">Pakistan</td><td style = \"text-align: right;\">42.8571</td></tr><tr><td class = \"rowNumber\" style = \"font-weight: bold; text-align: right;\">25</td><td style = \"text-align: left;\">Mark Watt</td><td style = \"text-align: left;\">Scotland</td><td style = \"text-align: right;\">65.7143</td></tr><tr><td class = \"rowNumber\" style = \"font-weight: bold; text-align: right;\">26</td><td style = \"text-align: left;\">Christopher Sole</td><td style = \"text-align: left;\">Scotland</td><td style = \"text-align: right;\">2.85714</td></tr><tr><td class = \"rowNumber\" style = \"font-weight: bold; text-align: right;\">27</td><td style = \"text-align: left;\">Keshav Maharaj</td><td style = \"text-align: left;\">South Africa</td><td style = \"text-align: right;\">62.8571</td></tr><tr><td class = \"rowNumber\" style = \"font-weight: bold; text-align: right;\">28</td><td style = \"text-align: left;\">Kagiso Rabada</td><td style = \"text-align: left;\">South Africa</td><td style = \"text-align: right;\">60.0</td></tr><tr><td class = \"rowNumber\" style = \"font-weight: bold; text-align: right;\">29</td><td style = \"text-align: left;\">Lungi Ngidi</td><td style = \"text-align: left;\">South Africa</td><td style = \"text-align: right;\">45.7143</td></tr><tr><td class = \"rowNumber\" style = \"font-weight: bold; text-align: right;\">30</td><td style = \"text-align: left;\">Tabraiz Shamsi</td><td style = \"text-align: left;\">South Africa</td><td style = \"text-align: right;\">14.2857</td></tr><tr><td class = \"rowNumber\" style = \"font-weight: bold; text-align: right;\">31</td><td style = \"text-align: left;\">Maheesh Theekshana</td><td style = \"text-align: left;\">Sri Lanka</td><td style = \"text-align: right;\">57.1429</td></tr><tr><td class = \"rowNumber\" style = \"font-weight: bold; text-align: right;\">32</td><td style = \"text-align: left;\">Saurabh Netravalkar</td><td style = \"text-align: left;\">United States</td><td style = \"text-align: right;\">48.5714</td></tr><tr><td class = \"rowNumber\" style = \"font-weight: bold; text-align: right;\">33</td><td style = \"text-align: left;\">Akeal Hosein</td><td style = \"text-align: left;\">West Indies</td><td style = \"text-align: right;\">37.1429</td></tr><tr><td class = \"rowNumber\" style = \"font-weight: bold; text-align: right;\">34</td><td style = \"text-align: left;\">Alzarri Joseph</td><td style = \"text-align: left;\">West Indies</td><td style = \"text-align: right;\">31.4286</td></tr><tr><td class = \"rowNumber\" style = \"font-weight: bold; text-align: right;\">35</td><td style = \"text-align: left;\">Richard Ngarava</td><td style = \"text-align: left;\">Zimbabwe</td><td style = \"text-align: right;\">5.71429</td></tr></tbody></table></div>"
            ],
            "text/latex": [
              "\\begin{tabular}{r|ccc}\n",
              "\t& Player\\_Name & Player\\_Nation & Percentile\\_Rank\\\\\n",
              "\t\\hline\n",
              "\t& Any & Any & Float64\\\\\n",
              "\t\\hline\n",
              "\t1 & Mujeeb Ur Rahman & Afghanistan & 94.2857 \\\\\n",
              "\t2 & Rashid Khan & Afghanistan & 91.4286 \\\\\n",
              "\t3 & Mohammad Nabi & Afghanistan & 74.2857 \\\\\n",
              "\t4 & Josh Hazlewood & Australia & 100.0 \\\\\n",
              "\t5 & Adam Zampa & Australia & 82.8571 \\\\\n",
              "\t6 & Mitchell Starc & Australia & 80.0 \\\\\n",
              "\t7 & Pat Cummins & Australia & 28.5714 \\\\\n",
              "\t8 & Shakib Al Hasan & Bangladesh & 54.2857 \\\\\n",
              "\t9 & Mustafizur Rahman & Bangladesh & 40.0 \\\\\n",
              "\t10 & Chris Woakes & England & 68.5714 \\\\\n",
              "\t11 & Jofra Archer & England & 34.2857 \\\\\n",
              "\t12 & David Willey & England & 8.57143 \\\\\n",
              "\t13 & Mohammed Siraj & India & 100.0 \\\\\n",
              "\t14 & Kuldeep Yadav & India & 71.4286 \\\\\n",
              "\t15 & Mohammad Shami & India & 28.5714 \\\\\n",
              "\t16 & Jasprit Bumrah & India & 22.8571 \\\\\n",
              "\t17 & Andy McBrine & Ireland & 20.0 \\\\\n",
              "\t18 & Mark Adair & Ireland & 11.4286 \\\\\n",
              "\t19 & Bernard Scholtz & Namibia & 51.4286 \\\\\n",
              "\t20 & Sandeep Lamichhane & Nepal & 17.1429 \\\\\n",
              "\t21 & Trent Boult & New Zealand & 88.5714 \\\\\n",
              "\t22 & Matt Henry & New Zealand & 77.1429 \\\\\n",
              "\t23 & Shaheen Afridi & Pakistan & 85.7143 \\\\\n",
              "\t24 & Haris Rauf & Pakistan & 42.8571 \\\\\n",
              "\t25 & Mark Watt & Scotland & 65.7143 \\\\\n",
              "\t26 & Christopher Sole & Scotland & 2.85714 \\\\\n",
              "\t27 & Keshav Maharaj & South Africa & 62.8571 \\\\\n",
              "\t28 & Kagiso Rabada & South Africa & 60.0 \\\\\n",
              "\t29 & Lungi Ngidi & South Africa & 45.7143 \\\\\n",
              "\t30 & Tabraiz Shamsi & South Africa & 14.2857 \\\\\n",
              "\t$\\dots$ & $\\dots$ & $\\dots$ & $\\dots$ \\\\\n",
              "\\end{tabular}\n"
            ],
            "text/plain": [
              "\u001b[1m35×3 DataFrame\u001b[0m\n",
              "\u001b[1m Row \u001b[0m│\u001b[1m Player_Name         \u001b[0m\u001b[1m Player_Nation \u001b[0m\u001b[1m Percentile_Rank \u001b[0m\n",
              "     │\u001b[90m Any                 \u001b[0m\u001b[90m Any           \u001b[0m\u001b[90m Float64         \u001b[0m\n",
              "─────┼─────────────────────────────────────────────────────\n",
              "   1 │ Mujeeb Ur Rahman     Afghanistan           94.2857\n",
              "   2 │ Rashid Khan          Afghanistan           91.4286\n",
              "   3 │ Mohammad Nabi        Afghanistan           74.2857\n",
              "   4 │ Josh Hazlewood       Australia            100.0\n",
              "   5 │ Adam Zampa           Australia             82.8571\n",
              "   6 │ Mitchell Starc       Australia             80.0\n",
              "   7 │ Pat Cummins          Australia             28.5714\n",
              "   8 │ Shakib Al Hasan      Bangladesh            54.2857\n",
              "   9 │ Mustafizur Rahman    Bangladesh            40.0\n",
              "  10 │ Chris Woakes         England               68.5714\n",
              "  11 │ Jofra Archer         England               34.2857\n",
              "  ⋮  │          ⋮                 ⋮               ⋮\n",
              "  26 │ Christopher Sole     Scotland               2.85714\n",
              "  27 │ Keshav Maharaj       South Africa          62.8571\n",
              "  28 │ Kagiso Rabada        South Africa          60.0\n",
              "  29 │ Lungi Ngidi          South Africa          45.7143\n",
              "  30 │ Tabraiz Shamsi       South Africa          14.2857\n",
              "  31 │ Maheesh Theekshana   Sri Lanka             57.1429\n",
              "  32 │ Saurabh Netravalkar  United States         48.5714\n",
              "  33 │ Akeal Hosein         West Indies           37.1429\n",
              "  34 │ Alzarri Joseph       West Indies           31.4286\n",
              "  35 │ Richard Ngarava      Zimbabwe               5.71429\n",
              "\u001b[36m                                            14 rows omitted\u001b[0m"
            ]
          },
          "execution_count": 20,
          "metadata": {},
          "output_type": "execute_result"
        }
      ],
      "source": [
        "# Sort the DataFrame by the \"Player_Nation\" column\n",
        "sort!(df2, :Player_Nation)"
      ]
    },
    {
      "cell_type": "code",
      "execution_count": null,
      "id": "27243633",
      "metadata": {
        "tags": [],
        "id": "27243633",
        "outputId": "b84ddd1d-7750-44d8-b4e3-f98ab7cc2baa"
      },
      "outputs": [
        {
          "data": {
            "text/plain": [
              "10-element Vector{String}:\n",
              " \"India\"\n",
              " \"Pakistan\"\n",
              " \"Afghanistan\"\n",
              " \"Sri Lanka\"\n",
              " \"Bangladesh\"\n",
              " \"New Zealand\"\n",
              " \"Australia\"\n",
              " \"South Africa\"\n",
              " \"England\"\n",
              " \"Netherlands\""
            ]
          },
          "execution_count": 21,
          "metadata": {},
          "output_type": "execute_result"
        }
      ],
      "source": [
        "# Define the list of countries to keep\n",
        "countries_to_keep = [\"India\", \"Pakistan\", \"Afghanistan\", \"Sri Lanka\", \"Bangladesh\", \"New Zealand\", \"Australia\", \"South Africa\", \"England\", \"Netherlands\"]"
      ]
    },
    {
      "cell_type": "code",
      "execution_count": null,
      "id": "d59d4098",
      "metadata": {
        "tags": [],
        "id": "d59d4098",
        "outputId": "e4cee2a4-aed8-41e0-f65a-f2da5632126b"
      },
      "outputs": [
        {
          "data": {
            "text/html": [
              "<div><div style = \"float: left;\"><span>25×3 DataFrame</span></div><div style = \"clear: both;\"></div></div><div class = \"data-frame\" style = \"overflow-x: scroll;\"><table class = \"data-frame\" style = \"margin-bottom: 6px;\"><thead><tr class = \"header\"><th class = \"rowNumber\" style = \"font-weight: bold; text-align: right;\">Row</th><th style = \"text-align: left;\">Player_Name</th><th style = \"text-align: left;\">Player_Nation</th><th style = \"text-align: left;\">Percentile_Rank</th></tr><tr class = \"subheader headerLastRow\"><th class = \"rowNumber\" style = \"font-weight: bold; text-align: right;\"></th><th title = \"Any\" style = \"text-align: left;\">Any</th><th title = \"Any\" style = \"text-align: left;\">Any</th><th title = \"Float64\" style = \"text-align: left;\">Float64</th></tr></thead><tbody><tr><td class = \"rowNumber\" style = \"font-weight: bold; text-align: right;\">1</td><td style = \"text-align: left;\">Mujeeb Ur Rahman</td><td style = \"text-align: left;\">Afghanistan</td><td style = \"text-align: right;\">94.2857</td></tr><tr><td class = \"rowNumber\" style = \"font-weight: bold; text-align: right;\">2</td><td style = \"text-align: left;\">Rashid Khan</td><td style = \"text-align: left;\">Afghanistan</td><td style = \"text-align: right;\">91.4286</td></tr><tr><td class = \"rowNumber\" style = \"font-weight: bold; text-align: right;\">3</td><td style = \"text-align: left;\">Mohammad Nabi</td><td style = \"text-align: left;\">Afghanistan</td><td style = \"text-align: right;\">74.2857</td></tr><tr><td class = \"rowNumber\" style = \"font-weight: bold; text-align: right;\">4</td><td style = \"text-align: left;\">Josh Hazlewood</td><td style = \"text-align: left;\">Australia</td><td style = \"text-align: right;\">100.0</td></tr><tr><td class = \"rowNumber\" style = \"font-weight: bold; text-align: right;\">5</td><td style = \"text-align: left;\">Adam Zampa</td><td style = \"text-align: left;\">Australia</td><td style = \"text-align: right;\">82.8571</td></tr><tr><td class = \"rowNumber\" style = \"font-weight: bold; text-align: right;\">6</td><td style = \"text-align: left;\">Mitchell Starc</td><td style = \"text-align: left;\">Australia</td><td style = \"text-align: right;\">80.0</td></tr><tr><td class = \"rowNumber\" style = \"font-weight: bold; text-align: right;\">7</td><td style = \"text-align: left;\">Pat Cummins</td><td style = \"text-align: left;\">Australia</td><td style = \"text-align: right;\">28.5714</td></tr><tr><td class = \"rowNumber\" style = \"font-weight: bold; text-align: right;\">8</td><td style = \"text-align: left;\">Shakib Al Hasan</td><td style = \"text-align: left;\">Bangladesh</td><td style = \"text-align: right;\">54.2857</td></tr><tr><td class = \"rowNumber\" style = \"font-weight: bold; text-align: right;\">9</td><td style = \"text-align: left;\">Mustafizur Rahman</td><td style = \"text-align: left;\">Bangladesh</td><td style = \"text-align: right;\">40.0</td></tr><tr><td class = \"rowNumber\" style = \"font-weight: bold; text-align: right;\">10</td><td style = \"text-align: left;\">Chris Woakes</td><td style = \"text-align: left;\">England</td><td style = \"text-align: right;\">68.5714</td></tr><tr><td class = \"rowNumber\" style = \"font-weight: bold; text-align: right;\">11</td><td style = \"text-align: left;\">Jofra Archer</td><td style = \"text-align: left;\">England</td><td style = \"text-align: right;\">34.2857</td></tr><tr><td class = \"rowNumber\" style = \"font-weight: bold; text-align: right;\">12</td><td style = \"text-align: left;\">David Willey</td><td style = \"text-align: left;\">England</td><td style = \"text-align: right;\">8.57143</td></tr><tr><td class = \"rowNumber\" style = \"font-weight: bold; text-align: right;\">13</td><td style = \"text-align: left;\">Mohammed Siraj</td><td style = \"text-align: left;\">India</td><td style = \"text-align: right;\">100.0</td></tr><tr><td class = \"rowNumber\" style = \"font-weight: bold; text-align: right;\">14</td><td style = \"text-align: left;\">Kuldeep Yadav</td><td style = \"text-align: left;\">India</td><td style = \"text-align: right;\">71.4286</td></tr><tr><td class = \"rowNumber\" style = \"font-weight: bold; text-align: right;\">15</td><td style = \"text-align: left;\">Mohammad Shami</td><td style = \"text-align: left;\">India</td><td style = \"text-align: right;\">28.5714</td></tr><tr><td class = \"rowNumber\" style = \"font-weight: bold; text-align: right;\">16</td><td style = \"text-align: left;\">Jasprit Bumrah</td><td style = \"text-align: left;\">India</td><td style = \"text-align: right;\">22.8571</td></tr><tr><td class = \"rowNumber\" style = \"font-weight: bold; text-align: right;\">17</td><td style = \"text-align: left;\">Trent Boult</td><td style = \"text-align: left;\">New Zealand</td><td style = \"text-align: right;\">88.5714</td></tr><tr><td class = \"rowNumber\" style = \"font-weight: bold; text-align: right;\">18</td><td style = \"text-align: left;\">Matt Henry</td><td style = \"text-align: left;\">New Zealand</td><td style = \"text-align: right;\">77.1429</td></tr><tr><td class = \"rowNumber\" style = \"font-weight: bold; text-align: right;\">19</td><td style = \"text-align: left;\">Shaheen Afridi</td><td style = \"text-align: left;\">Pakistan</td><td style = \"text-align: right;\">85.7143</td></tr><tr><td class = \"rowNumber\" style = \"font-weight: bold; text-align: right;\">20</td><td style = \"text-align: left;\">Haris Rauf</td><td style = \"text-align: left;\">Pakistan</td><td style = \"text-align: right;\">42.8571</td></tr><tr><td class = \"rowNumber\" style = \"font-weight: bold; text-align: right;\">21</td><td style = \"text-align: left;\">Keshav Maharaj</td><td style = \"text-align: left;\">South Africa</td><td style = \"text-align: right;\">62.8571</td></tr><tr><td class = \"rowNumber\" style = \"font-weight: bold; text-align: right;\">22</td><td style = \"text-align: left;\">Kagiso Rabada</td><td style = \"text-align: left;\">South Africa</td><td style = \"text-align: right;\">60.0</td></tr><tr><td class = \"rowNumber\" style = \"font-weight: bold; text-align: right;\">23</td><td style = \"text-align: left;\">Lungi Ngidi</td><td style = \"text-align: left;\">South Africa</td><td style = \"text-align: right;\">45.7143</td></tr><tr><td class = \"rowNumber\" style = \"font-weight: bold; text-align: right;\">24</td><td style = \"text-align: left;\">Tabraiz Shamsi</td><td style = \"text-align: left;\">South Africa</td><td style = \"text-align: right;\">14.2857</td></tr><tr><td class = \"rowNumber\" style = \"font-weight: bold; text-align: right;\">25</td><td style = \"text-align: left;\">Maheesh Theekshana</td><td style = \"text-align: left;\">Sri Lanka</td><td style = \"text-align: right;\">57.1429</td></tr></tbody></table></div>"
            ],
            "text/latex": [
              "\\begin{tabular}{r|ccc}\n",
              "\t& Player\\_Name & Player\\_Nation & Percentile\\_Rank\\\\\n",
              "\t\\hline\n",
              "\t& Any & Any & Float64\\\\\n",
              "\t\\hline\n",
              "\t1 & Mujeeb Ur Rahman & Afghanistan & 94.2857 \\\\\n",
              "\t2 & Rashid Khan & Afghanistan & 91.4286 \\\\\n",
              "\t3 & Mohammad Nabi & Afghanistan & 74.2857 \\\\\n",
              "\t4 & Josh Hazlewood & Australia & 100.0 \\\\\n",
              "\t5 & Adam Zampa & Australia & 82.8571 \\\\\n",
              "\t6 & Mitchell Starc & Australia & 80.0 \\\\\n",
              "\t7 & Pat Cummins & Australia & 28.5714 \\\\\n",
              "\t8 & Shakib Al Hasan & Bangladesh & 54.2857 \\\\\n",
              "\t9 & Mustafizur Rahman & Bangladesh & 40.0 \\\\\n",
              "\t10 & Chris Woakes & England & 68.5714 \\\\\n",
              "\t11 & Jofra Archer & England & 34.2857 \\\\\n",
              "\t12 & David Willey & England & 8.57143 \\\\\n",
              "\t13 & Mohammed Siraj & India & 100.0 \\\\\n",
              "\t14 & Kuldeep Yadav & India & 71.4286 \\\\\n",
              "\t15 & Mohammad Shami & India & 28.5714 \\\\\n",
              "\t16 & Jasprit Bumrah & India & 22.8571 \\\\\n",
              "\t17 & Trent Boult & New Zealand & 88.5714 \\\\\n",
              "\t18 & Matt Henry & New Zealand & 77.1429 \\\\\n",
              "\t19 & Shaheen Afridi & Pakistan & 85.7143 \\\\\n",
              "\t20 & Haris Rauf & Pakistan & 42.8571 \\\\\n",
              "\t21 & Keshav Maharaj & South Africa & 62.8571 \\\\\n",
              "\t22 & Kagiso Rabada & South Africa & 60.0 \\\\\n",
              "\t23 & Lungi Ngidi & South Africa & 45.7143 \\\\\n",
              "\t24 & Tabraiz Shamsi & South Africa & 14.2857 \\\\\n",
              "\t25 & Maheesh Theekshana & Sri Lanka & 57.1429 \\\\\n",
              "\\end{tabular}\n"
            ],
            "text/plain": [
              "\u001b[1m25×3 DataFrame\u001b[0m\n",
              "\u001b[1m Row \u001b[0m│\u001b[1m Player_Name        \u001b[0m\u001b[1m Player_Nation \u001b[0m\u001b[1m Percentile_Rank \u001b[0m\n",
              "     │\u001b[90m Any                \u001b[0m\u001b[90m Any           \u001b[0m\u001b[90m Float64         \u001b[0m\n",
              "─────┼────────────────────────────────────────────────────\n",
              "   1 │ Mujeeb Ur Rahman    Afghanistan           94.2857\n",
              "   2 │ Rashid Khan         Afghanistan           91.4286\n",
              "   3 │ Mohammad Nabi       Afghanistan           74.2857\n",
              "   4 │ Josh Hazlewood      Australia            100.0\n",
              "   5 │ Adam Zampa          Australia             82.8571\n",
              "   6 │ Mitchell Starc      Australia             80.0\n",
              "   7 │ Pat Cummins         Australia             28.5714\n",
              "   8 │ Shakib Al Hasan     Bangladesh            54.2857\n",
              "   9 │ Mustafizur Rahman   Bangladesh            40.0\n",
              "  10 │ Chris Woakes        England               68.5714\n",
              "  11 │ Jofra Archer        England               34.2857\n",
              "  ⋮  │         ⋮                 ⋮               ⋮\n",
              "  16 │ Jasprit Bumrah      India                 22.8571\n",
              "  17 │ Trent Boult         New Zealand           88.5714\n",
              "  18 │ Matt Henry          New Zealand           77.1429\n",
              "  19 │ Shaheen Afridi      Pakistan              85.7143\n",
              "  20 │ Haris Rauf          Pakistan              42.8571\n",
              "  21 │ Keshav Maharaj      South Africa          62.8571\n",
              "  22 │ Kagiso Rabada       South Africa          60.0\n",
              "  23 │ Lungi Ngidi         South Africa          45.7143\n",
              "  24 │ Tabraiz Shamsi      South Africa          14.2857\n",
              "  25 │ Maheesh Theekshana  Sri Lanka             57.1429\n",
              "\u001b[36m                                            4 rows omitted\u001b[0m"
            ]
          },
          "execution_count": 22,
          "metadata": {},
          "output_type": "execute_result"
        }
      ],
      "source": [
        "# Filter the DataFrame to only include rows from the countries in the list\n",
        "df_filtered_bowl = filter(row -> in(row.Player_Nation, countries_to_keep), df2)"
      ]
    },
    {
      "cell_type": "code",
      "execution_count": null,
      "id": "60aa70ef",
      "metadata": {
        "tags": [],
        "id": "60aa70ef",
        "outputId": "8f0843e4-cece-49ed-9ed3-bbe32d41e7c9"
      },
      "outputs": [
        {
          "data": {
            "text/html": [
              "<div><div style = \"float: left;\"><span>43×3 DataFrame</span></div><div style = \"float: right;\"><span style = \"font-style: italic;\">18 rows omitted</span></div><div style = \"clear: both;\"></div></div><div class = \"data-frame\" style = \"overflow-x: scroll;\"><table class = \"data-frame\" style = \"margin-bottom: 6px;\"><thead><tr class = \"header\"><th class = \"rowNumber\" style = \"font-weight: bold; text-align: right;\">Row</th><th style = \"text-align: left;\">Player_Name</th><th style = \"text-align: left;\">Player_Nation</th><th style = \"text-align: left;\">PercentileRank</th></tr><tr class = \"subheader headerLastRow\"><th class = \"rowNumber\" style = \"font-weight: bold; text-align: right;\"></th><th title = \"Any\" style = \"text-align: left;\">Any</th><th title = \"String\" style = \"text-align: left;\">String</th><th title = \"Float64\" style = \"text-align: left;\">Float64</th></tr></thead><tbody><tr><td class = \"rowNumber\" style = \"font-weight: bold; text-align: right;\">1</td><td style = \"text-align: left;\">Ibrahim Zadran</td><td style = \"text-align: left;\">Afghanistan</td><td style = \"text-align: right;\">66.6667</td></tr><tr><td class = \"rowNumber\" style = \"font-weight: bold; text-align: right;\">2</td><td style = \"text-align: left;\">Rahmanullah Gurbaz</td><td style = \"text-align: left;\">Afghanistan</td><td style = \"text-align: right;\">29.1667</td></tr><tr><td class = \"rowNumber\" style = \"font-weight: bold; text-align: right;\">3</td><td style = \"text-align: left;\">Rahmat Shah</td><td style = \"text-align: left;\">Afghanistan</td><td style = \"text-align: right;\">22.9167</td></tr><tr><td class = \"rowNumber\" style = \"font-weight: bold; text-align: right;\">4</td><td style = \"text-align: left;\">David Warner</td><td style = \"text-align: left;\">Australia</td><td style = \"text-align: right;\">91.6667</td></tr><tr><td class = \"rowNumber\" style = \"font-weight: bold; text-align: right;\">5</td><td style = \"text-align: left;\">Steve Smith</td><td style = \"text-align: left;\">Australia</td><td style = \"text-align: right;\">77.0833</td></tr><tr><td class = \"rowNumber\" style = \"font-weight: bold; text-align: right;\">6</td><td style = \"text-align: left;\">Travis Head</td><td style = \"text-align: left;\">Australia</td><td style = \"text-align: right;\">56.25</td></tr><tr><td class = \"rowNumber\" style = \"font-weight: bold; text-align: right;\">7</td><td style = \"text-align: left;\">Marnus Labuschagne</td><td style = \"text-align: left;\">Australia</td><td style = \"text-align: right;\">45.8333</td></tr><tr><td class = \"rowNumber\" style = \"font-weight: bold; text-align: right;\">8</td><td style = \"text-align: left;\">Alex Carey</td><td style = \"text-align: left;\">Australia</td><td style = \"text-align: right;\">31.25</td></tr><tr><td class = \"rowNumber\" style = \"font-weight: bold; text-align: right;\">9</td><td style = \"text-align: left;\">Glenn Maxwell</td><td style = \"text-align: left;\">Australia</td><td style = \"text-align: right;\">16.6667</td></tr><tr><td class = \"rowNumber\" style = \"font-weight: bold; text-align: right;\">10</td><td style = \"text-align: left;\">Mitchell Marsh</td><td style = \"text-align: left;\">Australia</td><td style = \"text-align: right;\">8.33333</td></tr><tr><td class = \"rowNumber\" style = \"font-weight: bold; text-align: right;\">11</td><td style = \"text-align: left;\">Mushfiqur Rahim</td><td style = \"text-align: left;\">Bangladesh</td><td style = \"text-align: right;\">60.4167</td></tr><tr><td class = \"rowNumber\" style = \"font-weight: bold; text-align: right;\">12</td><td style = \"text-align: left;\">Shakib Al Hasan</td><td style = \"text-align: left;\">Bangladesh</td><td style = \"text-align: right;\">37.5</td></tr><tr><td class = \"rowNumber\" style = \"font-weight: bold; text-align: right;\">13</td><td style = \"text-align: left;\">Tamim Iqbal</td><td style = \"text-align: left;\">Bangladesh</td><td style = \"text-align: right;\">20.8333</td></tr><tr><td style = \"text-align: right;\">&vellip;</td><td style = \"text-align: right;\">&vellip;</td><td style = \"text-align: right;\">&vellip;</td><td style = \"text-align: right;\">&vellip;</td></tr><tr><td class = \"rowNumber\" style = \"font-weight: bold; text-align: right;\">32</td><td style = \"text-align: left;\">Babar Azam</td><td style = \"text-align: left;\">Pakistan</td><td style = \"text-align: right;\">100.0</td></tr><tr><td class = \"rowNumber\" style = \"font-weight: bold; text-align: right;\">33</td><td style = \"text-align: left;\">Imam-ul-Haq</td><td style = \"text-align: left;\">Pakistan</td><td style = \"text-align: right;\">89.5833</td></tr><tr><td class = \"rowNumber\" style = \"font-weight: bold; text-align: right;\">34</td><td style = \"text-align: left;\">Fakhar Zaman</td><td style = \"text-align: left;\">Pakistan</td><td style = \"text-align: right;\">79.1667</td></tr><tr><td class = \"rowNumber\" style = \"font-weight: bold; text-align: right;\">35</td><td style = \"text-align: left;\">Mohammad Rizwan</td><td style = \"text-align: left;\">Pakistan</td><td style = \"text-align: right;\">12.5</td></tr><tr><td class = \"rowNumber\" style = \"font-weight: bold; text-align: right;\">36</td><td style = \"text-align: left;\">Rassie van der Dussen</td><td style = \"text-align: left;\">South Africa</td><td style = \"text-align: right;\">95.8333</td></tr><tr><td class = \"rowNumber\" style = \"font-weight: bold; text-align: right;\">37</td><td style = \"text-align: left;\">Quinton de Kock</td><td style = \"text-align: left;\">South Africa</td><td style = \"text-align: right;\">87.5</td></tr><tr><td class = \"rowNumber\" style = \"font-weight: bold; text-align: right;\">38</td><td style = \"text-align: left;\">Heinrich Klaasen</td><td style = \"text-align: left;\">South Africa</td><td style = \"text-align: right;\">85.4167</td></tr><tr><td class = \"rowNumber\" style = \"font-weight: bold; text-align: right;\">39</td><td style = \"text-align: left;\">Temba Bavuma</td><td style = \"text-align: left;\">South Africa</td><td style = \"text-align: right;\">75.0</td></tr><tr><td class = \"rowNumber\" style = \"font-weight: bold; text-align: right;\">40</td><td style = \"text-align: left;\">David Miller</td><td style = \"text-align: left;\">South Africa</td><td style = \"text-align: right;\">70.8333</td></tr><tr><td class = \"rowNumber\" style = \"font-weight: bold; text-align: right;\">41</td><td style = \"text-align: left;\">Aiden Markram</td><td style = \"text-align: left;\">South Africa</td><td style = \"text-align: right;\">41.6667</td></tr><tr><td class = \"rowNumber\" style = \"font-weight: bold; text-align: right;\">42</td><td style = \"text-align: left;\">Pathum Nissanka</td><td style = \"text-align: left;\">Sri Lanka</td><td style = \"text-align: right;\">50.0</td></tr><tr><td class = \"rowNumber\" style = \"font-weight: bold; text-align: right;\">43</td><td style = \"text-align: left;\">Kusal Mendis</td><td style = \"text-align: left;\">Sri Lanka</td><td style = \"text-align: right;\">10.4167</td></tr></tbody></table></div>"
            ],
            "text/latex": [
              "\\begin{tabular}{r|ccc}\n",
              "\t& Player\\_Name & Player\\_Nation & PercentileRank\\\\\n",
              "\t\\hline\n",
              "\t& Any & String & Float64\\\\\n",
              "\t\\hline\n",
              "\t1 & Ibrahim Zadran & Afghanistan & 66.6667 \\\\\n",
              "\t2 & Rahmanullah Gurbaz & Afghanistan & 29.1667 \\\\\n",
              "\t3 & Rahmat Shah & Afghanistan & 22.9167 \\\\\n",
              "\t4 & David Warner & Australia & 91.6667 \\\\\n",
              "\t5 & Steve Smith & Australia & 77.0833 \\\\\n",
              "\t6 & Travis Head & Australia & 56.25 \\\\\n",
              "\t7 & Marnus Labuschagne & Australia & 45.8333 \\\\\n",
              "\t8 & Alex Carey & Australia & 31.25 \\\\\n",
              "\t9 & Glenn Maxwell & Australia & 16.6667 \\\\\n",
              "\t10 & Mitchell Marsh & Australia & 8.33333 \\\\\n",
              "\t11 & Mushfiqur Rahim & Bangladesh & 60.4167 \\\\\n",
              "\t12 & Shakib Al Hasan & Bangladesh & 37.5 \\\\\n",
              "\t13 & Tamim Iqbal & Bangladesh & 20.8333 \\\\\n",
              "\t14 & Litton Das & Bangladesh & 8.33333 \\\\\n",
              "\t15 & Dawid Malan & England & 72.9167 \\\\\n",
              "\t16 & Jos Buttler & England & 68.75 \\\\\n",
              "\t17 & Jason Roy & England & 64.5833 \\\\\n",
              "\t18 & Jonny Bairstow & England & 58.3333 \\\\\n",
              "\t19 & Joe Root & England & 37.5 \\\\\n",
              "\t20 & Ben Stokes & England & 25.0 \\\\\n",
              "\t21 & Shubman Gill & India & 97.9167 \\\\\n",
              "\t22 & Virat Kohli & India & 83.3333 \\\\\n",
              "\t23 & Rohit Sharma & India & 81.25 \\\\\n",
              "\t24 & Shreyas Iyer & India & 56.25 \\\\\n",
              "\t25 & Ishan Kishan & India & 52.0833 \\\\\n",
              "\t26 & Lokesh Rahul & India & 39.5833 \\\\\n",
              "\t27 & Hardik Pandya & India & 4.16667 \\\\\n",
              "\t28 & Scott Edwards & Netherlands & 27.0833 \\\\\n",
              "\t29 & Kane Williamson & New Zealand & 50.0 \\\\\n",
              "\t30 & Tom Latham & New Zealand & 37.5 \\\\\n",
              "\t$\\dots$ & $\\dots$ & $\\dots$ & $\\dots$ \\\\\n",
              "\\end{tabular}\n"
            ],
            "text/plain": [
              "\u001b[1m43×3 DataFrame\u001b[0m\n",
              "\u001b[1m Row \u001b[0m│\u001b[1m Player_Name           \u001b[0m\u001b[1m Player_Nation \u001b[0m\u001b[1m PercentileRank \u001b[0m\n",
              "     │\u001b[90m Any                   \u001b[0m\u001b[90m String        \u001b[0m\u001b[90m Float64        \u001b[0m\n",
              "─────┼──────────────────────────────────────────────────────\n",
              "   1 │ Ibrahim Zadran         Afghanistan          66.6667\n",
              "   2 │ Rahmanullah Gurbaz     Afghanistan          29.1667\n",
              "   3 │ Rahmat Shah            Afghanistan          22.9167\n",
              "   4 │ David Warner           Australia            91.6667\n",
              "   5 │ Steve Smith            Australia            77.0833\n",
              "   6 │ Travis Head            Australia            56.25\n",
              "   7 │ Marnus Labuschagne     Australia            45.8333\n",
              "   8 │ Alex Carey             Australia            31.25\n",
              "   9 │ Glenn Maxwell          Australia            16.6667\n",
              "  10 │ Mitchell Marsh         Australia             8.33333\n",
              "  11 │ Mushfiqur Rahim        Bangladesh           60.4167\n",
              "  ⋮  │           ⋮                  ⋮              ⋮\n",
              "  34 │ Fakhar Zaman           Pakistan             79.1667\n",
              "  35 │ Mohammad Rizwan        Pakistan             12.5\n",
              "  36 │ Rassie van der Dussen  South Africa         95.8333\n",
              "  37 │ Quinton de Kock        South Africa         87.5\n",
              "  38 │ Heinrich Klaasen       South Africa         85.4167\n",
              "  39 │ Temba Bavuma           South Africa         75.0\n",
              "  40 │ David Miller           South Africa         70.8333\n",
              "  41 │ Aiden Markram          South Africa         41.6667\n",
              "  42 │ Pathum Nissanka        Sri Lanka            50.0\n",
              "  43 │ Kusal Mendis           Sri Lanka            10.4167\n",
              "\u001b[36m                                             22 rows omitted\u001b[0m"
            ]
          },
          "execution_count": 23,
          "metadata": {},
          "output_type": "execute_result"
        }
      ],
      "source": [
        "# Filter the DataFrame to only include rows from the countries in the list\n",
        "df_filtered_bat = filter(row -> in(row.Player_Nation, countries_to_keep), df)"
      ]
    },
    {
      "cell_type": "code",
      "execution_count": null,
      "id": "9bb3ae0b",
      "metadata": {
        "tags": [],
        "id": "9bb3ae0b"
      },
      "outputs": [],
      "source": [
        "# Define the dictionary to store the results\n",
        "team_dict = Dict{String, Vector{Float64}}()\n",
        "\n",
        "# Iterate over the DataFrame and add each team to the dictionary\n",
        "for row in eachrow(df_filtered_bat)\n",
        "    team = row.Player_Nation\n",
        "    percentile_rank = row.PercentileRank\n",
        "\n",
        "    # If the team is not already in the dictionary, add it\n",
        "    if haskey(team_dict, team)\n",
        "        team_dict[team][1] += 1\n",
        "        team_dict[team][2] += percentile_rank\n",
        "    else\n",
        "        team_dict[team] = [1, percentile_rank]\n",
        "    end\n",
        "end"
      ]
    },
    {
      "cell_type": "code",
      "execution_count": null,
      "id": "385148e4",
      "metadata": {
        "lines_to_next_cell": 2,
        "tags": [],
        "id": "385148e4",
        "outputId": "25f750f9-8c6f-47bf-a444-52934988ba7f"
      },
      "outputs": [
        {
          "data": {
            "text/plain": [
              "Dict{String, Vector{Float64}} with 10 entries:\n",
              "  \"Bangladesh\"   => [4.0, 127.083]\n",
              "  \"South Africa\" => [6.0, 456.25]\n",
              "  \"England\"      => [6.0, 327.083]\n",
              "  \"India\"        => [7.0, 414.583]\n",
              "  \"Australia\"    => [7.0, 327.083]\n",
              "  \"Netherlands\"  => [1.0, 27.0833]\n",
              "  \"Afghanistan\"  => [3.0, 118.75]\n",
              "  \"New Zealand\"  => [3.0, 102.083]\n",
              "  \"Pakistan\"     => [4.0, 281.25]\n",
              "  \"Sri Lanka\"    => [2.0, 60.4167]"
            ]
          },
          "execution_count": 25,
          "metadata": {},
          "output_type": "execute_result"
        }
      ],
      "source": [
        "# Print the dictionary\n",
        "team_dict"
      ]
    },
    {
      "cell_type": "code",
      "execution_count": null,
      "id": "4e18fe46",
      "metadata": {
        "tags": [],
        "id": "4e18fe46",
        "outputId": "f06f3b7a-82b0-4b55-a109-4f4cc646ab24"
      },
      "outputs": [
        {
          "data": {
            "text/plain": [
              "Dict{String, Float64}()"
            ]
          },
          "execution_count": 26,
          "metadata": {},
          "output_type": "execute_result"
        }
      ],
      "source": [
        "# Define the dictionary to store the team scores\n",
        "team_scores = Dict{String, Float64}()"
      ]
    },
    {
      "cell_type": "code",
      "execution_count": null,
      "id": "8816df62",
      "metadata": {
        "tags": [],
        "id": "8816df62"
      },
      "outputs": [],
      "source": [
        "# Iterate over the DataFrame and calculate the score for each team\n",
        "for row in eachrow(df_filtered_bat)\n",
        "    team = row.Player_Nation\n",
        "    percentile_rank = row.PercentileRank\n",
        "\n",
        "    # If the team is not already in the dictionary, add it.\n",
        "    if !haskey(team_scores, team)\n",
        "        team_scores[team] = 0.0\n",
        "    end\n",
        "\n",
        "    # Add the percentile rank of the player to the team score.\n",
        "    team_scores[team] += percentile_rank\n",
        "\n",
        "    # Get the number of players from the team in the DataFrame.\n",
        "    num_players = sum(df_filtered_bat.Player_Nation .== team)\n",
        "\n",
        "    # If there are fewer than 7 players from the team in the DataFrame, calculate the score for missing players.\n",
        "    if num_players < 7\n",
        "        # Get the lowest score of players from that team.\n",
        "        lowest_score = minimum(df_filtered_bat[df_filtered_bat.Player_Nation .== team, :PercentileRank])\n",
        "\n",
        "        # Calculate the score for the missing players.\n",
        "        missing_player_score = (lowest_score / 3.0) * (7 - num_players)\n",
        "\n",
        "        # Add the score for the missing players to the team score.\n",
        "        team_scores[team] += missing_player_score\n",
        "    end\n",
        "end"
      ]
    },
    {
      "cell_type": "code",
      "execution_count": null,
      "id": "0c3f82b0",
      "metadata": {
        "tags": [],
        "id": "0c3f82b0",
        "outputId": "71baa979-d5e3-44c0-99cc-5d7f4c6738d6"
      },
      "outputs": [
        {
          "data": {
            "text/plain": [
              "Float64[]"
            ]
          },
          "execution_count": 28,
          "metadata": {},
          "output_type": "execute_result"
        }
      ],
      "source": [
        "# Create arrays to store the results\n",
        "teams = String[]\n",
        "batting_score = Float64[]"
      ]
    },
    {
      "cell_type": "code",
      "execution_count": null,
      "id": "c0d7ab3a",
      "metadata": {
        "lines_to_next_cell": 2,
        "tags": [],
        "id": "c0d7ab3a",
        "outputId": "ed9b5a2d-bf84-4e56-8544-a814a3308a33"
      },
      "outputs": [
        {
          "name": "stdout",
          "output_type": "stream",
          "text": [
            "Bangladesh : 160.41666666666669\n",
            "South Africa : 539.5833333333334\n",
            "England : 377.0833333333333\n",
            "India : 414.5833333333333\n",
            "Australia : 327.0833333333333\n",
            "Netherlands : 81.24999999999999\n",
            "Afghanistan : 210.41666666666663\n",
            "New Zealand : 160.41666666666669\n",
            "Pakistan : 331.25\n",
            "Sri Lanka : 95.1388888888889\n"
          ]
        }
      ],
      "source": [
        "# Print the results and store them in arrays\n",
        "for (team, score) in team_scores\n",
        "    println(\"$team : $score\")\n",
        "    push!(teams, team)\n",
        "    push!(batting_score, score)\n",
        "end"
      ]
    },
    {
      "cell_type": "code",
      "execution_count": null,
      "id": "861e4f3c",
      "metadata": {
        "tags": [],
        "id": "861e4f3c",
        "outputId": "d0eafa89-f204-4424-d187-5e104c65b1b8"
      },
      "outputs": [
        {
          "data": {
            "text/plain": [
              "10-element Vector{Pair{String, Float64}}:\n",
              " \"South Africa\" => 539.5833333333334\n",
              "        \"India\" => 414.5833333333333\n",
              "      \"England\" => 377.0833333333333\n",
              "     \"Pakistan\" => 331.25\n",
              "    \"Australia\" => 327.0833333333333\n",
              "  \"Afghanistan\" => 210.41666666666663\n",
              "   \"Bangladesh\" => 160.41666666666669\n",
              "  \"New Zealand\" => 160.41666666666669\n",
              "    \"Sri Lanka\" => 95.1388888888889\n",
              "  \"Netherlands\" => 81.24999999999999"
            ]
          },
          "execution_count": 30,
          "metadata": {},
          "output_type": "execute_result"
        }
      ],
      "source": [
        "sorted_team_scores = sort(collect(team_scores), by=x->x[2], rev=true)"
      ]
    },
    {
      "cell_type": "code",
      "execution_count": null,
      "id": "672e13d1",
      "metadata": {
        "lines_to_next_cell": 2,
        "tags": [],
        "id": "672e13d1",
        "outputId": "94a568bc-9a23-404c-b7dd-f8c0e4d1e97e"
      },
      "outputs": [
        {
          "name": "stdout",
          "output_type": "stream",
          "text": [
            "South Africa : 539.5833333333334\n",
            "India : 414.5833333333333\n",
            "England : 377.0833333333333\n",
            "Pakistan : 331.25\n",
            "Australia : 327.0833333333333\n",
            "Afghanistan : 210.41666666666663\n",
            "Bangladesh : 160.41666666666669\n",
            "New Zealand : 160.41666666666669\n",
            "Sri Lanka : 95.1388888888889\n",
            "Netherlands : 81.24999999999999\n"
          ]
        }
      ],
      "source": [
        "# Print the results\n",
        "for (team, score) in sorted_team_scores\n",
        "    println(\"$team : $score\")\n",
        "end"
      ]
    },
    {
      "cell_type": "code",
      "execution_count": null,
      "id": "4ca2c96b",
      "metadata": {
        "tags": [],
        "id": "4ca2c96b"
      },
      "outputs": [],
      "source": [
        "# Define the dictionary to store the results\n",
        "team_dict_bowl = Dict{String, Vector{Int}}()\n",
        "\n",
        "# Iterate over the DataFrame and add each team to the dictionary\n",
        "for row in eachrow(df_filtered_bowl)\n",
        "    team = row.Player_Nation\n",
        "    percentile_rank = round(Int, row.Percentile_Rank)  # Convert to Int\n",
        "\n",
        "    # If the team is not already in the dictionary, add it\n",
        "    if !haskey(team_dict_bowl, team)\n",
        "        team_dict_bowl[team] = [0, 0]\n",
        "    end\n",
        "\n",
        "    # Increment the number of players from the team\n",
        "    team_dict_bowl[team][1] += 1\n",
        "\n",
        "    # Add the percentile rank of the player to the cumulative sum\n",
        "    team_dict_bowl[team][2] += percentile_rank\n",
        "end"
      ]
    },
    {
      "cell_type": "code",
      "execution_count": null,
      "id": "c64a13a7",
      "metadata": {
        "tags": [],
        "id": "c64a13a7",
        "outputId": "a86bedc7-ced7-4ded-9ad9-9a0f87a0988a"
      },
      "outputs": [
        {
          "data": {
            "text/plain": [
              "2-element Vector{Int64}:\n",
              "   1\n",
              " 125"
            ]
          },
          "execution_count": 33,
          "metadata": {},
          "output_type": "execute_result"
        }
      ],
      "source": [
        "# Add Netherlands if not already in the dictionary\n",
        "if !haskey(team_dict_bowl, \"Netherlands\")\n",
        "    team_dict_bowl[\"Netherlands\"] = [1, 125]\n",
        "else\n",
        "    team_dict_bowl[\"Netherlands\"][1] += 1\n",
        "    team_dict_bowl[\"Netherlands\"][2] += 125\n",
        "end"
      ]
    },
    {
      "cell_type": "code",
      "execution_count": null,
      "id": "25179db8",
      "metadata": {
        "tags": [],
        "id": "25179db8",
        "outputId": "78dbd99d-4437-4672-898d-fcd0d23612c7"
      },
      "outputs": [
        {
          "data": {
            "text/plain": [
              "Dict{String, Float64}()"
            ]
          },
          "execution_count": 34,
          "metadata": {},
          "output_type": "execute_result"
        }
      ],
      "source": [
        "# Define the dictionary to store the team scores\n",
        "team_scores = Dict{String, Float64}()"
      ]
    },
    {
      "cell_type": "code",
      "execution_count": null,
      "id": "7e33ab32",
      "metadata": {
        "tags": [],
        "id": "7e33ab32"
      },
      "outputs": [],
      "source": [
        "# Iterate over the DataFrame and calculate the score for each team\n",
        "for row in eachrow(df_filtered_bowl)\n",
        "    team = row.Player_Nation\n",
        "    percentile_rank = row.Percentile_Rank\n",
        "\n",
        "    # If the team is not already in the dictionary, add it.\n",
        "    if !haskey(team_scores, team)\n",
        "        team_scores[team] = 0.0\n",
        "    end\n",
        "\n",
        "    # Add the percentile rank of the player to the team score.\n",
        "    team_scores[team] += percentile_rank\n",
        "\n",
        "    # Get the number of players from the team in the DataFrame.\n",
        "    num_players = sum(df_filtered_bowl.Player_Nation .== team)\n",
        "\n",
        "    # If there are less than 7 players from the team in the DataFrame, calculate the score for missing players.\n",
        "    if num_players < 7\n",
        "        # Get the lowest score of players from that team.\n",
        "        lowest_score = minimum(df_filtered_bowl[df_filtered_bowl.Player_Nation .== team, :Percentile_Rank])\n",
        "\n",
        "        # Calculate the score for the missing players.\n",
        "        missing_player_score = (lowest_score / 3.0) * (7 - num_players)\n",
        "\n",
        "        # Add the score for the missing players to the team score.\n",
        "        team_scores[team] += missing_player_score\n",
        "    end\n",
        "end"
      ]
    },
    {
      "cell_type": "code",
      "execution_count": null,
      "id": "fc4b2ed8",
      "metadata": {
        "tags": [],
        "id": "fc4b2ed8",
        "outputId": "1e3716ee-a171-4299-f20e-f3ea1da0d26b"
      },
      "outputs": [
        {
          "data": {
            "text/plain": [
              "Float64[]"
            ]
          },
          "execution_count": 36,
          "metadata": {},
          "output_type": "execute_result"
        }
      ],
      "source": [
        "bowling_score = Float64[]"
      ]
    },
    {
      "cell_type": "code",
      "execution_count": null,
      "id": "0baa4e64",
      "metadata": {
        "tags": [],
        "id": "0baa4e64",
        "outputId": "b980f9a8-9a23-41de-884d-391852910964"
      },
      "outputs": [
        {
          "name": "stdout",
          "output_type": "stream",
          "text": [
            "Bangladesh : 227.61904761904765\n",
            "South Africa : 239.99999999999997\n",
            "England : 145.7142857142857\n",
            "India : 314.2857142857142\n",
            "Australia : 405.71428571428567\n",
            "Afghanistan : 557.1428571428571\n",
            "New Zealand : 422.8571428571429\n",
            "Pakistan : 271.4285714285714\n",
            "Sri Lanka : 171.42857142857142\n"
          ]
        }
      ],
      "source": [
        "# Print the results and store them in the 'bowling_score' array\n",
        "for (team, score) in team_scores\n",
        "    println(\"$team : $score\")\n",
        "    push!(bowling_score, score)\n",
        "end"
      ]
    },
    {
      "cell_type": "code",
      "execution_count": null,
      "id": "888906fa",
      "metadata": {
        "tags": [],
        "id": "888906fa",
        "outputId": "22f6ce9c-19ec-4855-8512-2028c0207cfa"
      },
      "outputs": [
        {
          "data": {
            "text/plain": [
              "Float64[]"
            ]
          },
          "execution_count": 38,
          "metadata": {},
          "output_type": "execute_result"
        }
      ],
      "source": [
        "bowling_score = Float64[]"
      ]
    },
    {
      "cell_type": "code",
      "execution_count": null,
      "id": "0f689a27",
      "metadata": {
        "lines_to_next_cell": 2,
        "tags": [],
        "id": "0f689a27",
        "outputId": "31ab0d78-6bca-42d3-fcf0-79c0d83de839"
      },
      "outputs": [
        {
          "name": "stdout",
          "output_type": "stream",
          "text": [
            "Float64[]\n",
            "Bangladesh : 227.61904761904765\n",
            "South Africa : 239.99999999999997\n",
            "England : 145.7142857142857\n",
            "India : 314.2857142857142\n",
            "Australia : 405.71428571428567\n",
            "Afghanistan : 557.1428571428571\n",
            "New Zealand : 422.8571428571429\n",
            "Pakistan : 271.4285714285714\n",
            "Sri Lanka : 171.42857142857142\n"
          ]
        },
        {
          "data": {
            "text/plain": [
              "10-element Vector{Float64}:\n",
              " 227.61904761904765\n",
              " 239.99999999999997\n",
              " 145.7142857142857\n",
              " 314.2857142857142\n",
              " 405.71428571428567\n",
              " 125.0\n",
              " 557.1428571428571\n",
              " 422.8571428571429\n",
              " 271.4285714285714\n",
              " 171.42857142857142"
            ]
          },
          "execution_count": 39,
          "metadata": {},
          "output_type": "execute_result"
        }
      ],
      "source": [
        "println(bowling_score)\n",
        "# Print the results and store them in the 'bowling_score' array\n",
        "for (team, score) in team_scores\n",
        "    println(\"$team : $score\")\n",
        "    push!(bowling_score, score)\n",
        "end\n",
        "insert!(bowling_score, 6, 125.0)"
      ]
    },
    {
      "cell_type": "code",
      "execution_count": null,
      "id": "b0b1a750",
      "metadata": {
        "tags": [],
        "id": "b0b1a750",
        "outputId": "48ac9fc6-9a32-4c93-bea0-2f922ad2e3d6"
      },
      "outputs": [
        {
          "data": {
            "text/plain": [
              "9-element Vector{Pair{String, Float64}}:\n",
              "  \"Afghanistan\" => 557.1428571428571\n",
              "  \"New Zealand\" => 422.8571428571429\n",
              "    \"Australia\" => 405.71428571428567\n",
              "        \"India\" => 314.2857142857142\n",
              "     \"Pakistan\" => 271.4285714285714\n",
              " \"South Africa\" => 239.99999999999997\n",
              "   \"Bangladesh\" => 227.61904761904765\n",
              "    \"Sri Lanka\" => 171.42857142857142\n",
              "      \"England\" => 145.7142857142857"
            ]
          },
          "execution_count": 40,
          "metadata": {},
          "output_type": "execute_result"
        }
      ],
      "source": [
        "# Sort the team_scores dictionary by values in descending order\n",
        "sorted_team_scores = sort(collect(team_scores), by=x->x[2], rev=true)"
      ]
    },
    {
      "cell_type": "code",
      "execution_count": null,
      "id": "a9d0a3c3",
      "metadata": {
        "tags": [],
        "id": "a9d0a3c3",
        "outputId": "69fdacbd-a4f2-4d74-b504-3f0cec9bb7b8"
      },
      "outputs": [
        {
          "name": "stdout",
          "output_type": "stream",
          "text": [
            "Afghanistan : 557.1428571428571\n",
            "New Zealand : 422.8571428571429\n",
            "Australia : 405.71428571428567\n",
            "India : 314.2857142857142\n",
            "Pakistan : 271.4285714285714\n",
            "South Africa : 239.99999999999997\n",
            "Bangladesh : 227.61904761904765\n",
            "Sri Lanka : 171.42857142857142\n",
            "England : 145.7142857142857\n"
          ]
        }
      ],
      "source": [
        "# Print the results\n",
        "for (team, score) in sorted_team_scores\n",
        "    println(\"$team : $score\")\n",
        "end"
      ]
    },
    {
      "cell_type": "code",
      "execution_count": null,
      "id": "f646e208",
      "metadata": {
        "tags": [],
        "id": "f646e208",
        "outputId": "ed5c9f13-c95a-4e9d-972f-7585af6a3943"
      },
      "outputs": [
        {
          "name": "stdout",
          "output_type": "stream",
          "text": [
            "[\"Bangladesh\", \"South Africa\", \"England\", \"India\", \"Australia\", \"Netherlands\", \"Afghanistan\", \"New Zealand\", \"Pakistan\", \"Sri Lanka\"]"
          ]
        }
      ],
      "source": [
        "print(teams)"
      ]
    },
    {
      "cell_type": "code",
      "execution_count": null,
      "id": "6509a33b",
      "metadata": {
        "tags": [],
        "id": "6509a33b",
        "outputId": "a16b468d-3408-4d9b-be4a-f9a035527463"
      },
      "outputs": [
        {
          "data": {
            "text/plain": [
              "Float64[]"
            ]
          },
          "execution_count": 43,
          "metadata": {},
          "output_type": "execute_result"
        }
      ],
      "source": [
        "# Define a vector to store the total scores\n",
        "total_score = Float64[]"
      ]
    },
    {
      "cell_type": "code",
      "execution_count": null,
      "id": "1695ee11",
      "metadata": {
        "tags": [],
        "id": "1695ee11",
        "outputId": "9c6a9cd6-d2ac-4ae8-e515-8b7ef3810b11"
      },
      "outputs": [
        {
          "name": "stdout",
          "output_type": "stream",
          "text": [
            "Bangladesh : 388.03571428571433\n",
            "South Africa : 779.5833333333334\n",
            "England : 522.797619047619\n",
            "India : 728.8690476190475\n",
            "Australia : 732.797619047619\n",
            "Netherlands : 206.25\n",
            "Afghanistan : 767.5595238095237\n",
            "New Zealand : 583.2738095238096\n",
            "Pakistan : 602.6785714285713\n",
            "Sri Lanka : 266.5674603174603\n"
          ]
        }
      ],
      "source": [
        "# Calculate the total scores and print them\n",
        "for i in 1:length(teams)\n",
        "    push!(total_score, batting_score[i] + bowling_score[i])\n",
        "    println(teams[i], \" : \", total_score[i])\n",
        "end"
      ]
    },
    {
      "cell_type": "code",
      "execution_count": null,
      "id": "6d130610",
      "metadata": {
        "tags": [],
        "id": "6d130610",
        "outputId": "721a3203-85d4-41fd-b35c-59ffc7f54b3b"
      },
      "outputs": [
        {
          "data": {
            "text/plain": [
              "10-element Vector{Float64}:\n",
              " 388.03571428571433\n",
              " 779.5833333333334\n",
              " 522.797619047619\n",
              " 728.8690476190475\n",
              " 732.797619047619\n",
              " 206.25\n",
              " 767.5595238095237\n",
              " 583.2738095238096\n",
              " 602.6785714285713\n",
              " 266.5674603174603"
            ]
          },
          "execution_count": 45,
          "metadata": {},
          "output_type": "execute_result"
        }
      ],
      "source": [
        "# Assign the total scores to 'full_score'\n",
        "full_score = total_score"
      ]
    },
    {
      "cell_type": "code",
      "execution_count": null,
      "id": "88eb6389",
      "metadata": {
        "tags": [],
        "id": "88eb6389",
        "outputId": "c474fccb-2cb5-49c3-cf35-5ccd654ff6e9"
      },
      "outputs": [
        {
          "data": {
            "text/plain": [
              "10-element Vector{Float64}:\n",
              " 388.03571428571433\n",
              " 779.5833333333334\n",
              " 522.797619047619\n",
              " 728.8690476190475\n",
              " 732.797619047619\n",
              " 206.25\n",
              " 767.5595238095237\n",
              " 583.2738095238096\n",
              " 602.6785714285713\n",
              " 266.5674603174603"
            ]
          },
          "execution_count": 46,
          "metadata": {},
          "output_type": "execute_result"
        }
      ],
      "source": [
        "total_score = copy(full_score)"
      ]
    },
    {
      "cell_type": "code",
      "execution_count": null,
      "id": "d00f626a",
      "metadata": {
        "tags": [],
        "id": "d00f626a",
        "outputId": "5817e3fb-f69e-483f-cd7e-06e82051b095"
      },
      "outputs": [
        {
          "data": {
            "text/plain": [
              "Set{String} with 2 elements:\n",
              "  \"Netherlands\"\n",
              "  \"Afghanistan\""
            ]
          },
          "execution_count": 47,
          "metadata": {},
          "output_type": "execute_result"
        }
      ],
      "source": [
        "past_winners = Set([\"India\", \"Pakistan\", \"Australia\", \"England\", \"Sri Lanka\"])\n",
        "new_countries = Set([\"Afghanistan\", \"Netherlands\"])"
      ]
    },
    {
      "cell_type": "code",
      "execution_count": null,
      "id": "2a8f7d70",
      "metadata": {
        "tags": [],
        "id": "2a8f7d70"
      },
      "outputs": [],
      "source": [
        "for (i, team) in enumerate(teams)\n",
        "    if team in past_winners\n",
        "        total_score[i] *= 1.2\n",
        "    end\n",
        "\n",
        "    if team in new_countries\n",
        "        total_score[i] *= 0.8\n",
        "    end\n",
        "end"
      ]
    },
    {
      "cell_type": "code",
      "execution_count": null,
      "id": "ff9a0e0c",
      "metadata": {
        "lines_to_next_cell": 2,
        "tags": [],
        "id": "ff9a0e0c",
        "outputId": "4edef56a-6272-40c4-e746-cf32c18c303f"
      },
      "outputs": [
        {
          "name": "stdout",
          "output_type": "stream",
          "text": [
            "[388.03571428571433, 779.5833333333334, 627.3571428571428, 874.642857142857, 879.3571428571428, 165.0, 614.047619047619, 583.2738095238096, 723.2142857142856, 319.88095238095235]\n"
          ]
        }
      ],
      "source": [
        "# Print the updated total_score\n",
        "println(total_score)"
      ]
    },
    {
      "cell_type": "code",
      "execution_count": null,
      "id": "f2c7863d",
      "metadata": {
        "tags": [],
        "id": "f2c7863d",
        "outputId": "7f98df89-7351-41b7-b840-0bf1f79c1498"
      },
      "outputs": [
        {
          "name": "stdout",
          "output_type": "stream",
          "text": [
            "Bangladesh 388.03571428571433\n",
            "South Africa 779.5833333333334\n",
            "England 627.3571428571428\n",
            "India 874.642857142857\n",
            "Australia 879.3571428571428\n",
            "Netherlands 165.0\n",
            "Afghanistan 614.047619047619\n",
            "New Zealand 583.2738095238096\n",
            "Pakistan 723.2142857142856\n",
            "Sri Lanka 319.88095238095235\n"
          ]
        }
      ],
      "source": [
        "for i in 1:length(teams)\n",
        "    println(teams[i], \" \", total_score[i])\n",
        "end"
      ]
    },
    {
      "cell_type": "code",
      "execution_count": null,
      "id": "167fb46d",
      "metadata": {
        "lines_to_next_cell": 2,
        "tags": [],
        "id": "167fb46d",
        "outputId": "86e1c457-2f0e-4f99-babc-835b42e7087c"
      },
      "outputs": [
        {
          "data": {
            "text/plain": [
              "10-element Vector{Float64}:\n",
              " 388.03571428571433\n",
              " 779.5833333333334\n",
              " 627.3571428571428\n",
              " 874.642857142857\n",
              " 879.3571428571428\n",
              " 165.0\n",
              " 614.047619047619\n",
              " 583.2738095238096\n",
              " 723.2142857142856\n",
              " 319.88095238095235"
            ]
          },
          "execution_count": 51,
          "metadata": {},
          "output_type": "execute_result"
        }
      ],
      "source": [
        "team_scores = copy(total_score)"
      ]
    },
    {
      "cell_type": "code",
      "execution_count": null,
      "id": "87af4bea",
      "metadata": {
        "tags": [],
        "id": "87af4bea",
        "outputId": "e79b761f-876b-4654-8aa9-1edfa095de3a"
      },
      "outputs": [
        {
          "data": {
            "text/plain": [
              "Float64[]"
            ]
          },
          "execution_count": 52,
          "metadata": {},
          "output_type": "execute_result"
        }
      ],
      "source": [
        "points = Float64[]"
      ]
    },
    {
      "cell_type": "code",
      "execution_count": null,
      "id": "f6c2a278",
      "metadata": {
        "tags": [],
        "id": "f6c2a278"
      },
      "outputs": [],
      "source": [
        "for i in 1:length(teams)\n",
        "    s = 0.0\n",
        "    for j in 1:length(teams)\n",
        "        if teams[i] != teams[j]\n",
        "            s += 2 * total_score[i] / (total_score[i] + total_score[j])\n",
        "        end\n",
        "    end\n",
        "    push!(points, s)\n",
        "end"
      ]
    },
    {
      "cell_type": "code",
      "execution_count": null,
      "id": "c8fd2774",
      "metadata": {
        "tags": [],
        "id": "c8fd2774",
        "outputId": "a6aced10-0225-4fde-a09e-65065835e346"
      },
      "outputs": [
        {
          "name": "stdout",
          "output_type": "stream",
          "text": [
            "Match up Bangladesh vs South Africa :\n",
            "Chances to win for Team Bangladesh: 0.33233075040783033\n",
            "Chances to win for Team South Africa: 0.6676692495921697\n",
            "Match up Bangladesh vs England :\n",
            "Chances to win for Team Bangladesh: 0.3821532833878514\n",
            "Chances to win for Team England: 0.6178467166121486\n",
            "Match up Bangladesh vs India :\n",
            "Chances to win for Team Bangladesh: 0.3073115542356103\n",
            "Chances to win for Team India: 0.6926884457643897\n",
            "Match up Bangladesh vs Australia :\n",
            "Chances to win for Team Bangladesh: 0.3061684560543298\n",
            "Chances to win for Team Australia: 0.6938315439456701\n",
            "Match up Bangladesh vs Netherlands :\n",
            "Chances to win for Team Bangladesh: 0.7016467549241201\n",
            "Chances to win for Team Netherlands: 0.29835324507587985\n",
            "Match up Bangladesh vs Afghanistan :\n",
            "Chances to win for Team Bangladesh: 0.38722898722898724\n",
            "Chances to win for Team Afghanistan: 0.6127710127710128\n",
            "Match up Bangladesh vs New Zealand :\n",
            "Chances to win for Team Bangladesh: 0.39949748743718594\n",
            "Chances to win for Team New Zealand: 0.6005025125628141\n",
            "Match up Bangladesh vs Pakistan :\n",
            "Chances to win for Team Bangladesh: 0.349188494295356\n",
            "Chances to win for Team Pakistan: 0.650811505704644\n",
            "Match up Bangladesh vs Sri Lanka :\n",
            "Chances to win for Team Bangladesh: 0.5481375599091903\n",
            "Chances to win for Team Sri Lanka: 0.4518624400908096\n",
            "Match up South Africa vs England :\n",
            "Chances to win for Team South Africa: 0.5540983051707945\n",
            "Chances to win for Team England: 0.4459016948292055\n",
            "Match up South Africa vs India :\n",
            "Chances to win for Team South Africa: 0.47126767658594515\n",
            "Chances to win for Team India: 0.5287323234140549\n",
            "Match up South Africa vs Australia :\n",
            "Chances to win for Team South Africa: 0.46992845404769257\n",
            "Chances to win for Team Australia: 0.5300715459523074\n",
            "Match up South Africa vs Netherlands :\n",
            "Chances to win for Team South Africa: 0.8253198059108955\n",
            "Chances to win for Team Netherlands: 0.17468019408910454\n",
            "Match up South Africa vs Afghanistan :\n",
            "Chances to win for Team South Africa: 0.5593900824328365\n",
            "Chances to win for Team Afghanistan: 0.44060991756716356\n",
            "Match up South Africa vs New Zealand :\n",
            "Chances to win for Team South Africa: 0.5720213137665967\n",
            "Chances to win for Team New Zealand: 0.42797868623340324\n",
            "Match up South Africa vs Pakistan :\n",
            "Chances to win for Team South Africa: 0.5187547035291323\n",
            "Chances to win for Team Pakistan: 0.4812452964708678\n",
            "Match up South Africa vs Sri Lanka :\n",
            "Chances to win for Team South Africa: 0.7090574413946186\n",
            "Chances to win for Team Sri Lanka: 0.2909425586053814\n",
            "Match up England vs India :\n",
            "Chances to win for Team England: 0.4176811869887769\n",
            "Chances to win for Team India: 0.5823188130112231\n",
            "Match up England vs Australia :\n",
            "Chances to win for Team England: 0.41637432445245093\n",
            "Chances to win for Team Australia: 0.5836256755475491\n",
            "Match up England vs Netherlands :\n",
            "Chances to win for Team England: 0.7917605697286577\n",
            "Chances to win for Team Netherlands: 0.2082394302713423\n",
            "Match up England vs Afghanistan :\n",
            "Chances to win for Team England: 0.5053606705153532\n",
            "Chances to win for Team Afghanistan: 0.4946393294846468\n",
            "Match up England vs New Zealand :\n",
            "Chances to win for Team England: 0.5182067595606383\n",
            "Chances to win for Team New Zealand: 0.4817932404393617\n",
            "Match up England vs Pakistan :\n",
            "Chances to win for Team England: 0.46451237571398346\n",
            "Chances to win for Team Pakistan: 0.5354876242860165\n",
            "Match up England vs Sri Lanka :\n",
            "Chances to win for Team England: 0.662301427709632\n",
            "Chances to win for Team Sri Lanka: 0.337698572290368\n",
            "Match up India vs Australia :\n",
            "Chances to win for Team India: 0.4986561329206711\n",
            "Chances to win for Team Australia: 0.5013438670793289\n",
            "Match up India vs Netherlands :\n",
            "Chances to win for Team India: 0.8412916523531433\n",
            "Chances to win for Team Netherlands: 0.1587083476468568\n",
            "Match up India vs Afghanistan :\n",
            "Chances to win for Team India: 0.5875249900039983\n",
            "Chances to win for Team Afghanistan: 0.4124750099960016\n",
            "Match up India vs New Zealand :\n",
            "Chances to win for Team India: 0.599926509614992\n",
            "Chances to win for Team New Zealand: 0.40007349038500806\n",
            "Match up India vs Pakistan :\n",
            "Chances to win for Team India: 0.5473848904783192\n",
            "Chances to win for Team Pakistan: 0.45261510952168077\n",
            "Match up India vs Sri Lanka :\n",
            "Chances to win for Team India: 0.732210484353199\n",
            "Chances to win for Team Sri Lanka: 0.26778951564680087\n",
            "Match up Australia vs Netherlands :\n",
            "Chances to win for Team Australia: 0.8420080705834075\n",
            "Chances to win for Team Netherlands: 0.1579919294165926\n",
            "Match up Australia vs Afghanistan :\n",
            "Chances to win for Team Australia: 0.5888270650319659\n",
            "Chances to win for Team Afghanistan: 0.41117293496803403\n",
            "Match up Australia vs New Zealand :\n",
            "Chances to win for Team Australia: 0.6012160083346221\n",
            "Chances to win for Team New Zealand: 0.39878399166537803\n",
            "Match up Australia vs Pakistan :\n",
            "Chances to win for Team Australia: 0.548716348725263\n",
            "Chances to win for Team Pakistan: 0.45128365127473696\n",
            "Match up Australia vs Sri Lanka :\n",
            "Chances to win for Team Australia: 0.7332631829733164\n",
            "Chances to win for Team Sri Lanka: 0.2667368170266836\n",
            "Match up Netherlands vs Afghanistan :\n",
            "Chances to win for Team Netherlands: 0.21179706601466994\n",
            "Chances to win for Team Afghanistan: 0.78820293398533\n",
            "Match up Netherlands vs New Zealand :\n",
            "Chances to win for Team Netherlands: 0.22050751730172616\n",
            "Chances to win for Team New Zealand: 0.7794924826982739\n",
            "Match up Netherlands vs Pakistan :\n",
            "Chances to win for Team Netherlands: 0.1857659831121834\n",
            "Chances to win for Team Pakistan: 0.8142340168878166\n",
            "Match up Netherlands vs Sri Lanka :\n",
            "Chances to win for Team Netherlands: 0.3402897127424503\n",
            "Chances to win for Team Sri Lanka: 0.6597102872575497\n",
            "Match up Afghanistan vs New Zealand :\n",
            "Chances to win for Team Afghanistan: 0.5128511061396966\n",
            "Chances to win for Team New Zealand: 0.4871488938603033\n",
            "Match up Afghanistan vs Pakistan :\n",
            "Chances to win for Team Afghanistan: 0.45918276506721273\n",
            "Chances to win for Team Pakistan: 0.5408172349327872\n",
            "Match up Afghanistan vs Sri Lanka :\n",
            "Chances to win for Team Afghanistan: 0.6574888463989803\n",
            "Chances to win for Team Sri Lanka: 0.34251115360101975\n",
            "Match up New Zealand vs Pakistan :\n",
            "Chances to win for Team New Zealand: 0.44644402934074456\n",
            "Chances to win for Team Pakistan: 0.5535559706592554\n",
            "Match up New Zealand vs Sri Lanka :\n",
            "Chances to win for Team New Zealand: 0.6458182297502143\n",
            "Chances to win for Team Sri Lanka: 0.35418177024978575\n",
            "Match up Pakistan vs Sri Lanka :\n",
            "Chances to win for Team Pakistan: 0.6933348550559233\n",
            "Chances to win for Team Sri Lanka: 0.30666514494407676\n"
          ]
        }
      ],
      "source": [
        "#Usecase-1 : Comparing winning probabilities for all the head to head matches in a round robin format\n",
        "function matchups()\n",
        "    for i in 1:length(teams)\n",
        "        for j in i+1:length(teams)\n",
        "            prob_factor = total_score[i] + total_score[j]\n",
        "            println(\"Match up $(teams[i]) vs $(teams[j]) :\")\n",
        "            println(\"Chances to win for Team $(teams[i]): $(total_score[i] / prob_factor)\")\n",
        "            println(\"Chances to win for Team $(teams[j]): $(total_score[j] / prob_factor)\")\n",
        "        end\n",
        "    end\n",
        "end\n",
        "\n",
        "m1 = matchups()\n"
      ]
    },
    {
      "cell_type": "code",
      "execution_count": null,
      "id": "84c6715a",
      "metadata": {
        "tags": [],
        "id": "84c6715a",
        "outputId": "43adcba4-235a-4080-b068-b631f106b70e"
      },
      "outputs": [
        {
          "data": {
            "text/html": [
              "<div><div style = \"float: left;\"><span>10×2 DataFrame</span></div><div style = \"clear: both;\"></div></div><div class = \"data-frame\" style = \"overflow-x: scroll;\"><table class = \"data-frame\" style = \"margin-bottom: 6px;\"><thead><tr class = \"header\"><th class = \"rowNumber\" style = \"font-weight: bold; text-align: right;\">Row</th><th style = \"text-align: left;\">Team</th><th style = \"text-align: left;\">Probable_Points</th></tr><tr class = \"subheader headerLastRow\"><th class = \"rowNumber\" style = \"font-weight: bold; text-align: right;\"></th><th title = \"String\" style = \"text-align: left;\">String</th><th title = \"Float64\" style = \"text-align: left;\">Float64</th></tr></thead><tbody><tr><td class = \"rowNumber\" style = \"font-weight: bold; text-align: right;\">1</td><td style = \"text-align: left;\">Bangladesh</td><td style = \"text-align: right;\">7.42733</td></tr><tr><td class = \"rowNumber\" style = \"font-weight: bold; text-align: right;\">2</td><td style = \"text-align: left;\">South Africa</td><td style = \"text-align: right;\">10.695</td></tr><tr><td class = \"rowNumber\" style = \"font-weight: bold; text-align: right;\">3</td><td style = \"text-align: left;\">England</td><td style = \"text-align: right;\">9.67989</td></tr><tr><td class = \"rowNumber\" style = \"font-weight: bold; text-align: right;\">4</td><td style = \"text-align: left;\">India</td><td style = \"text-align: right;\">11.2215</td></tr><tr><td class = \"rowNumber\" style = \"font-weight: bold; text-align: right;\">5</td><td style = \"text-align: left;\">Australia</td><td style = \"text-align: right;\">11.2458</td></tr><tr><td class = \"rowNumber\" style = \"font-weight: bold; text-align: right;\">6</td><td style = \"text-align: left;\">Netherlands</td><td style = \"text-align: right;\">3.91267</td></tr><tr><td class = \"rowNumber\" style = \"font-weight: bold; text-align: right;\">7</td><td style = \"text-align: left;\">Afghanistan</td><td style = \"text-align: right;\">9.57879</td></tr><tr><td class = \"rowNumber\" style = \"font-weight: bold; text-align: right;\">8</td><td style = \"text-align: left;\">New Zealand</td><td style = \"text-align: right;\">9.33607</td></tr><tr><td class = \"rowNumber\" style = \"font-weight: bold; text-align: right;\">9</td><td style = \"text-align: left;\">Pakistan</td><td style = \"text-align: right;\">10.3468</td></tr><tr><td class = \"rowNumber\" style = \"font-weight: bold; text-align: right;\">10</td><td style = \"text-align: left;\">Sri Lanka</td><td style = \"text-align: right;\">6.5562</td></tr></tbody></table></div>"
            ],
            "text/latex": [
              "\\begin{tabular}{r|cc}\n",
              "\t& Team & Probable\\_Points\\\\\n",
              "\t\\hline\n",
              "\t& String & Float64\\\\\n",
              "\t\\hline\n",
              "\t1 & Bangladesh & 7.42733 \\\\\n",
              "\t2 & South Africa & 10.695 \\\\\n",
              "\t3 & England & 9.67989 \\\\\n",
              "\t4 & India & 11.2215 \\\\\n",
              "\t5 & Australia & 11.2458 \\\\\n",
              "\t6 & Netherlands & 3.91267 \\\\\n",
              "\t7 & Afghanistan & 9.57879 \\\\\n",
              "\t8 & New Zealand & 9.33607 \\\\\n",
              "\t9 & Pakistan & 10.3468 \\\\\n",
              "\t10 & Sri Lanka & 6.5562 \\\\\n",
              "\\end{tabular}\n"
            ],
            "text/plain": [
              "\u001b[1m10×2 DataFrame\u001b[0m\n",
              "\u001b[1m Row \u001b[0m│\u001b[1m Team         \u001b[0m\u001b[1m Probable_Points \u001b[0m\n",
              "     │\u001b[90m String       \u001b[0m\u001b[90m Float64         \u001b[0m\n",
              "─────┼───────────────────────────────\n",
              "   1 │ Bangladesh            7.42733\n",
              "   2 │ South Africa         10.695\n",
              "   3 │ England               9.67989\n",
              "   4 │ India                11.2215\n",
              "   5 │ Australia            11.2458\n",
              "   6 │ Netherlands           3.91267\n",
              "   7 │ Afghanistan           9.57879\n",
              "   8 │ New Zealand           9.33607\n",
              "   9 │ Pakistan             10.3468\n",
              "  10 │ Sri Lanka             6.5562"
            ]
          },
          "execution_count": 55,
          "metadata": {},
          "output_type": "execute_result"
        }
      ],
      "source": [
        "# Create a DataFrame\n",
        "points_table = DataFrame(Team = teams, Probable_Points = points)"
      ]
    },
    {
      "cell_type": "code",
      "execution_count": null,
      "id": "72097749",
      "metadata": {
        "tags": [],
        "id": "72097749",
        "outputId": "283be954-ba39-48ad-97ac-900287d51f13"
      },
      "outputs": [
        {
          "data": {
            "text/html": [
              "<div><div style = \"float: left;\"><span>10×2 DataFrame</span></div><div style = \"clear: both;\"></div></div><div class = \"data-frame\" style = \"overflow-x: scroll;\"><table class = \"data-frame\" style = \"margin-bottom: 6px;\"><thead><tr class = \"header\"><th class = \"rowNumber\" style = \"font-weight: bold; text-align: right;\">Row</th><th style = \"text-align: left;\">Team</th><th style = \"text-align: left;\">Probable_Points</th></tr><tr class = \"subheader headerLastRow\"><th class = \"rowNumber\" style = \"font-weight: bold; text-align: right;\"></th><th title = \"String\" style = \"text-align: left;\">String</th><th title = \"Float64\" style = \"text-align: left;\">Float64</th></tr></thead><tbody><tr><td class = \"rowNumber\" style = \"font-weight: bold; text-align: right;\">1</td><td style = \"text-align: left;\">Bangladesh</td><td style = \"text-align: right;\">7.42733</td></tr><tr><td class = \"rowNumber\" style = \"font-weight: bold; text-align: right;\">2</td><td style = \"text-align: left;\">South Africa</td><td style = \"text-align: right;\">10.695</td></tr><tr><td class = \"rowNumber\" style = \"font-weight: bold; text-align: right;\">3</td><td style = \"text-align: left;\">England</td><td style = \"text-align: right;\">9.67989</td></tr><tr><td class = \"rowNumber\" style = \"font-weight: bold; text-align: right;\">4</td><td style = \"text-align: left;\">India</td><td style = \"text-align: right;\">11.2215</td></tr><tr><td class = \"rowNumber\" style = \"font-weight: bold; text-align: right;\">5</td><td style = \"text-align: left;\">Australia</td><td style = \"text-align: right;\">11.2458</td></tr><tr><td class = \"rowNumber\" style = \"font-weight: bold; text-align: right;\">6</td><td style = \"text-align: left;\">Netherlands</td><td style = \"text-align: right;\">3.91267</td></tr><tr><td class = \"rowNumber\" style = \"font-weight: bold; text-align: right;\">7</td><td style = \"text-align: left;\">Afghanistan</td><td style = \"text-align: right;\">9.57879</td></tr><tr><td class = \"rowNumber\" style = \"font-weight: bold; text-align: right;\">8</td><td style = \"text-align: left;\">New Zealand</td><td style = \"text-align: right;\">9.33607</td></tr><tr><td class = \"rowNumber\" style = \"font-weight: bold; text-align: right;\">9</td><td style = \"text-align: left;\">Pakistan</td><td style = \"text-align: right;\">10.3468</td></tr><tr><td class = \"rowNumber\" style = \"font-weight: bold; text-align: right;\">10</td><td style = \"text-align: left;\">Sri Lanka</td><td style = \"text-align: right;\">6.5562</td></tr></tbody></table></div>"
            ],
            "text/latex": [
              "\\begin{tabular}{r|cc}\n",
              "\t& Team & Probable\\_Points\\\\\n",
              "\t\\hline\n",
              "\t& String & Float64\\\\\n",
              "\t\\hline\n",
              "\t1 & Bangladesh & 7.42733 \\\\\n",
              "\t2 & South Africa & 10.695 \\\\\n",
              "\t3 & England & 9.67989 \\\\\n",
              "\t4 & India & 11.2215 \\\\\n",
              "\t5 & Australia & 11.2458 \\\\\n",
              "\t6 & Netherlands & 3.91267 \\\\\n",
              "\t7 & Afghanistan & 9.57879 \\\\\n",
              "\t8 & New Zealand & 9.33607 \\\\\n",
              "\t9 & Pakistan & 10.3468 \\\\\n",
              "\t10 & Sri Lanka & 6.5562 \\\\\n",
              "\\end{tabular}\n"
            ],
            "text/plain": [
              "\u001b[1m10×2 DataFrame\u001b[0m\n",
              "\u001b[1m Row \u001b[0m│\u001b[1m Team         \u001b[0m\u001b[1m Probable_Points \u001b[0m\n",
              "     │\u001b[90m String       \u001b[0m\u001b[90m Float64         \u001b[0m\n",
              "─────┼───────────────────────────────\n",
              "   1 │ Bangladesh            7.42733\n",
              "   2 │ South Africa         10.695\n",
              "   3 │ England               9.67989\n",
              "   4 │ India                11.2215\n",
              "   5 │ Australia            11.2458\n",
              "   6 │ Netherlands           3.91267\n",
              "   7 │ Afghanistan           9.57879\n",
              "   8 │ New Zealand           9.33607\n",
              "   9 │ Pakistan             10.3468\n",
              "  10 │ Sri Lanka             6.5562"
            ]
          },
          "execution_count": 56,
          "metadata": {},
          "output_type": "execute_result"
        }
      ],
      "source": [
        "# Display the DataFrame\n",
        "points_table"
      ]
    },
    {
      "cell_type": "code",
      "execution_count": null,
      "id": "3c73676d",
      "metadata": {
        "tags": [],
        "id": "3c73676d",
        "outputId": "d175a7e1-8572-4f04-d62b-2d529e7ff685"
      },
      "outputs": [
        {
          "data": {
            "text/html": [
              "<div><div style = \"float: left;\"><span>10×2 DataFrame</span></div><div style = \"clear: both;\"></div></div><div class = \"data-frame\" style = \"overflow-x: scroll;\"><table class = \"data-frame\" style = \"margin-bottom: 6px;\"><thead><tr class = \"header\"><th class = \"rowNumber\" style = \"font-weight: bold; text-align: right;\">Row</th><th style = \"text-align: left;\">Team</th><th style = \"text-align: left;\">Probable_Points</th></tr><tr class = \"subheader headerLastRow\"><th class = \"rowNumber\" style = \"font-weight: bold; text-align: right;\"></th><th title = \"String\" style = \"text-align: left;\">String</th><th title = \"Float64\" style = \"text-align: left;\">Float64</th></tr></thead><tbody><tr><td class = \"rowNumber\" style = \"font-weight: bold; text-align: right;\">1</td><td style = \"text-align: left;\">Australia</td><td style = \"text-align: right;\">11.2458</td></tr><tr><td class = \"rowNumber\" style = \"font-weight: bold; text-align: right;\">2</td><td style = \"text-align: left;\">India</td><td style = \"text-align: right;\">11.2215</td></tr><tr><td class = \"rowNumber\" style = \"font-weight: bold; text-align: right;\">3</td><td style = \"text-align: left;\">South Africa</td><td style = \"text-align: right;\">10.695</td></tr><tr><td class = \"rowNumber\" style = \"font-weight: bold; text-align: right;\">4</td><td style = \"text-align: left;\">Pakistan</td><td style = \"text-align: right;\">10.3468</td></tr><tr><td class = \"rowNumber\" style = \"font-weight: bold; text-align: right;\">5</td><td style = \"text-align: left;\">England</td><td style = \"text-align: right;\">9.67989</td></tr><tr><td class = \"rowNumber\" style = \"font-weight: bold; text-align: right;\">6</td><td style = \"text-align: left;\">Afghanistan</td><td style = \"text-align: right;\">9.57879</td></tr><tr><td class = \"rowNumber\" style = \"font-weight: bold; text-align: right;\">7</td><td style = \"text-align: left;\">New Zealand</td><td style = \"text-align: right;\">9.33607</td></tr><tr><td class = \"rowNumber\" style = \"font-weight: bold; text-align: right;\">8</td><td style = \"text-align: left;\">Bangladesh</td><td style = \"text-align: right;\">7.42733</td></tr><tr><td class = \"rowNumber\" style = \"font-weight: bold; text-align: right;\">9</td><td style = \"text-align: left;\">Sri Lanka</td><td style = \"text-align: right;\">6.5562</td></tr><tr><td class = \"rowNumber\" style = \"font-weight: bold; text-align: right;\">10</td><td style = \"text-align: left;\">Netherlands</td><td style = \"text-align: right;\">3.91267</td></tr></tbody></table></div>"
            ],
            "text/latex": [
              "\\begin{tabular}{r|cc}\n",
              "\t& Team & Probable\\_Points\\\\\n",
              "\t\\hline\n",
              "\t& String & Float64\\\\\n",
              "\t\\hline\n",
              "\t1 & Australia & 11.2458 \\\\\n",
              "\t2 & India & 11.2215 \\\\\n",
              "\t3 & South Africa & 10.695 \\\\\n",
              "\t4 & Pakistan & 10.3468 \\\\\n",
              "\t5 & England & 9.67989 \\\\\n",
              "\t6 & Afghanistan & 9.57879 \\\\\n",
              "\t7 & New Zealand & 9.33607 \\\\\n",
              "\t8 & Bangladesh & 7.42733 \\\\\n",
              "\t9 & Sri Lanka & 6.5562 \\\\\n",
              "\t10 & Netherlands & 3.91267 \\\\\n",
              "\\end{tabular}\n"
            ],
            "text/plain": [
              "\u001b[1m10×2 DataFrame\u001b[0m\n",
              "\u001b[1m Row \u001b[0m│\u001b[1m Team         \u001b[0m\u001b[1m Probable_Points \u001b[0m\n",
              "     │\u001b[90m String       \u001b[0m\u001b[90m Float64         \u001b[0m\n",
              "─────┼───────────────────────────────\n",
              "   1 │ Australia            11.2458\n",
              "   2 │ India                11.2215\n",
              "   3 │ South Africa         10.695\n",
              "   4 │ Pakistan             10.3468\n",
              "   5 │ England               9.67989\n",
              "   6 │ Afghanistan           9.57879\n",
              "   7 │ New Zealand           9.33607\n",
              "   8 │ Bangladesh            7.42733\n",
              "   9 │ Sri Lanka             6.5562\n",
              "  10 │ Netherlands           3.91267"
            ]
          },
          "execution_count": 57,
          "metadata": {},
          "output_type": "execute_result"
        }
      ],
      "source": [
        "# Sort the DataFrame by 'Probable_Points' in descending order\n",
        "#Use case-2: Predicting the final points table after each team plays 9matches(every other team in the competition)\n",
        "sorted_result = sort(points_table, :Probable_Points, rev=true)\n",
        "result=sorted_result"
      ]
    },
    {
      "cell_type": "code",
      "execution_count": null,
      "id": "21348fee",
      "metadata": {
        "tags": [],
        "id": "21348fee",
        "outputId": "99da8723-c2ee-4997-958e-e7af026bdc0e"
      },
      "outputs": [
        {
          "data": {
            "text/plain": [
              "4-element Vector{Float64}:\n",
              " 11.24580661634686\n",
              " 11.221468483827978\n",
              " 10.695014064861363\n",
              " 10.346770529587456"
            ]
          },
          "execution_count": 58,
          "metadata": {},
          "output_type": "execute_result"
        }
      ],
      "source": [
        "# Extract the top 4 teams and their points\n",
        "top4_teams = sorted_result[1:4, :Team]\n",
        "top4_points = sorted_result[1:4, :Probable_Points]"
      ]
    },
    {
      "cell_type": "code",
      "execution_count": null,
      "id": "5238e189",
      "metadata": {
        "tags": [],
        "id": "5238e189",
        "outputId": "47c23ccf-c678-4659-c4fe-472e72583d1e"
      },
      "outputs": [
        {
          "data": {
            "text/plain": [
              "4-element Vector{Float64}:\n",
              " 11.24580661634686\n",
              " 11.221468483827978\n",
              " 10.695014064861363\n",
              " 10.346770529587456"
            ]
          },
          "execution_count": 59,
          "metadata": {},
          "output_type": "execute_result"
        }
      ],
      "source": [
        "\n",
        "top4_teams = collect(top4_teams)\n",
        "top4_points = collect(top4_points)"
      ]
    },
    {
      "cell_type": "code",
      "execution_count": null,
      "id": "9a20849e",
      "metadata": {
        "lines_to_next_cell": 2,
        "tags": [],
        "id": "9a20849e",
        "outputId": "8e3e1fbb-518d-41b3-df5f-147a8f2e48f5"
      },
      "outputs": [
        {
          "data": {
            "text/plain": [
              "4-element Vector{String}:\n",
              " \"Australia\"\n",
              " \"India\"\n",
              " \"South Africa\"\n",
              " \"Pakistan\""
            ]
          },
          "execution_count": 60,
          "metadata": {},
          "output_type": "execute_result"
        }
      ],
      "source": [
        "#Usecase-3: Top 4 teams/Semifinalists for the competition\n",
        "top4_points = top4_points[1:4]\n",
        "top4_teams = top4_teams[1:4]\n"
      ]
    },
    {
      "cell_type": "code",
      "execution_count": null,
      "id": "c4839bef",
      "metadata": {
        "tags": [],
        "id": "c4839bef",
        "outputId": "9b616dc0-c8b9-414a-ae7b-a4b6d1649409"
      },
      "outputs": [
        {
          "name": "stdout",
          "output_type": "stream",
          "text": [
            "Chance for Australia to win World Cup 2023: 0.25847045868786\n",
            "Chance for India to win World Cup 2023: 0.2579110778901663\n",
            "Chance for South Africa to win World Cup 2023: 0.24581119748223215\n",
            "Chance for Pakistan to win World Cup 2023: 0.2378072659397415\n"
          ]
        }
      ],
      "source": [
        "#Usecase-4: Predicting the final winner of ICC Cricket World Cup 2023\n",
        "for i in 1:length(top4_teams)\n",
        "    chance = top4_points[i] / sum(top4_points)\n",
        "    println(\"Chance for $(top4_teams[i]) to win World Cup 2023: $chance\")\n",
        "end"
      ]
    },
    {
      "cell_type": "code",
      "execution_count": null,
      "id": "8a449c59",
      "metadata": {
        "tags": [],
        "id": "8a449c59",
        "outputId": "66bdd60a-30a8-4c8f-a9b8-7d208f9040fa"
      },
      "outputs": [
        {
          "name": "stdout",
          "output_type": "stream",
          "text": [
            "Any[1.0010832703303076, 1.0114688327052503, 0.4879895321295958, 0.5005416351651538]\n"
          ]
        }
      ],
      "source": [
        "# Assuming top4_points is an array defined earlier\n",
        "scores = []\n",
        "\n",
        "push!(scores, (top4_points[1] / (top4_points[1] + top4_points[2])) + (top4_points[1] / (top4_points[1] + top4_points[2])))\n",
        "push!(scores, (top4_points[2] / (top4_points[1] + top4_points[2])) + (top4_points[2] / (top4_points[2] + top4_points[3])))\n",
        "push!(scores, top4_points[3] / (top4_points[2] + top4_points[3]))\n",
        "push!(scores, top4_points[1] / (top4_points[1] + top4_points[2]))\n",
        "\n",
        "# Print the calculated scores\n",
        "println(scores)\n"
      ]
    },
    {
      "cell_type": "code",
      "execution_count": null,
      "id": "663db0f0",
      "metadata": {
        "tags": [],
        "id": "663db0f0",
        "outputId": "f09c2460-b0b3-4e32-87c0-25b735676494"
      },
      "outputs": [
        {
          "data": {
            "text/plain": [
              "win_pred (generic function with 1 method)"
            ]
          },
          "execution_count": 63,
          "metadata": {},
          "output_type": "execute_result"
        }
      ],
      "source": [
        "function win_pred()\n",
        "    for i in 1:length(top4_teams)\n",
        "        println(\"Chance for \", top4_teams[i], \" to win World Cup 2023: \", scores[i] / sum(scores))\n",
        "    end\n",
        "end\n"
      ]
    },
    {
      "cell_type": "code",
      "execution_count": null,
      "id": "64f79942",
      "metadata": {
        "tags": [],
        "id": "64f79942",
        "outputId": "a9acca86-89e6-4b46-8a97-68086f4c00f3"
      },
      "outputs": [
        {
          "data": {
            "text/plain": [
              "4-element Vector{String}:\n",
              " \"India\"\n",
              " \"Afghanistan\"\n",
              " \"Australia\"\n",
              " \"New Zealand\""
            ]
          },
          "execution_count": 64,
          "metadata": {},
          "output_type": "execute_result"
        }
      ],
      "source": [
        "strong_bat = [\"India\", \"Australia\", \"South Africa\", \"England\"]\n",
        "strong_bowl = [\"India\",\"Afghanistan\",\"Australia\",\"New Zealand\"]"
      ]
    },
    {
      "cell_type": "code",
      "execution_count": null,
      "id": "097e9d3e",
      "metadata": {
        "tags": [],
        "id": "097e9d3e",
        "outputId": "7f453c13-5b38-4979-e197-4a25c6195ca7"
      },
      "outputs": [
        {
          "data": {
            "text/plain": [
              "43-element Vector{Float64}:\n",
              "  66.66666666666666\n",
              "  29.166666666666668\n",
              "  22.916666666666664\n",
              "  91.66666666666666\n",
              "  77.08333333333334\n",
              "  56.25\n",
              "  45.83333333333333\n",
              "  31.25\n",
              "  16.666666666666664\n",
              "   8.333333333333332\n",
              "  60.416666666666664\n",
              "  37.5\n",
              "  20.833333333333336\n",
              "   ⋮\n",
              " 100.0\n",
              "  89.58333333333334\n",
              "  79.16666666666666\n",
              "  12.5\n",
              "  95.83333333333334\n",
              "  87.5\n",
              "  85.41666666666666\n",
              "  75.0\n",
              "  70.83333333333334\n",
              "  41.66666666666667\n",
              "  50.0\n",
              "  10.416666666666668"
            ]
          },
          "execution_count": 65,
          "metadata": {},
          "output_type": "execute_result"
        }
      ],
      "source": [
        "bat_name = df_filtered_bat.Player_Name\n",
        "bat_nation = df_filtered_bat.Player_Nation\n",
        "bat_rank = df_filtered_bat.PercentileRank"
      ]
    },
    {
      "cell_type": "code",
      "execution_count": null,
      "id": "f6f4a804",
      "metadata": {
        "tags": [],
        "id": "f6f4a804",
        "outputId": "5e22f738-0798-416f-ee09-75987ea957be"
      },
      "outputs": [
        {
          "data": {
            "text/plain": [
              "25-element Vector{Float64}:\n",
              "  94.28571428571428\n",
              "  91.42857142857143\n",
              "  74.28571428571429\n",
              " 100.0\n",
              "  82.85714285714286\n",
              "  80.0\n",
              "  28.57142857142857\n",
              "  54.285714285714285\n",
              "  40.0\n",
              "  68.57142857142857\n",
              "  34.285714285714285\n",
              "   8.571428571428571\n",
              " 100.0\n",
              "  71.42857142857143\n",
              "  28.57142857142857\n",
              "  22.857142857142858\n",
              "  88.57142857142857\n",
              "  77.14285714285715\n",
              "  85.71428571428571\n",
              "  42.857142857142854\n",
              "  62.857142857142854\n",
              "  60.0\n",
              "  45.714285714285715\n",
              "  14.285714285714285\n",
              "  57.14285714285714"
            ]
          },
          "execution_count": 66,
          "metadata": {},
          "output_type": "execute_result"
        }
      ],
      "source": [
        "bowl_name = df_filtered_bowl.Player_Name\n",
        "bowl_nation = df_filtered_bowl.Player_Nation\n",
        "bowl_rank = df_filtered_bowl.Percentile_Rank\n",
        "\n",
        "# Convert Julia arrays to lists\n",
        "bowl_name = convert(Vector{String}, bowl_name)\n",
        "bowl_nation = convert(Vector{String}, bowl_nation)\n",
        "bowl_rank = convert(Vector{Float64}, bowl_rank)"
      ]
    },
    {
      "cell_type": "code",
      "execution_count": null,
      "id": "21dd08cb",
      "metadata": {
        "tags": [],
        "id": "21dd08cb"
      },
      "outputs": [],
      "source": [
        "rank_bat = String[]\n",
        "rank_nation = String[]\n",
        "rank_percentile = Float64[]\n",
        "\n",
        "for i in 1:length(bat_name)\n",
        "  if bat_nation[i] in strong_bat\n",
        "      push!(rank_bat, bat_name[i])\n",
        "      push!(rank_nation, bat_nation[i])\n",
        "      push!(rank_percentile, bat_rank[i] * 1.1)\n",
        "  else\n",
        "      push!(rank_bat, bat_name[i])\n",
        "      push!(rank_nation, bat_nation[i])\n",
        "      push!(rank_percentile, bat_rank[i])\n",
        "  end\n",
        "end"
      ]
    },
    {
      "cell_type": "code",
      "execution_count": null,
      "id": "045d7b84",
      "metadata": {
        "tags": [],
        "id": "045d7b84",
        "outputId": "c6b7171c-d565-44ad-9c8d-681d88229bab"
      },
      "outputs": [
        {
          "name": "stdout",
          "output_type": "stream",
          "text": [
            "Probable top batsmen of the world cup\n",
            "Shubman Gill -------- India --- 107.70833333333333\n",
            "Rassie van der Dussen -------- South Africa --- 105.41666666666669\n",
            "David Warner -------- Australia --- 100.83333333333333\n",
            "Babar Azam -------- Pakistan --- 100.0\n",
            "Quinton de Kock -------- South Africa --- 96.25000000000001\n",
            "Heinrich Klaasen -------- South Africa --- 93.95833333333333\n",
            "Virat Kohli -------- India --- 91.66666666666669\n",
            "Imam-ul-Haq -------- Pakistan --- 89.58333333333334\n",
            "Rohit Sharma -------- India --- 89.37500000000001\n",
            "Steve Smith -------- Australia --- 84.79166666666669\n",
            "Temba Bavuma -------- South Africa --- 82.5\n",
            "Dawid Malan -------- England --- 80.20833333333333\n",
            "Fakhar Zaman -------- Pakistan --- 79.16666666666666\n",
            "David Miller -------- South Africa --- 77.91666666666669\n",
            "Jos Buttler -------- England --- 75.625\n",
            "Jason Roy -------- England --- 71.04166666666669\n",
            "Ibrahim Zadran -------- Afghanistan --- 66.66666666666666\n",
            "Jonny Bairstow -------- England --- 64.16666666666667\n",
            "Travis Head -------- Australia --- 61.87500000000001\n",
            "Shreyas Iyer -------- India --- 61.87500000000001\n",
            "Mushfiqur Rahim -------- Bangladesh --- 60.416666666666664\n",
            "Ishan Kishan -------- India --- 57.29166666666667\n",
            "Marnus Labuschagne -------- Australia --- 50.416666666666664\n",
            "Kane Williamson -------- New Zealand --- 50.0\n",
            "Pathum Nissanka -------- Sri Lanka --- 50.0\n",
            "Aiden Markram -------- South Africa --- 45.83333333333334\n",
            "Lokesh Rahul -------- India --- 43.541666666666664\n",
            "Joe Root -------- England --- 41.25\n",
            "Shakib Al Hasan -------- Bangladesh --- 37.5\n",
            "Tom Latham -------- New Zealand --- 37.5\n",
            "Alex Carey -------- Australia --- 34.375\n",
            "Rahmanullah Gurbaz -------- Afghanistan --- 29.166666666666668\n",
            "Ben Stokes -------- England --- 27.500000000000004\n",
            "Scott Edwards -------- Netherlands --- 27.083333333333332\n",
            "Rahmat Shah -------- Afghanistan --- 22.916666666666664\n",
            "Tamim Iqbal -------- Bangladesh --- 20.833333333333336\n",
            "Glenn Maxwell -------- Australia --- 18.333333333333332\n",
            "Daryl Mitchell -------- New Zealand --- 14.583333333333334\n",
            "Mohammad Rizwan -------- Pakistan --- 12.5\n",
            "Kusal Mendis -------- Sri Lanka --- 10.416666666666668\n",
            "Mitchell Marsh -------- Australia --- 9.166666666666666\n",
            "Litton Das -------- Bangladesh --- 8.333333333333332\n",
            "Hardik Pandya -------- India --- 4.583333333333333\n"
          ]
        }
      ],
      "source": [
        "function top_bat()\n",
        "    println(\"Probable top batsmen of the world cup\")\n",
        "\n",
        "    # Create a vector of indices sorted by rank_percentile in descending order\n",
        "    sorted_indices = sort(1:length(rank_percentile), rev=true, by=x -> rank_percentile[x])\n",
        "\n",
        "    for i in sorted_indices\n",
        "        println(rank_bat[i], \" -------- \", rank_nation[i], \" --- \", rank_percentile[i])\n",
        "    end\n",
        "end\n",
        "\n",
        "\n",
        "top_bat()\n"
      ]
    },
    {
      "cell_type": "code",
      "execution_count": null,
      "id": "b3eb852f",
      "metadata": {
        "tags": [],
        "id": "b3eb852f",
        "outputId": "ab3a873a-6d0a-4a2d-9773-477c877a3f36"
      },
      "outputs": [
        {
          "data": {
            "text/html": [
              "<div><div style = \"float: left;\"><span>43×3 DataFrame</span></div><div style = \"float: right;\"><span style = \"font-style: italic;\">18 rows omitted</span></div><div style = \"clear: both;\"></div></div><div class = \"data-frame\" style = \"overflow-x: scroll;\"><table class = \"data-frame\" style = \"margin-bottom: 6px;\"><thead><tr class = \"header\"><th class = \"rowNumber\" style = \"font-weight: bold; text-align: right;\">Row</th><th style = \"text-align: left;\">Name</th><th style = \"text-align: left;\">Bowler_Nation</th><th style = \"text-align: left;\">Score</th></tr><tr class = \"subheader headerLastRow\"><th class = \"rowNumber\" style = \"font-weight: bold; text-align: right;\"></th><th title = \"String\" style = \"text-align: left;\">String</th><th title = \"String\" style = \"text-align: left;\">String</th><th title = \"Float64\" style = \"text-align: left;\">Float64</th></tr></thead><tbody><tr><td class = \"rowNumber\" style = \"font-weight: bold; text-align: right;\">1</td><td style = \"text-align: left;\">Ibrahim Zadran</td><td style = \"text-align: left;\">Afghanistan</td><td style = \"text-align: right;\">66.6667</td></tr><tr><td class = \"rowNumber\" style = \"font-weight: bold; text-align: right;\">2</td><td style = \"text-align: left;\">Rahmanullah Gurbaz</td><td style = \"text-align: left;\">Afghanistan</td><td style = \"text-align: right;\">29.1667</td></tr><tr><td class = \"rowNumber\" style = \"font-weight: bold; text-align: right;\">3</td><td style = \"text-align: left;\">Rahmat Shah</td><td style = \"text-align: left;\">Afghanistan</td><td style = \"text-align: right;\">22.9167</td></tr><tr><td class = \"rowNumber\" style = \"font-weight: bold; text-align: right;\">4</td><td style = \"text-align: left;\">David Warner</td><td style = \"text-align: left;\">Australia</td><td style = \"text-align: right;\">100.833</td></tr><tr><td class = \"rowNumber\" style = \"font-weight: bold; text-align: right;\">5</td><td style = \"text-align: left;\">Steve Smith</td><td style = \"text-align: left;\">Australia</td><td style = \"text-align: right;\">84.7917</td></tr><tr><td class = \"rowNumber\" style = \"font-weight: bold; text-align: right;\">6</td><td style = \"text-align: left;\">Travis Head</td><td style = \"text-align: left;\">Australia</td><td style = \"text-align: right;\">61.875</td></tr><tr><td class = \"rowNumber\" style = \"font-weight: bold; text-align: right;\">7</td><td style = \"text-align: left;\">Marnus Labuschagne</td><td style = \"text-align: left;\">Australia</td><td style = \"text-align: right;\">50.4167</td></tr><tr><td class = \"rowNumber\" style = \"font-weight: bold; text-align: right;\">8</td><td style = \"text-align: left;\">Alex Carey</td><td style = \"text-align: left;\">Australia</td><td style = \"text-align: right;\">34.375</td></tr><tr><td class = \"rowNumber\" style = \"font-weight: bold; text-align: right;\">9</td><td style = \"text-align: left;\">Glenn Maxwell</td><td style = \"text-align: left;\">Australia</td><td style = \"text-align: right;\">18.3333</td></tr><tr><td class = \"rowNumber\" style = \"font-weight: bold; text-align: right;\">10</td><td style = \"text-align: left;\">Mitchell Marsh</td><td style = \"text-align: left;\">Australia</td><td style = \"text-align: right;\">9.16667</td></tr><tr><td class = \"rowNumber\" style = \"font-weight: bold; text-align: right;\">11</td><td style = \"text-align: left;\">Mushfiqur Rahim</td><td style = \"text-align: left;\">Bangladesh</td><td style = \"text-align: right;\">60.4167</td></tr><tr><td class = \"rowNumber\" style = \"font-weight: bold; text-align: right;\">12</td><td style = \"text-align: left;\">Shakib Al Hasan</td><td style = \"text-align: left;\">Bangladesh</td><td style = \"text-align: right;\">37.5</td></tr><tr><td class = \"rowNumber\" style = \"font-weight: bold; text-align: right;\">13</td><td style = \"text-align: left;\">Tamim Iqbal</td><td style = \"text-align: left;\">Bangladesh</td><td style = \"text-align: right;\">20.8333</td></tr><tr><td style = \"text-align: right;\">&vellip;</td><td style = \"text-align: right;\">&vellip;</td><td style = \"text-align: right;\">&vellip;</td><td style = \"text-align: right;\">&vellip;</td></tr><tr><td class = \"rowNumber\" style = \"font-weight: bold; text-align: right;\">32</td><td style = \"text-align: left;\">Babar Azam</td><td style = \"text-align: left;\">Pakistan</td><td style = \"text-align: right;\">100.0</td></tr><tr><td class = \"rowNumber\" style = \"font-weight: bold; text-align: right;\">33</td><td style = \"text-align: left;\">Imam-ul-Haq</td><td style = \"text-align: left;\">Pakistan</td><td style = \"text-align: right;\">89.5833</td></tr><tr><td class = \"rowNumber\" style = \"font-weight: bold; text-align: right;\">34</td><td style = \"text-align: left;\">Fakhar Zaman</td><td style = \"text-align: left;\">Pakistan</td><td style = \"text-align: right;\">79.1667</td></tr><tr><td class = \"rowNumber\" style = \"font-weight: bold; text-align: right;\">35</td><td style = \"text-align: left;\">Mohammad Rizwan</td><td style = \"text-align: left;\">Pakistan</td><td style = \"text-align: right;\">12.5</td></tr><tr><td class = \"rowNumber\" style = \"font-weight: bold; text-align: right;\">36</td><td style = \"text-align: left;\">Rassie van der Dussen</td><td style = \"text-align: left;\">South Africa</td><td style = \"text-align: right;\">105.417</td></tr><tr><td class = \"rowNumber\" style = \"font-weight: bold; text-align: right;\">37</td><td style = \"text-align: left;\">Quinton de Kock</td><td style = \"text-align: left;\">South Africa</td><td style = \"text-align: right;\">96.25</td></tr><tr><td class = \"rowNumber\" style = \"font-weight: bold; text-align: right;\">38</td><td style = \"text-align: left;\">Heinrich Klaasen</td><td style = \"text-align: left;\">South Africa</td><td style = \"text-align: right;\">93.9583</td></tr><tr><td class = \"rowNumber\" style = \"font-weight: bold; text-align: right;\">39</td><td style = \"text-align: left;\">Temba Bavuma</td><td style = \"text-align: left;\">South Africa</td><td style = \"text-align: right;\">82.5</td></tr><tr><td class = \"rowNumber\" style = \"font-weight: bold; text-align: right;\">40</td><td style = \"text-align: left;\">David Miller</td><td style = \"text-align: left;\">South Africa</td><td style = \"text-align: right;\">77.9167</td></tr><tr><td class = \"rowNumber\" style = \"font-weight: bold; text-align: right;\">41</td><td style = \"text-align: left;\">Aiden Markram</td><td style = \"text-align: left;\">South Africa</td><td style = \"text-align: right;\">45.8333</td></tr><tr><td class = \"rowNumber\" style = \"font-weight: bold; text-align: right;\">42</td><td style = \"text-align: left;\">Pathum Nissanka</td><td style = \"text-align: left;\">Sri Lanka</td><td style = \"text-align: right;\">50.0</td></tr><tr><td class = \"rowNumber\" style = \"font-weight: bold; text-align: right;\">43</td><td style = \"text-align: left;\">Kusal Mendis</td><td style = \"text-align: left;\">Sri Lanka</td><td style = \"text-align: right;\">10.4167</td></tr></tbody></table></div>"
            ],
            "text/latex": [
              "\\begin{tabular}{r|ccc}\n",
              "\t& Name & Bowler\\_Nation & Score\\\\\n",
              "\t\\hline\n",
              "\t& String & String & Float64\\\\\n",
              "\t\\hline\n",
              "\t1 & Ibrahim Zadran & Afghanistan & 66.6667 \\\\\n",
              "\t2 & Rahmanullah Gurbaz & Afghanistan & 29.1667 \\\\\n",
              "\t3 & Rahmat Shah & Afghanistan & 22.9167 \\\\\n",
              "\t4 & David Warner & Australia & 100.833 \\\\\n",
              "\t5 & Steve Smith & Australia & 84.7917 \\\\\n",
              "\t6 & Travis Head & Australia & 61.875 \\\\\n",
              "\t7 & Marnus Labuschagne & Australia & 50.4167 \\\\\n",
              "\t8 & Alex Carey & Australia & 34.375 \\\\\n",
              "\t9 & Glenn Maxwell & Australia & 18.3333 \\\\\n",
              "\t10 & Mitchell Marsh & Australia & 9.16667 \\\\\n",
              "\t11 & Mushfiqur Rahim & Bangladesh & 60.4167 \\\\\n",
              "\t12 & Shakib Al Hasan & Bangladesh & 37.5 \\\\\n",
              "\t13 & Tamim Iqbal & Bangladesh & 20.8333 \\\\\n",
              "\t14 & Litton Das & Bangladesh & 8.33333 \\\\\n",
              "\t15 & Dawid Malan & England & 80.2083 \\\\\n",
              "\t16 & Jos Buttler & England & 75.625 \\\\\n",
              "\t17 & Jason Roy & England & 71.0417 \\\\\n",
              "\t18 & Jonny Bairstow & England & 64.1667 \\\\\n",
              "\t19 & Joe Root & England & 41.25 \\\\\n",
              "\t20 & Ben Stokes & England & 27.5 \\\\\n",
              "\t21 & Shubman Gill & India & 107.708 \\\\\n",
              "\t22 & Virat Kohli & India & 91.6667 \\\\\n",
              "\t23 & Rohit Sharma & India & 89.375 \\\\\n",
              "\t24 & Shreyas Iyer & India & 61.875 \\\\\n",
              "\t25 & Ishan Kishan & India & 57.2917 \\\\\n",
              "\t26 & Lokesh Rahul & India & 43.5417 \\\\\n",
              "\t27 & Hardik Pandya & India & 4.58333 \\\\\n",
              "\t28 & Scott Edwards & Netherlands & 27.0833 \\\\\n",
              "\t29 & Kane Williamson & New Zealand & 50.0 \\\\\n",
              "\t30 & Tom Latham & New Zealand & 37.5 \\\\\n",
              "\t$\\dots$ & $\\dots$ & $\\dots$ & $\\dots$ \\\\\n",
              "\\end{tabular}\n"
            ],
            "text/plain": [
              "\u001b[1m43×3 DataFrame\u001b[0m\n",
              "\u001b[1m Row \u001b[0m│\u001b[1m Name                  \u001b[0m\u001b[1m Bowler_Nation \u001b[0m\u001b[1m Score     \u001b[0m\n",
              "     │\u001b[90m String                \u001b[0m\u001b[90m String        \u001b[0m\u001b[90m Float64   \u001b[0m\n",
              "─────┼─────────────────────────────────────────────────\n",
              "   1 │ Ibrahim Zadran         Afghanistan     66.6667\n",
              "   2 │ Rahmanullah Gurbaz     Afghanistan     29.1667\n",
              "   3 │ Rahmat Shah            Afghanistan     22.9167\n",
              "   4 │ David Warner           Australia      100.833\n",
              "   5 │ Steve Smith            Australia       84.7917\n",
              "   6 │ Travis Head            Australia       61.875\n",
              "   7 │ Marnus Labuschagne     Australia       50.4167\n",
              "   8 │ Alex Carey             Australia       34.375\n",
              "   9 │ Glenn Maxwell          Australia       18.3333\n",
              "  10 │ Mitchell Marsh         Australia        9.16667\n",
              "  11 │ Mushfiqur Rahim        Bangladesh      60.4167\n",
              "  ⋮  │           ⋮                  ⋮            ⋮\n",
              "  34 │ Fakhar Zaman           Pakistan        79.1667\n",
              "  35 │ Mohammad Rizwan        Pakistan        12.5\n",
              "  36 │ Rassie van der Dussen  South Africa   105.417\n",
              "  37 │ Quinton de Kock        South Africa    96.25\n",
              "  38 │ Heinrich Klaasen       South Africa    93.9583\n",
              "  39 │ Temba Bavuma           South Africa    82.5\n",
              "  40 │ David Miller           South Africa    77.9167\n",
              "  41 │ Aiden Markram          South Africa    45.8333\n",
              "  42 │ Pathum Nissanka        Sri Lanka       50.0\n",
              "  43 │ Kusal Mendis           Sri Lanka       10.4167\n",
              "\u001b[36m                                        22 rows omitted\u001b[0m"
            ]
          },
          "execution_count": 69,
          "metadata": {},
          "output_type": "execute_result"
        }
      ],
      "source": [
        "# Create a DataFrame with the specified columns\n",
        "bat_chart = DataFrame(\n",
        "    Name = rank_bat,\n",
        "    Bowler_Nation = rank_nation,\n",
        "    Score = rank_percentile\n",
        ")"
      ]
    },
    {
      "cell_type": "code",
      "execution_count": null,
      "id": "2ffbd26c",
      "metadata": {
        "tags": [],
        "id": "2ffbd26c",
        "outputId": "f6210b26-929a-40d9-e671-cbb6b619480b"
      },
      "outputs": [
        {
          "data": {
            "text/html": [
              "<div><div style = \"float: left;\"><span>43×3 DataFrame</span></div><div style = \"float: right;\"><span style = \"font-style: italic;\">18 rows omitted</span></div><div style = \"clear: both;\"></div></div><div class = \"data-frame\" style = \"overflow-x: scroll;\"><table class = \"data-frame\" style = \"margin-bottom: 6px;\"><thead><tr class = \"header\"><th class = \"rowNumber\" style = \"font-weight: bold; text-align: right;\">Row</th><th style = \"text-align: left;\">Name</th><th style = \"text-align: left;\">Bowler_Nation</th><th style = \"text-align: left;\">Score</th></tr><tr class = \"subheader headerLastRow\"><th class = \"rowNumber\" style = \"font-weight: bold; text-align: right;\"></th><th title = \"String\" style = \"text-align: left;\">String</th><th title = \"String\" style = \"text-align: left;\">String</th><th title = \"Float64\" style = \"text-align: left;\">Float64</th></tr></thead><tbody><tr><td class = \"rowNumber\" style = \"font-weight: bold; text-align: right;\">1</td><td style = \"text-align: left;\">Shubman Gill</td><td style = \"text-align: left;\">India</td><td style = \"text-align: right;\">107.708</td></tr><tr><td class = \"rowNumber\" style = \"font-weight: bold; text-align: right;\">2</td><td style = \"text-align: left;\">Rassie van der Dussen</td><td style = \"text-align: left;\">South Africa</td><td style = \"text-align: right;\">105.417</td></tr><tr><td class = \"rowNumber\" style = \"font-weight: bold; text-align: right;\">3</td><td style = \"text-align: left;\">David Warner</td><td style = \"text-align: left;\">Australia</td><td style = \"text-align: right;\">100.833</td></tr><tr><td class = \"rowNumber\" style = \"font-weight: bold; text-align: right;\">4</td><td style = \"text-align: left;\">Babar Azam</td><td style = \"text-align: left;\">Pakistan</td><td style = \"text-align: right;\">100.0</td></tr><tr><td class = \"rowNumber\" style = \"font-weight: bold; text-align: right;\">5</td><td style = \"text-align: left;\">Quinton de Kock</td><td style = \"text-align: left;\">South Africa</td><td style = \"text-align: right;\">96.25</td></tr><tr><td class = \"rowNumber\" style = \"font-weight: bold; text-align: right;\">6</td><td style = \"text-align: left;\">Heinrich Klaasen</td><td style = \"text-align: left;\">South Africa</td><td style = \"text-align: right;\">93.9583</td></tr><tr><td class = \"rowNumber\" style = \"font-weight: bold; text-align: right;\">7</td><td style = \"text-align: left;\">Virat Kohli</td><td style = \"text-align: left;\">India</td><td style = \"text-align: right;\">91.6667</td></tr><tr><td class = \"rowNumber\" style = \"font-weight: bold; text-align: right;\">8</td><td style = \"text-align: left;\">Imam-ul-Haq</td><td style = \"text-align: left;\">Pakistan</td><td style = \"text-align: right;\">89.5833</td></tr><tr><td class = \"rowNumber\" style = \"font-weight: bold; text-align: right;\">9</td><td style = \"text-align: left;\">Rohit Sharma</td><td style = \"text-align: left;\">India</td><td style = \"text-align: right;\">89.375</td></tr><tr><td class = \"rowNumber\" style = \"font-weight: bold; text-align: right;\">10</td><td style = \"text-align: left;\">Steve Smith</td><td style = \"text-align: left;\">Australia</td><td style = \"text-align: right;\">84.7917</td></tr><tr><td class = \"rowNumber\" style = \"font-weight: bold; text-align: right;\">11</td><td style = \"text-align: left;\">Temba Bavuma</td><td style = \"text-align: left;\">South Africa</td><td style = \"text-align: right;\">82.5</td></tr><tr><td class = \"rowNumber\" style = \"font-weight: bold; text-align: right;\">12</td><td style = \"text-align: left;\">Dawid Malan</td><td style = \"text-align: left;\">England</td><td style = \"text-align: right;\">80.2083</td></tr><tr><td class = \"rowNumber\" style = \"font-weight: bold; text-align: right;\">13</td><td style = \"text-align: left;\">Fakhar Zaman</td><td style = \"text-align: left;\">Pakistan</td><td style = \"text-align: right;\">79.1667</td></tr><tr><td style = \"text-align: right;\">&vellip;</td><td style = \"text-align: right;\">&vellip;</td><td style = \"text-align: right;\">&vellip;</td><td style = \"text-align: right;\">&vellip;</td></tr><tr><td class = \"rowNumber\" style = \"font-weight: bold; text-align: right;\">32</td><td style = \"text-align: left;\">Rahmanullah Gurbaz</td><td style = \"text-align: left;\">Afghanistan</td><td style = \"text-align: right;\">29.1667</td></tr><tr><td class = \"rowNumber\" style = \"font-weight: bold; text-align: right;\">33</td><td style = \"text-align: left;\">Ben Stokes</td><td style = \"text-align: left;\">England</td><td style = \"text-align: right;\">27.5</td></tr><tr><td class = \"rowNumber\" style = \"font-weight: bold; text-align: right;\">34</td><td style = \"text-align: left;\">Scott Edwards</td><td style = \"text-align: left;\">Netherlands</td><td style = \"text-align: right;\">27.0833</td></tr><tr><td class = \"rowNumber\" style = \"font-weight: bold; text-align: right;\">35</td><td style = \"text-align: left;\">Rahmat Shah</td><td style = \"text-align: left;\">Afghanistan</td><td style = \"text-align: right;\">22.9167</td></tr><tr><td class = \"rowNumber\" style = \"font-weight: bold; text-align: right;\">36</td><td style = \"text-align: left;\">Tamim Iqbal</td><td style = \"text-align: left;\">Bangladesh</td><td style = \"text-align: right;\">20.8333</td></tr><tr><td class = \"rowNumber\" style = \"font-weight: bold; text-align: right;\">37</td><td style = \"text-align: left;\">Glenn Maxwell</td><td style = \"text-align: left;\">Australia</td><td style = \"text-align: right;\">18.3333</td></tr><tr><td class = \"rowNumber\" style = \"font-weight: bold; text-align: right;\">38</td><td style = \"text-align: left;\">Daryl Mitchell</td><td style = \"text-align: left;\">New Zealand</td><td style = \"text-align: right;\">14.5833</td></tr><tr><td class = \"rowNumber\" style = \"font-weight: bold; text-align: right;\">39</td><td style = \"text-align: left;\">Mohammad Rizwan</td><td style = \"text-align: left;\">Pakistan</td><td style = \"text-align: right;\">12.5</td></tr><tr><td class = \"rowNumber\" style = \"font-weight: bold; text-align: right;\">40</td><td style = \"text-align: left;\">Kusal Mendis</td><td style = \"text-align: left;\">Sri Lanka</td><td style = \"text-align: right;\">10.4167</td></tr><tr><td class = \"rowNumber\" style = \"font-weight: bold; text-align: right;\">41</td><td style = \"text-align: left;\">Mitchell Marsh</td><td style = \"text-align: left;\">Australia</td><td style = \"text-align: right;\">9.16667</td></tr><tr><td class = \"rowNumber\" style = \"font-weight: bold; text-align: right;\">42</td><td style = \"text-align: left;\">Litton Das</td><td style = \"text-align: left;\">Bangladesh</td><td style = \"text-align: right;\">8.33333</td></tr><tr><td class = \"rowNumber\" style = \"font-weight: bold; text-align: right;\">43</td><td style = \"text-align: left;\">Hardik Pandya</td><td style = \"text-align: left;\">India</td><td style = \"text-align: right;\">4.58333</td></tr></tbody></table></div>"
            ],
            "text/latex": [
              "\\begin{tabular}{r|ccc}\n",
              "\t& Name & Bowler\\_Nation & Score\\\\\n",
              "\t\\hline\n",
              "\t& String & String & Float64\\\\\n",
              "\t\\hline\n",
              "\t1 & Shubman Gill & India & 107.708 \\\\\n",
              "\t2 & Rassie van der Dussen & South Africa & 105.417 \\\\\n",
              "\t3 & David Warner & Australia & 100.833 \\\\\n",
              "\t4 & Babar Azam & Pakistan & 100.0 \\\\\n",
              "\t5 & Quinton de Kock & South Africa & 96.25 \\\\\n",
              "\t6 & Heinrich Klaasen & South Africa & 93.9583 \\\\\n",
              "\t7 & Virat Kohli & India & 91.6667 \\\\\n",
              "\t8 & Imam-ul-Haq & Pakistan & 89.5833 \\\\\n",
              "\t9 & Rohit Sharma & India & 89.375 \\\\\n",
              "\t10 & Steve Smith & Australia & 84.7917 \\\\\n",
              "\t11 & Temba Bavuma & South Africa & 82.5 \\\\\n",
              "\t12 & Dawid Malan & England & 80.2083 \\\\\n",
              "\t13 & Fakhar Zaman & Pakistan & 79.1667 \\\\\n",
              "\t14 & David Miller & South Africa & 77.9167 \\\\\n",
              "\t15 & Jos Buttler & England & 75.625 \\\\\n",
              "\t16 & Jason Roy & England & 71.0417 \\\\\n",
              "\t17 & Ibrahim Zadran & Afghanistan & 66.6667 \\\\\n",
              "\t18 & Jonny Bairstow & England & 64.1667 \\\\\n",
              "\t19 & Travis Head & Australia & 61.875 \\\\\n",
              "\t20 & Shreyas Iyer & India & 61.875 \\\\\n",
              "\t21 & Mushfiqur Rahim & Bangladesh & 60.4167 \\\\\n",
              "\t22 & Ishan Kishan & India & 57.2917 \\\\\n",
              "\t23 & Marnus Labuschagne & Australia & 50.4167 \\\\\n",
              "\t24 & Kane Williamson & New Zealand & 50.0 \\\\\n",
              "\t25 & Pathum Nissanka & Sri Lanka & 50.0 \\\\\n",
              "\t26 & Aiden Markram & South Africa & 45.8333 \\\\\n",
              "\t27 & Lokesh Rahul & India & 43.5417 \\\\\n",
              "\t28 & Joe Root & England & 41.25 \\\\\n",
              "\t29 & Shakib Al Hasan & Bangladesh & 37.5 \\\\\n",
              "\t30 & Tom Latham & New Zealand & 37.5 \\\\\n",
              "\t$\\dots$ & $\\dots$ & $\\dots$ & $\\dots$ \\\\\n",
              "\\end{tabular}\n"
            ],
            "text/plain": [
              "\u001b[1m43×3 DataFrame\u001b[0m\n",
              "\u001b[1m Row \u001b[0m│\u001b[1m Name                  \u001b[0m\u001b[1m Bowler_Nation \u001b[0m\u001b[1m Score     \u001b[0m\n",
              "     │\u001b[90m String                \u001b[0m\u001b[90m String        \u001b[0m\u001b[90m Float64   \u001b[0m\n",
              "─────┼─────────────────────────────────────────────────\n",
              "   1 │ Shubman Gill           India          107.708\n",
              "   2 │ Rassie van der Dussen  South Africa   105.417\n",
              "   3 │ David Warner           Australia      100.833\n",
              "   4 │ Babar Azam             Pakistan       100.0\n",
              "   5 │ Quinton de Kock        South Africa    96.25\n",
              "   6 │ Heinrich Klaasen       South Africa    93.9583\n",
              "   7 │ Virat Kohli            India           91.6667\n",
              "   8 │ Imam-ul-Haq            Pakistan        89.5833\n",
              "   9 │ Rohit Sharma           India           89.375\n",
              "  10 │ Steve Smith            Australia       84.7917\n",
              "  11 │ Temba Bavuma           South Africa    82.5\n",
              "  ⋮  │           ⋮                  ⋮            ⋮\n",
              "  34 │ Scott Edwards          Netherlands     27.0833\n",
              "  35 │ Rahmat Shah            Afghanistan     22.9167\n",
              "  36 │ Tamim Iqbal            Bangladesh      20.8333\n",
              "  37 │ Glenn Maxwell          Australia       18.3333\n",
              "  38 │ Daryl Mitchell         New Zealand     14.5833\n",
              "  39 │ Mohammad Rizwan        Pakistan        12.5\n",
              "  40 │ Kusal Mendis           Sri Lanka       10.4167\n",
              "  41 │ Mitchell Marsh         Australia        9.16667\n",
              "  42 │ Litton Das             Bangladesh       8.33333\n",
              "  43 │ Hardik Pandya          India            4.58333\n",
              "\u001b[36m                                        22 rows omitted\u001b[0m"
            ]
          },
          "execution_count": 70,
          "metadata": {},
          "output_type": "execute_result"
        }
      ],
      "source": [
        "sort!(bat_chart, :Score, rev=true)"
      ]
    },
    {
      "cell_type": "code",
      "execution_count": null,
      "id": "cf167ffa",
      "metadata": {
        "tags": [],
        "id": "cf167ffa"
      },
      "outputs": [],
      "source": [
        "r1, r2, r3 = String[], String[], Float64[]\n",
        "for i in 1:length(bowl_name)\n",
        "  push!(r1, bowl_name[i])\n",
        "  push!(r2, bowl_nation[i])\n",
        "\n",
        "  # If the bowler's country is in the strong bowl list, multiply his rank by 1.1.\n",
        "  if bowl_nation[i] in strong_bowl\n",
        "      push!(r3, bowl_rank[i] * 1.1)\n",
        "  else\n",
        "      push!(r3, bowl_rank[i])\n",
        "  end\n",
        "end"
      ]
    },
    {
      "cell_type": "code",
      "execution_count": null,
      "id": "2d5d3a2d",
      "metadata": {
        "tags": [],
        "id": "2d5d3a2d",
        "outputId": "977c4c3c-eef4-4eef-9b22-26099ca6e61f"
      },
      "outputs": [
        {
          "data": {
            "text/html": [
              "<div><div style = \"float: left;\"><span>25×3 DataFrame</span></div><div style = \"clear: both;\"></div></div><div class = \"data-frame\" style = \"overflow-x: scroll;\"><table class = \"data-frame\" style = \"margin-bottom: 6px;\"><thead><tr class = \"header\"><th class = \"rowNumber\" style = \"font-weight: bold; text-align: right;\">Row</th><th style = \"text-align: left;\">Name</th><th style = \"text-align: left;\">Bowler_Nation</th><th style = \"text-align: left;\">Score</th></tr><tr class = \"subheader headerLastRow\"><th class = \"rowNumber\" style = \"font-weight: bold; text-align: right;\"></th><th title = \"String\" style = \"text-align: left;\">String</th><th title = \"String\" style = \"text-align: left;\">String</th><th title = \"Float64\" style = \"text-align: left;\">Float64</th></tr></thead><tbody><tr><td class = \"rowNumber\" style = \"font-weight: bold; text-align: right;\">1</td><td style = \"text-align: left;\">Mujeeb Ur Rahman</td><td style = \"text-align: left;\">Afghanistan</td><td style = \"text-align: right;\">103.714</td></tr><tr><td class = \"rowNumber\" style = \"font-weight: bold; text-align: right;\">2</td><td style = \"text-align: left;\">Rashid Khan</td><td style = \"text-align: left;\">Afghanistan</td><td style = \"text-align: right;\">100.571</td></tr><tr><td class = \"rowNumber\" style = \"font-weight: bold; text-align: right;\">3</td><td style = \"text-align: left;\">Mohammad Nabi</td><td style = \"text-align: left;\">Afghanistan</td><td style = \"text-align: right;\">81.7143</td></tr><tr><td class = \"rowNumber\" style = \"font-weight: bold; text-align: right;\">4</td><td style = \"text-align: left;\">Josh Hazlewood</td><td style = \"text-align: left;\">Australia</td><td style = \"text-align: right;\">110.0</td></tr><tr><td class = \"rowNumber\" style = \"font-weight: bold; text-align: right;\">5</td><td style = \"text-align: left;\">Adam Zampa</td><td style = \"text-align: left;\">Australia</td><td style = \"text-align: right;\">91.1429</td></tr><tr><td class = \"rowNumber\" style = \"font-weight: bold; text-align: right;\">6</td><td style = \"text-align: left;\">Mitchell Starc</td><td style = \"text-align: left;\">Australia</td><td style = \"text-align: right;\">88.0</td></tr><tr><td class = \"rowNumber\" style = \"font-weight: bold; text-align: right;\">7</td><td style = \"text-align: left;\">Pat Cummins</td><td style = \"text-align: left;\">Australia</td><td style = \"text-align: right;\">31.4286</td></tr><tr><td class = \"rowNumber\" style = \"font-weight: bold; text-align: right;\">8</td><td style = \"text-align: left;\">Shakib Al Hasan</td><td style = \"text-align: left;\">Bangladesh</td><td style = \"text-align: right;\">54.2857</td></tr><tr><td class = \"rowNumber\" style = \"font-weight: bold; text-align: right;\">9</td><td style = \"text-align: left;\">Mustafizur Rahman</td><td style = \"text-align: left;\">Bangladesh</td><td style = \"text-align: right;\">40.0</td></tr><tr><td class = \"rowNumber\" style = \"font-weight: bold; text-align: right;\">10</td><td style = \"text-align: left;\">Chris Woakes</td><td style = \"text-align: left;\">England</td><td style = \"text-align: right;\">68.5714</td></tr><tr><td class = \"rowNumber\" style = \"font-weight: bold; text-align: right;\">11</td><td style = \"text-align: left;\">Jofra Archer</td><td style = \"text-align: left;\">England</td><td style = \"text-align: right;\">34.2857</td></tr><tr><td class = \"rowNumber\" style = \"font-weight: bold; text-align: right;\">12</td><td style = \"text-align: left;\">David Willey</td><td style = \"text-align: left;\">England</td><td style = \"text-align: right;\">8.57143</td></tr><tr><td class = \"rowNumber\" style = \"font-weight: bold; text-align: right;\">13</td><td style = \"text-align: left;\">Mohammed Siraj</td><td style = \"text-align: left;\">India</td><td style = \"text-align: right;\">110.0</td></tr><tr><td class = \"rowNumber\" style = \"font-weight: bold; text-align: right;\">14</td><td style = \"text-align: left;\">Kuldeep Yadav</td><td style = \"text-align: left;\">India</td><td style = \"text-align: right;\">78.5714</td></tr><tr><td class = \"rowNumber\" style = \"font-weight: bold; text-align: right;\">15</td><td style = \"text-align: left;\">Mohammad Shami</td><td style = \"text-align: left;\">India</td><td style = \"text-align: right;\">31.4286</td></tr><tr><td class = \"rowNumber\" style = \"font-weight: bold; text-align: right;\">16</td><td style = \"text-align: left;\">Jasprit Bumrah</td><td style = \"text-align: left;\">India</td><td style = \"text-align: right;\">25.1429</td></tr><tr><td class = \"rowNumber\" style = \"font-weight: bold; text-align: right;\">17</td><td style = \"text-align: left;\">Trent Boult</td><td style = \"text-align: left;\">New Zealand</td><td style = \"text-align: right;\">97.4286</td></tr><tr><td class = \"rowNumber\" style = \"font-weight: bold; text-align: right;\">18</td><td style = \"text-align: left;\">Matt Henry</td><td style = \"text-align: left;\">New Zealand</td><td style = \"text-align: right;\">84.8571</td></tr><tr><td class = \"rowNumber\" style = \"font-weight: bold; text-align: right;\">19</td><td style = \"text-align: left;\">Shaheen Afridi</td><td style = \"text-align: left;\">Pakistan</td><td style = \"text-align: right;\">85.7143</td></tr><tr><td class = \"rowNumber\" style = \"font-weight: bold; text-align: right;\">20</td><td style = \"text-align: left;\">Haris Rauf</td><td style = \"text-align: left;\">Pakistan</td><td style = \"text-align: right;\">42.8571</td></tr><tr><td class = \"rowNumber\" style = \"font-weight: bold; text-align: right;\">21</td><td style = \"text-align: left;\">Keshav Maharaj</td><td style = \"text-align: left;\">South Africa</td><td style = \"text-align: right;\">62.8571</td></tr><tr><td class = \"rowNumber\" style = \"font-weight: bold; text-align: right;\">22</td><td style = \"text-align: left;\">Kagiso Rabada</td><td style = \"text-align: left;\">South Africa</td><td style = \"text-align: right;\">60.0</td></tr><tr><td class = \"rowNumber\" style = \"font-weight: bold; text-align: right;\">23</td><td style = \"text-align: left;\">Lungi Ngidi</td><td style = \"text-align: left;\">South Africa</td><td style = \"text-align: right;\">45.7143</td></tr><tr><td class = \"rowNumber\" style = \"font-weight: bold; text-align: right;\">24</td><td style = \"text-align: left;\">Tabraiz Shamsi</td><td style = \"text-align: left;\">South Africa</td><td style = \"text-align: right;\">14.2857</td></tr><tr><td class = \"rowNumber\" style = \"font-weight: bold; text-align: right;\">25</td><td style = \"text-align: left;\">Maheesh Theekshana</td><td style = \"text-align: left;\">Sri Lanka</td><td style = \"text-align: right;\">57.1429</td></tr></tbody></table></div>"
            ],
            "text/latex": [
              "\\begin{tabular}{r|ccc}\n",
              "\t& Name & Bowler\\_Nation & Score\\\\\n",
              "\t\\hline\n",
              "\t& String & String & Float64\\\\\n",
              "\t\\hline\n",
              "\t1 & Mujeeb Ur Rahman & Afghanistan & 103.714 \\\\\n",
              "\t2 & Rashid Khan & Afghanistan & 100.571 \\\\\n",
              "\t3 & Mohammad Nabi & Afghanistan & 81.7143 \\\\\n",
              "\t4 & Josh Hazlewood & Australia & 110.0 \\\\\n",
              "\t5 & Adam Zampa & Australia & 91.1429 \\\\\n",
              "\t6 & Mitchell Starc & Australia & 88.0 \\\\\n",
              "\t7 & Pat Cummins & Australia & 31.4286 \\\\\n",
              "\t8 & Shakib Al Hasan & Bangladesh & 54.2857 \\\\\n",
              "\t9 & Mustafizur Rahman & Bangladesh & 40.0 \\\\\n",
              "\t10 & Chris Woakes & England & 68.5714 \\\\\n",
              "\t11 & Jofra Archer & England & 34.2857 \\\\\n",
              "\t12 & David Willey & England & 8.57143 \\\\\n",
              "\t13 & Mohammed Siraj & India & 110.0 \\\\\n",
              "\t14 & Kuldeep Yadav & India & 78.5714 \\\\\n",
              "\t15 & Mohammad Shami & India & 31.4286 \\\\\n",
              "\t16 & Jasprit Bumrah & India & 25.1429 \\\\\n",
              "\t17 & Trent Boult & New Zealand & 97.4286 \\\\\n",
              "\t18 & Matt Henry & New Zealand & 84.8571 \\\\\n",
              "\t19 & Shaheen Afridi & Pakistan & 85.7143 \\\\\n",
              "\t20 & Haris Rauf & Pakistan & 42.8571 \\\\\n",
              "\t21 & Keshav Maharaj & South Africa & 62.8571 \\\\\n",
              "\t22 & Kagiso Rabada & South Africa & 60.0 \\\\\n",
              "\t23 & Lungi Ngidi & South Africa & 45.7143 \\\\\n",
              "\t24 & Tabraiz Shamsi & South Africa & 14.2857 \\\\\n",
              "\t25 & Maheesh Theekshana & Sri Lanka & 57.1429 \\\\\n",
              "\\end{tabular}\n"
            ],
            "text/plain": [
              "\u001b[1m25×3 DataFrame\u001b[0m\n",
              "\u001b[1m Row \u001b[0m│\u001b[1m Name               \u001b[0m\u001b[1m Bowler_Nation \u001b[0m\u001b[1m Score     \u001b[0m\n",
              "     │\u001b[90m String             \u001b[0m\u001b[90m String        \u001b[0m\u001b[90m Float64   \u001b[0m\n",
              "─────┼──────────────────────────────────────────────\n",
              "   1 │ Mujeeb Ur Rahman    Afghanistan    103.714\n",
              "   2 │ Rashid Khan         Afghanistan    100.571\n",
              "   3 │ Mohammad Nabi       Afghanistan     81.7143\n",
              "   4 │ Josh Hazlewood      Australia      110.0\n",
              "   5 │ Adam Zampa          Australia       91.1429\n",
              "   6 │ Mitchell Starc      Australia       88.0\n",
              "   7 │ Pat Cummins         Australia       31.4286\n",
              "   8 │ Shakib Al Hasan     Bangladesh      54.2857\n",
              "   9 │ Mustafizur Rahman   Bangladesh      40.0\n",
              "  10 │ Chris Woakes        England         68.5714\n",
              "  11 │ Jofra Archer        England         34.2857\n",
              "  ⋮  │         ⋮                 ⋮            ⋮\n",
              "  16 │ Jasprit Bumrah      India           25.1429\n",
              "  17 │ Trent Boult         New Zealand     97.4286\n",
              "  18 │ Matt Henry          New Zealand     84.8571\n",
              "  19 │ Shaheen Afridi      Pakistan        85.7143\n",
              "  20 │ Haris Rauf          Pakistan        42.8571\n",
              "  21 │ Keshav Maharaj      South Africa    62.8571\n",
              "  22 │ Kagiso Rabada       South Africa    60.0\n",
              "  23 │ Lungi Ngidi         South Africa    45.7143\n",
              "  24 │ Tabraiz Shamsi      South Africa    14.2857\n",
              "  25 │ Maheesh Theekshana  Sri Lanka       57.1429\n",
              "\u001b[36m                                      4 rows omitted\u001b[0m"
            ]
          },
          "execution_count": 72,
          "metadata": {},
          "output_type": "execute_result"
        }
      ],
      "source": [
        "# Create a DataFrame with the specified columns\n",
        "bowl_chart = DataFrame(\n",
        "    Name = r1,\n",
        "    Bowler_Nation = r2,\n",
        "    Score = r3\n",
        ")"
      ]
    },
    {
      "cell_type": "code",
      "execution_count": null,
      "id": "8f33f103",
      "metadata": {
        "tags": [],
        "id": "8f33f103",
        "outputId": "ddf7edd2-c8f4-4286-a7ff-89c55437625d"
      },
      "outputs": [
        {
          "data": {
            "text/plain": [
              "top_bowlers (generic function with 1 method)"
            ]
          },
          "execution_count": 73,
          "metadata": {},
          "output_type": "execute_result"
        }
      ],
      "source": [
        "function top_bowlers()\n",
        "    println(\"Probable top bowlers of the World Cup\")\n",
        "\n",
        "    for i in 1:size(bowl_chart, 1)\n",
        "        println(bowl_chart[i, \"Name\"], \" -------- \", bowl_chart[i, \"Bowler_Nation\"], \" --- \", bowl_chart[i, \"Score\"])\n",
        "    end\n",
        "end\n"
      ]
    },
    {
      "cell_type": "code",
      "execution_count": null,
      "id": "dbb0c07d",
      "metadata": {
        "tags": [],
        "id": "dbb0c07d",
        "outputId": "a5754417-5ae5-44dd-c286-779d09a5f2ba"
      },
      "outputs": [
        {
          "data": {
            "text/html": [
              "<div><div style = \"float: left;\"><span>25×3 DataFrame</span></div><div style = \"clear: both;\"></div></div><div class = \"data-frame\" style = \"overflow-x: scroll;\"><table class = \"data-frame\" style = \"margin-bottom: 6px;\"><thead><tr class = \"header\"><th class = \"rowNumber\" style = \"font-weight: bold; text-align: right;\">Row</th><th style = \"text-align: left;\">Name</th><th style = \"text-align: left;\">Bowler_Nation</th><th style = \"text-align: left;\">Score</th></tr><tr class = \"subheader headerLastRow\"><th class = \"rowNumber\" style = \"font-weight: bold; text-align: right;\"></th><th title = \"String\" style = \"text-align: left;\">String</th><th title = \"String\" style = \"text-align: left;\">String</th><th title = \"Float64\" style = \"text-align: left;\">Float64</th></tr></thead><tbody><tr><td class = \"rowNumber\" style = \"font-weight: bold; text-align: right;\">1</td><td style = \"text-align: left;\">Josh Hazlewood</td><td style = \"text-align: left;\">Australia</td><td style = \"text-align: right;\">110.0</td></tr><tr><td class = \"rowNumber\" style = \"font-weight: bold; text-align: right;\">2</td><td style = \"text-align: left;\">Mohammed Siraj</td><td style = \"text-align: left;\">India</td><td style = \"text-align: right;\">110.0</td></tr><tr><td class = \"rowNumber\" style = \"font-weight: bold; text-align: right;\">3</td><td style = \"text-align: left;\">Mujeeb Ur Rahman</td><td style = \"text-align: left;\">Afghanistan</td><td style = \"text-align: right;\">103.714</td></tr><tr><td class = \"rowNumber\" style = \"font-weight: bold; text-align: right;\">4</td><td style = \"text-align: left;\">Rashid Khan</td><td style = \"text-align: left;\">Afghanistan</td><td style = \"text-align: right;\">100.571</td></tr><tr><td class = \"rowNumber\" style = \"font-weight: bold; text-align: right;\">5</td><td style = \"text-align: left;\">Trent Boult</td><td style = \"text-align: left;\">New Zealand</td><td style = \"text-align: right;\">97.4286</td></tr><tr><td class = \"rowNumber\" style = \"font-weight: bold; text-align: right;\">6</td><td style = \"text-align: left;\">Adam Zampa</td><td style = \"text-align: left;\">Australia</td><td style = \"text-align: right;\">91.1429</td></tr><tr><td class = \"rowNumber\" style = \"font-weight: bold; text-align: right;\">7</td><td style = \"text-align: left;\">Mitchell Starc</td><td style = \"text-align: left;\">Australia</td><td style = \"text-align: right;\">88.0</td></tr><tr><td class = \"rowNumber\" style = \"font-weight: bold; text-align: right;\">8</td><td style = \"text-align: left;\">Shaheen Afridi</td><td style = \"text-align: left;\">Pakistan</td><td style = \"text-align: right;\">85.7143</td></tr><tr><td class = \"rowNumber\" style = \"font-weight: bold; text-align: right;\">9</td><td style = \"text-align: left;\">Matt Henry</td><td style = \"text-align: left;\">New Zealand</td><td style = \"text-align: right;\">84.8571</td></tr><tr><td class = \"rowNumber\" style = \"font-weight: bold; text-align: right;\">10</td><td style = \"text-align: left;\">Mohammad Nabi</td><td style = \"text-align: left;\">Afghanistan</td><td style = \"text-align: right;\">81.7143</td></tr><tr><td class = \"rowNumber\" style = \"font-weight: bold; text-align: right;\">11</td><td style = \"text-align: left;\">Kuldeep Yadav</td><td style = \"text-align: left;\">India</td><td style = \"text-align: right;\">78.5714</td></tr><tr><td class = \"rowNumber\" style = \"font-weight: bold; text-align: right;\">12</td><td style = \"text-align: left;\">Chris Woakes</td><td style = \"text-align: left;\">England</td><td style = \"text-align: right;\">68.5714</td></tr><tr><td class = \"rowNumber\" style = \"font-weight: bold; text-align: right;\">13</td><td style = \"text-align: left;\">Keshav Maharaj</td><td style = \"text-align: left;\">South Africa</td><td style = \"text-align: right;\">62.8571</td></tr><tr><td class = \"rowNumber\" style = \"font-weight: bold; text-align: right;\">14</td><td style = \"text-align: left;\">Kagiso Rabada</td><td style = \"text-align: left;\">South Africa</td><td style = \"text-align: right;\">60.0</td></tr><tr><td class = \"rowNumber\" style = \"font-weight: bold; text-align: right;\">15</td><td style = \"text-align: left;\">Maheesh Theekshana</td><td style = \"text-align: left;\">Sri Lanka</td><td style = \"text-align: right;\">57.1429</td></tr><tr><td class = \"rowNumber\" style = \"font-weight: bold; text-align: right;\">16</td><td style = \"text-align: left;\">Shakib Al Hasan</td><td style = \"text-align: left;\">Bangladesh</td><td style = \"text-align: right;\">54.2857</td></tr><tr><td class = \"rowNumber\" style = \"font-weight: bold; text-align: right;\">17</td><td style = \"text-align: left;\">Lungi Ngidi</td><td style = \"text-align: left;\">South Africa</td><td style = \"text-align: right;\">45.7143</td></tr><tr><td class = \"rowNumber\" style = \"font-weight: bold; text-align: right;\">18</td><td style = \"text-align: left;\">Haris Rauf</td><td style = \"text-align: left;\">Pakistan</td><td style = \"text-align: right;\">42.8571</td></tr><tr><td class = \"rowNumber\" style = \"font-weight: bold; text-align: right;\">19</td><td style = \"text-align: left;\">Mustafizur Rahman</td><td style = \"text-align: left;\">Bangladesh</td><td style = \"text-align: right;\">40.0</td></tr><tr><td class = \"rowNumber\" style = \"font-weight: bold; text-align: right;\">20</td><td style = \"text-align: left;\">Jofra Archer</td><td style = \"text-align: left;\">England</td><td style = \"text-align: right;\">34.2857</td></tr><tr><td class = \"rowNumber\" style = \"font-weight: bold; text-align: right;\">21</td><td style = \"text-align: left;\">Pat Cummins</td><td style = \"text-align: left;\">Australia</td><td style = \"text-align: right;\">31.4286</td></tr><tr><td class = \"rowNumber\" style = \"font-weight: bold; text-align: right;\">22</td><td style = \"text-align: left;\">Mohammad Shami</td><td style = \"text-align: left;\">India</td><td style = \"text-align: right;\">31.4286</td></tr><tr><td class = \"rowNumber\" style = \"font-weight: bold; text-align: right;\">23</td><td style = \"text-align: left;\">Jasprit Bumrah</td><td style = \"text-align: left;\">India</td><td style = \"text-align: right;\">25.1429</td></tr><tr><td class = \"rowNumber\" style = \"font-weight: bold; text-align: right;\">24</td><td style = \"text-align: left;\">Tabraiz Shamsi</td><td style = \"text-align: left;\">South Africa</td><td style = \"text-align: right;\">14.2857</td></tr><tr><td class = \"rowNumber\" style = \"font-weight: bold; text-align: right;\">25</td><td style = \"text-align: left;\">David Willey</td><td style = \"text-align: left;\">England</td><td style = \"text-align: right;\">8.57143</td></tr></tbody></table></div>"
            ],
            "text/latex": [
              "\\begin{tabular}{r|ccc}\n",
              "\t& Name & Bowler\\_Nation & Score\\\\\n",
              "\t\\hline\n",
              "\t& String & String & Float64\\\\\n",
              "\t\\hline\n",
              "\t1 & Josh Hazlewood & Australia & 110.0 \\\\\n",
              "\t2 & Mohammed Siraj & India & 110.0 \\\\\n",
              "\t3 & Mujeeb Ur Rahman & Afghanistan & 103.714 \\\\\n",
              "\t4 & Rashid Khan & Afghanistan & 100.571 \\\\\n",
              "\t5 & Trent Boult & New Zealand & 97.4286 \\\\\n",
              "\t6 & Adam Zampa & Australia & 91.1429 \\\\\n",
              "\t7 & Mitchell Starc & Australia & 88.0 \\\\\n",
              "\t8 & Shaheen Afridi & Pakistan & 85.7143 \\\\\n",
              "\t9 & Matt Henry & New Zealand & 84.8571 \\\\\n",
              "\t10 & Mohammad Nabi & Afghanistan & 81.7143 \\\\\n",
              "\t11 & Kuldeep Yadav & India & 78.5714 \\\\\n",
              "\t12 & Chris Woakes & England & 68.5714 \\\\\n",
              "\t13 & Keshav Maharaj & South Africa & 62.8571 \\\\\n",
              "\t14 & Kagiso Rabada & South Africa & 60.0 \\\\\n",
              "\t15 & Maheesh Theekshana & Sri Lanka & 57.1429 \\\\\n",
              "\t16 & Shakib Al Hasan & Bangladesh & 54.2857 \\\\\n",
              "\t17 & Lungi Ngidi & South Africa & 45.7143 \\\\\n",
              "\t18 & Haris Rauf & Pakistan & 42.8571 \\\\\n",
              "\t19 & Mustafizur Rahman & Bangladesh & 40.0 \\\\\n",
              "\t20 & Jofra Archer & England & 34.2857 \\\\\n",
              "\t21 & Pat Cummins & Australia & 31.4286 \\\\\n",
              "\t22 & Mohammad Shami & India & 31.4286 \\\\\n",
              "\t23 & Jasprit Bumrah & India & 25.1429 \\\\\n",
              "\t24 & Tabraiz Shamsi & South Africa & 14.2857 \\\\\n",
              "\t25 & David Willey & England & 8.57143 \\\\\n",
              "\\end{tabular}\n"
            ],
            "text/plain": [
              "\u001b[1m25×3 DataFrame\u001b[0m\n",
              "\u001b[1m Row \u001b[0m│\u001b[1m Name               \u001b[0m\u001b[1m Bowler_Nation \u001b[0m\u001b[1m Score     \u001b[0m\n",
              "     │\u001b[90m String             \u001b[0m\u001b[90m String        \u001b[0m\u001b[90m Float64   \u001b[0m\n",
              "─────┼──────────────────────────────────────────────\n",
              "   1 │ Josh Hazlewood      Australia      110.0\n",
              "   2 │ Mohammed Siraj      India          110.0\n",
              "   3 │ Mujeeb Ur Rahman    Afghanistan    103.714\n",
              "   4 │ Rashid Khan         Afghanistan    100.571\n",
              "   5 │ Trent Boult         New Zealand     97.4286\n",
              "   6 │ Adam Zampa          Australia       91.1429\n",
              "   7 │ Mitchell Starc      Australia       88.0\n",
              "   8 │ Shaheen Afridi      Pakistan        85.7143\n",
              "   9 │ Matt Henry          New Zealand     84.8571\n",
              "  10 │ Mohammad Nabi       Afghanistan     81.7143\n",
              "  11 │ Kuldeep Yadav       India           78.5714\n",
              "  ⋮  │         ⋮                 ⋮            ⋮\n",
              "  16 │ Shakib Al Hasan     Bangladesh      54.2857\n",
              "  17 │ Lungi Ngidi         South Africa    45.7143\n",
              "  18 │ Haris Rauf          Pakistan        42.8571\n",
              "  19 │ Mustafizur Rahman   Bangladesh      40.0\n",
              "  20 │ Jofra Archer        England         34.2857\n",
              "  21 │ Pat Cummins         Australia       31.4286\n",
              "  22 │ Mohammad Shami      India           31.4286\n",
              "  23 │ Jasprit Bumrah      India           25.1429\n",
              "  24 │ Tabraiz Shamsi      South Africa    14.2857\n",
              "  25 │ David Willey        England          8.57143\n",
              "\u001b[36m                                      4 rows omitted\u001b[0m"
            ]
          },
          "execution_count": 74,
          "metadata": {},
          "output_type": "execute_result"
        }
      ],
      "source": [
        "bowl_chart = sort(bowl_chart, :Score, rev=true)"
      ]
    },
    {
      "cell_type": "code",
      "execution_count": null,
      "id": "86f70592",
      "metadata": {
        "tags": [],
        "id": "86f70592",
        "outputId": "f1ea7a7e-8b01-4c4f-b415-2d04e4fc28b6"
      },
      "outputs": [
        {
          "data": {
            "text/plain": [
              "15-element Vector{String}:\n",
              " \"Josh Hazlewood\"\n",
              " \"Mohammed Siraj\"\n",
              " \"Mujeeb Ur Rahman\"\n",
              " \"Rashid Khan\"\n",
              " \"Trent Boult\"\n",
              " \"Adam Zampa\"\n",
              " \"Mitchell Starc\"\n",
              " \"Shaheen Afridi\"\n",
              " \"Matt Henry\"\n",
              " \"Mohammad Nabi\"\n",
              " \"Kuldeep Yadav\"\n",
              " \"Chris Woakes\"\n",
              " \"Keshav Maharaj\"\n",
              " \"Kagiso Rabada\"\n",
              " \"Maheesh Theekshana\""
            ]
          },
          "execution_count": 77,
          "metadata": {},
          "output_type": "execute_result"
        }
      ],
      "source": [
        "top_bowl = bowl_chart[!, \"Name\"][1:15]"
      ]
    },
    {
      "cell_type": "code",
      "execution_count": null,
      "id": "90eeaa63",
      "metadata": {
        "tags": [],
        "id": "90eeaa63",
        "outputId": "3521e635-df01-415d-b2da-7ff42a32c8e8"
      },
      "outputs": [
        {
          "name": "stdout",
          "output_type": "stream",
          "text": [
            "Welcome to ICC World Cup Predictor\n",
            "MENU\n",
            "1. Head to head predictions\n",
            "2. Points table\n",
            "3. Top 4 Teams\n",
            "4. Winner Probability Prediction\n",
            "5. Best Batsmen\n",
            "6. Best Bowlers\n",
            "Enter your choice: "
          ]
        },
        {
          "name": "stdin",
          "output_type": "stream",
          "text": [
            "stdin>  1\n"
          ]
        },
        {
          "name": "stdout",
          "output_type": "stream",
          "text": [
            "Match up Bangladesh vs South Africa :\n",
            "Chances to win for Team Bangladesh: 0.33233075040783033\n",
            "Chances to win for Team South Africa: 0.6676692495921697\n",
            "Match up Bangladesh vs England :\n",
            "Chances to win for Team Bangladesh: 0.3821532833878514\n",
            "Chances to win for Team England: 0.6178467166121486\n",
            "Match up Bangladesh vs India :\n",
            "Chances to win for Team Bangladesh: 0.3073115542356103\n",
            "Chances to win for Team India: 0.6926884457643897\n",
            "Match up Bangladesh vs Australia :\n",
            "Chances to win for Team Bangladesh: 0.3061684560543298\n",
            "Chances to win for Team Australia: 0.6938315439456701\n",
            "Match up Bangladesh vs Netherlands :\n",
            "Chances to win for Team Bangladesh: 0.7016467549241201\n",
            "Chances to win for Team Netherlands: 0.29835324507587985\n",
            "Match up Bangladesh vs Afghanistan :\n",
            "Chances to win for Team Bangladesh: 0.38722898722898724\n",
            "Chances to win for Team Afghanistan: 0.6127710127710128\n",
            "Match up Bangladesh vs New Zealand :\n",
            "Chances to win for Team Bangladesh: 0.39949748743718594\n",
            "Chances to win for Team New Zealand: 0.6005025125628141\n",
            "Match up Bangladesh vs Pakistan :\n",
            "Chances to win for Team Bangladesh: 0.349188494295356\n",
            "Chances to win for Team Pakistan: 0.650811505704644\n",
            "Match up Bangladesh vs Sri Lanka :\n",
            "Chances to win for Team Bangladesh: 0.5481375599091903\n",
            "Chances to win for Team Sri Lanka: 0.4518624400908096\n",
            "Match up South Africa vs England :\n",
            "Chances to win for Team South Africa: 0.5540983051707945\n",
            "Chances to win for Team England: 0.4459016948292055\n",
            "Match up South Africa vs India :\n",
            "Chances to win for Team South Africa: 0.47126767658594515\n",
            "Chances to win for Team India: 0.5287323234140549\n",
            "Match up South Africa vs Australia :\n",
            "Chances to win for Team South Africa: 0.46992845404769257\n",
            "Chances to win for Team Australia: 0.5300715459523074\n",
            "Match up South Africa vs Netherlands :\n",
            "Chances to win for Team South Africa: 0.8253198059108955\n",
            "Chances to win for Team Netherlands: 0.17468019408910454\n",
            "Match up South Africa vs Afghanistan :\n",
            "Chances to win for Team South Africa: 0.5593900824328365\n",
            "Chances to win for Team Afghanistan: 0.44060991756716356\n",
            "Match up South Africa vs New Zealand :\n",
            "Chances to win for Team South Africa: 0.5720213137665967\n",
            "Chances to win for Team New Zealand: 0.42797868623340324\n",
            "Match up South Africa vs Pakistan :\n",
            "Chances to win for Team South Africa: 0.5187547035291323\n",
            "Chances to win for Team Pakistan: 0.4812452964708678\n",
            "Match up South Africa vs Sri Lanka :\n",
            "Chances to win for Team South Africa: 0.7090574413946186\n",
            "Chances to win for Team Sri Lanka: 0.2909425586053814\n",
            "Match up England vs India :\n",
            "Chances to win for Team England: 0.4176811869887769\n",
            "Chances to win for Team India: 0.5823188130112231\n",
            "Match up England vs Australia :\n",
            "Chances to win for Team England: 0.41637432445245093\n",
            "Chances to win for Team Australia: 0.5836256755475491\n",
            "Match up England vs Netherlands :\n",
            "Chances to win for Team England: 0.7917605697286577\n",
            "Chances to win for Team Netherlands: 0.2082394302713423\n",
            "Match up England vs Afghanistan :\n",
            "Chances to win for Team England: 0.5053606705153532\n",
            "Chances to win for Team Afghanistan: 0.4946393294846468\n",
            "Match up England vs New Zealand :\n",
            "Chances to win for Team England: 0.5182067595606383\n",
            "Chances to win for Team New Zealand: 0.4817932404393617\n",
            "Match up England vs Pakistan :\n",
            "Chances to win for Team England: 0.46451237571398346\n",
            "Chances to win for Team Pakistan: 0.5354876242860165\n",
            "Match up England vs Sri Lanka :\n",
            "Chances to win for Team England: 0.662301427709632\n",
            "Chances to win for Team Sri Lanka: 0.337698572290368\n",
            "Match up India vs Australia :\n",
            "Chances to win for Team India: 0.4986561329206711\n",
            "Chances to win for Team Australia: 0.5013438670793289\n",
            "Match up India vs Netherlands :\n",
            "Chances to win for Team India: 0.8412916523531433\n",
            "Chances to win for Team Netherlands: 0.1587083476468568\n",
            "Match up India vs Afghanistan :\n",
            "Chances to win for Team India: 0.5875249900039983\n",
            "Chances to win for Team Afghanistan: 0.4124750099960016\n",
            "Match up India vs New Zealand :\n",
            "Chances to win for Team India: 0.599926509614992\n",
            "Chances to win for Team New Zealand: 0.40007349038500806\n",
            "Match up India vs Pakistan :\n",
            "Chances to win for Team India: 0.5473848904783192\n",
            "Chances to win for Team Pakistan: 0.45261510952168077\n",
            "Match up India vs Sri Lanka :\n",
            "Chances to win for Team India: 0.732210484353199\n",
            "Chances to win for Team Sri Lanka: 0.26778951564680087\n",
            "Match up Australia vs Netherlands :\n",
            "Chances to win for Team Australia: 0.8420080705834075\n",
            "Chances to win for Team Netherlands: 0.1579919294165926\n",
            "Match up Australia vs Afghanistan :\n",
            "Chances to win for Team Australia: 0.5888270650319659\n",
            "Chances to win for Team Afghanistan: 0.41117293496803403\n",
            "Match up Australia vs New Zealand :\n",
            "Chances to win for Team Australia: 0.6012160083346221\n",
            "Chances to win for Team New Zealand: 0.39878399166537803\n",
            "Match up Australia vs Pakistan :\n",
            "Chances to win for Team Australia: 0.548716348725263\n",
            "Chances to win for Team Pakistan: 0.45128365127473696\n",
            "Match up Australia vs Sri Lanka :\n",
            "Chances to win for Team Australia: 0.7332631829733164\n",
            "Chances to win for Team Sri Lanka: 0.2667368170266836\n",
            "Match up Netherlands vs Afghanistan :\n",
            "Chances to win for Team Netherlands: 0.21179706601466994\n",
            "Chances to win for Team Afghanistan: 0.78820293398533\n",
            "Match up Netherlands vs New Zealand :\n",
            "Chances to win for Team Netherlands: 0.22050751730172616\n",
            "Chances to win for Team New Zealand: 0.7794924826982739\n",
            "Match up Netherlands vs Pakistan :\n",
            "Chances to win for Team Netherlands: 0.1857659831121834\n",
            "Chances to win for Team Pakistan: 0.8142340168878166\n",
            "Match up Netherlands vs Sri Lanka :\n",
            "Chances to win for Team Netherlands: 0.3402897127424503\n",
            "Chances to win for Team Sri Lanka: 0.6597102872575497\n",
            "Match up Afghanistan vs New Zealand :\n",
            "Chances to win for Team Afghanistan: 0.5128511061396966\n",
            "Chances to win for Team New Zealand: 0.4871488938603033\n",
            "Match up Afghanistan vs Pakistan :\n",
            "Chances to win for Team Afghanistan: 0.45918276506721273\n",
            "Chances to win for Team Pakistan: 0.5408172349327872\n",
            "Match up Afghanistan vs Sri Lanka :\n",
            "Chances to win for Team Afghanistan: 0.6574888463989803\n",
            "Chances to win for Team Sri Lanka: 0.34251115360101975\n",
            "Match up New Zealand vs Pakistan :\n",
            "Chances to win for Team New Zealand: 0.44644402934074456\n",
            "Chances to win for Team Pakistan: 0.5535559706592554\n",
            "Match up New Zealand vs Sri Lanka :\n",
            "Chances to win for Team New Zealand: 0.6458182297502143\n",
            "Chances to win for Team Sri Lanka: 0.35418177024978575\n",
            "Match up Pakistan vs Sri Lanka :\n",
            "Chances to win for Team Pakistan: 0.6933348550559233\n",
            "Chances to win for Team Sri Lanka: 0.30666514494407676\n",
            "nothing\n",
            "Enter your choice: "
          ]
        },
        {
          "name": "stdin",
          "output_type": "stream",
          "text": [
            "stdin>  2\n"
          ]
        },
        {
          "name": "stdout",
          "output_type": "stream",
          "text": [
            "\u001b[1m10×2 DataFrame\u001b[0m\n",
            "\u001b[1m Row \u001b[0m│\u001b[1m Team         \u001b[0m\u001b[1m Probable_Points \u001b[0m\n",
            "     │\u001b[90m String       \u001b[0m\u001b[90m Float64         \u001b[0m\n",
            "─────┼───────────────────────────────\n",
            "   1 │ Australia            11.2458\n",
            "   2 │ India                11.2215\n",
            "   3 │ South Africa         10.695\n",
            "   4 │ Pakistan             10.3468\n",
            "   5 │ England               9.67989\n",
            "   6 │ Afghanistan           9.57879\n",
            "   7 │ New Zealand           9.33607\n",
            "   8 │ Bangladesh            7.42733\n",
            "   9 │ Sri Lanka             6.5562\n",
            "  10 │ Netherlands           3.91267\n",
            "Enter your choice: "
          ]
        },
        {
          "name": "stdin",
          "output_type": "stream",
          "text": [
            "stdin>  3\n"
          ]
        },
        {
          "name": "stdout",
          "output_type": "stream",
          "text": [
            "[\"Australia\", \"India\", \"South Africa\", \"Pakistan\"]\n",
            "Enter your choice: "
          ]
        },
        {
          "name": "stdin",
          "output_type": "stream",
          "text": [
            "stdin>  4\n"
          ]
        },
        {
          "name": "stdout",
          "output_type": "stream",
          "text": [
            "Chance for Australia to win World Cup 2023: 0.3335739731807327\n",
            "Chance for India to win World Cup 2023: 0.33703457771564105\n",
            "Chance for South Africa to win World Cup 2023: 0.16260446251325983\n",
            "Chance for Pakistan to win World Cup 2023: 0.16678698659036634\n",
            "nothing\n",
            "Enter your choice: "
          ]
        },
        {
          "name": "stdin",
          "output_type": "stream",
          "text": [
            "stdin>  5\n"
          ]
        },
        {
          "name": "stdout",
          "output_type": "stream",
          "text": [
            "Probable top batsmen of the world cup\n",
            "Shubman Gill -------- India --- 107.70833333333333\n",
            "Rassie van der Dussen -------- South Africa --- 105.41666666666669\n",
            "David Warner -------- Australia --- 100.83333333333333\n",
            "Babar Azam -------- Pakistan --- 100.0\n",
            "Quinton de Kock -------- South Africa --- 96.25000000000001\n",
            "Heinrich Klaasen -------- South Africa --- 93.95833333333333\n",
            "Virat Kohli -------- India --- 91.66666666666669\n",
            "Imam-ul-Haq -------- Pakistan --- 89.58333333333334\n",
            "Rohit Sharma -------- India --- 89.37500000000001\n",
            "Steve Smith -------- Australia --- 84.79166666666669\n",
            "Temba Bavuma -------- South Africa --- 82.5\n",
            "Dawid Malan -------- England --- 80.20833333333333\n",
            "Fakhar Zaman -------- Pakistan --- 79.16666666666666\n",
            "David Miller -------- South Africa --- 77.91666666666669\n",
            "Jos Buttler -------- England --- 75.625\n",
            "Jason Roy -------- England --- 71.04166666666669\n",
            "Ibrahim Zadran -------- Afghanistan --- 66.66666666666666\n",
            "Jonny Bairstow -------- England --- 64.16666666666667\n",
            "Travis Head -------- Australia --- 61.87500000000001\n",
            "Shreyas Iyer -------- India --- 61.87500000000001\n",
            "Mushfiqur Rahim -------- Bangladesh --- 60.416666666666664\n",
            "Ishan Kishan -------- India --- 57.29166666666667\n",
            "Marnus Labuschagne -------- Australia --- 50.416666666666664\n",
            "Kane Williamson -------- New Zealand --- 50.0\n",
            "Pathum Nissanka -------- Sri Lanka --- 50.0\n",
            "Aiden Markram -------- South Africa --- 45.83333333333334\n",
            "Lokesh Rahul -------- India --- 43.541666666666664\n",
            "Joe Root -------- England --- 41.25\n",
            "Shakib Al Hasan -------- Bangladesh --- 37.5\n",
            "Tom Latham -------- New Zealand --- 37.5\n",
            "Alex Carey -------- Australia --- 34.375\n",
            "Rahmanullah Gurbaz -------- Afghanistan --- 29.166666666666668\n",
            "Ben Stokes -------- England --- 27.500000000000004\n",
            "Scott Edwards -------- Netherlands --- 27.083333333333332\n",
            "Rahmat Shah -------- Afghanistan --- 22.916666666666664\n",
            "Tamim Iqbal -------- Bangladesh --- 20.833333333333336\n",
            "Glenn Maxwell -------- Australia --- 18.333333333333332\n",
            "Daryl Mitchell -------- New Zealand --- 14.583333333333334\n",
            "Mohammad Rizwan -------- Pakistan --- 12.5\n",
            "Kusal Mendis -------- Sri Lanka --- 10.416666666666668\n",
            "Mitchell Marsh -------- Australia --- 9.166666666666666\n",
            "Litton Das -------- Bangladesh --- 8.333333333333332\n",
            "Hardik Pandya -------- India --- 4.583333333333333\n",
            "nothing\n",
            "Enter your choice: "
          ]
        },
        {
          "name": "stdin",
          "output_type": "stream",
          "text": [
            "stdin>  6\n"
          ]
        },
        {
          "name": "stdout",
          "output_type": "stream",
          "text": [
            "Probable top bowlers of the World Cup\n",
            "Josh Hazlewood -------- Australia --- 110.00000000000001\n",
            "Mohammed Siraj -------- India --- 110.00000000000001\n",
            "Mujeeb Ur Rahman -------- Afghanistan --- 103.71428571428571\n",
            "Rashid Khan -------- Afghanistan --- 100.57142857142858\n",
            "Trent Boult -------- New Zealand --- 97.42857142857143\n",
            "Adam Zampa -------- Australia --- 91.14285714285715\n",
            "Mitchell Starc -------- Australia --- 88.0\n",
            "Shaheen Afridi -------- Pakistan --- 85.71428571428571\n",
            "Matt Henry -------- New Zealand --- 84.85714285714288\n",
            "Mohammad Nabi -------- Afghanistan --- 81.71428571428572\n",
            "Kuldeep Yadav -------- India --- 78.57142857142858\n",
            "Chris Woakes -------- England --- 68.57142857142857\n",
            "Keshav Maharaj -------- South Africa --- 62.857142857142854\n",
            "Kagiso Rabada -------- South Africa --- 60.0\n",
            "Maheesh Theekshana -------- Sri Lanka --- 57.14285714285714\n",
            "Shakib Al Hasan -------- Bangladesh --- 54.285714285714285\n",
            "Lungi Ngidi -------- South Africa --- 45.714285714285715\n",
            "Haris Rauf -------- Pakistan --- 42.857142857142854\n",
            "Mustafizur Rahman -------- Bangladesh --- 40.0\n",
            "Jofra Archer -------- England --- 34.285714285714285\n",
            "Pat Cummins -------- Australia --- 31.42857142857143\n",
            "Mohammad Shami -------- India --- 31.42857142857143\n",
            "Jasprit Bumrah -------- India --- 25.142857142857146\n",
            "Tabraiz Shamsi -------- South Africa --- 14.285714285714285\n",
            "David Willey -------- England --- 8.571428571428571\n",
            "nothing\n",
            "Enter your choice: "
          ]
        },
        {
          "name": "stdin",
          "output_type": "stream",
          "text": [
            "stdin>  7\n"
          ]
        },
        {
          "name": "stdout",
          "output_type": "stream",
          "text": [
            "Invalid Option\n"
          ]
        }
      ],
      "source": [
        "using Readline_jll\n",
        "\n",
        "println(\"Welcome to ICC World Cup Predictor\")\n",
        "println(\"MENU\")\n",
        "println(\"1. Head to head predictions\")\n",
        "println(\"2. Points table\")\n",
        "println(\"3. Top 4 Teams\")\n",
        "println(\"4. Winner Probability Prediction\")\n",
        "println(\"5. Best Batsmen\")\n",
        "println(\"6. Best Bowlers\")\n",
        "\n",
        "\n",
        "while(true)\n",
        "    # Get user input\n",
        "    print(\"Enter your choice: \")\n",
        "    a_str = readline()\n",
        "    a = parse(Int, a_str)\n",
        "\n",
        "    option = string(a)\n",
        "    if option == \"1\"\n",
        "        println(matchups())\n",
        "        continue\n",
        "    elseif option == \"2\"\n",
        "        println(result)\n",
        "        continue\n",
        "    elseif option == \"3\"\n",
        "        println(top4_teams)\n",
        "        continue\n",
        "    elseif option == \"4\"\n",
        "        println(win_pred())\n",
        "        continue\n",
        "    elseif option == \"5\"\n",
        "        println(top_bat())\n",
        "        continue\n",
        "    elseif option == \"6\"\n",
        "        println(top_bowlers())\n",
        "        continue\n",
        "    else\n",
        "        println(\"Invalid Option\")\n",
        "        break\n",
        "    end\n",
        "end"
      ]
    }
  ],
  "metadata": {
    "jupytext": {
      "cell_metadata_filter": "-all",
      "main_language": "julia",
      "notebook_metadata_filter": "-all"
    },
    "kernelspec": {
      "display_name": "Julia 1.9.4",
      "language": "julia",
      "name": "julia-1.9"
    },
    "language_info": {
      "file_extension": ".jl",
      "mimetype": "application/julia",
      "name": "julia",
      "version": "1.9.4"
    },
    "colab": {
      "provenance": []
    }
  },
  "nbformat": 4,
  "nbformat_minor": 5
}